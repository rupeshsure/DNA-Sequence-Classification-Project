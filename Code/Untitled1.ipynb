{
 "cells": [
  {
   "cell_type": "code",
   "execution_count": 21,
   "id": "f7655f6d",
   "metadata": {},
   "outputs": [],
   "source": [
    "import numpy as np\n",
    "import pandas as pd\n",
    "import matplotlib.pyplot as plt\n",
    "%matplotlib inline  "
   ]
  },
  {
   "cell_type": "code",
   "execution_count": 26,
   "id": "d222e9d1",
   "metadata": {},
   "outputs": [
    {
     "data": {
      "text/html": [
       "<div>\n",
       "<style scoped>\n",
       "    .dataframe tbody tr th:only-of-type {\n",
       "        vertical-align: middle;\n",
       "    }\n",
       "\n",
       "    .dataframe tbody tr th {\n",
       "        vertical-align: top;\n",
       "    }\n",
       "\n",
       "    .dataframe thead th {\n",
       "        text-align: right;\n",
       "    }\n",
       "</style>\n",
       "<table border=\"1\" class=\"dataframe\">\n",
       "  <thead>\n",
       "    <tr style=\"text-align: right;\">\n",
       "      <th></th>\n",
       "      <th>Sequence</th>\n",
       "      <th>Outcome</th>\n",
       "    </tr>\n",
       "  </thead>\n",
       "  <tbody>\n",
       "    <tr>\n",
       "      <th>0</th>\n",
       "      <td>\\t\\ttgctatcctgacagttgtcacgctgattggtgtcgttacaat...</td>\n",
       "      <td>1</td>\n",
       "    </tr>\n",
       "    <tr>\n",
       "      <th>1</th>\n",
       "      <td>\\t\\tgtactagagaactagtgcattagcttatttttttgttatcat...</td>\n",
       "      <td>1</td>\n",
       "    </tr>\n",
       "    <tr>\n",
       "      <th>2</th>\n",
       "      <td>\\taattgtgatgtgtatcgaagtgtgttgcggagtagatgttagaa...</td>\n",
       "      <td>1</td>\n",
       "    </tr>\n",
       "    <tr>\n",
       "      <th>3</th>\n",
       "      <td>\\ttcgataattaactattgacgaaaagctgaaaaccactagaatgc...</td>\n",
       "      <td>1</td>\n",
       "    </tr>\n",
       "    <tr>\n",
       "      <th>4</th>\n",
       "      <td>\\taggggcaaggaggatggaaagaggttgccgtataaagaaactag...</td>\n",
       "      <td>1</td>\n",
       "    </tr>\n",
       "  </tbody>\n",
       "</table>\n",
       "</div>"
      ],
      "text/plain": [
       "                                            Sequence  Outcome\n",
       "0  \\t\\ttgctatcctgacagttgtcacgctgattggtgtcgttacaat...        1\n",
       "1  \\t\\tgtactagagaactagtgcattagcttatttttttgttatcat...        1\n",
       "2  \\taattgtgatgtgtatcgaagtgtgttgcggagtagatgttagaa...        1\n",
       "3  \\ttcgataattaactattgacgaaaagctgaaaaccactagaatgc...        1\n",
       "4  \\taggggcaaggaggatggaaagaggttgccgtataaagaaactag...        1"
      ]
     },
     "execution_count": 26,
     "metadata": {},
     "output_type": "execute_result"
    }
   ],
   "source": [
    "human_data = pd.read_csv('data.csv')\n",
    "human_data.head()"
   ]
  },
  {
   "cell_type": "code",
   "execution_count": 31,
   "id": "b2edee5d",
   "metadata": {},
   "outputs": [
    {
     "name": "stdout",
     "output_type": "stream",
     "text": [
      "0     1\n",
      "1     1\n",
      "2     1\n",
      "3     1\n",
      "4     1\n",
      "     ..\n",
      "94    0\n",
      "95    0\n",
      "96    0\n",
      "97    0\n",
      "98    0\n",
      "Name: Outcome, Length: 99, dtype: int64\n"
     ]
    }
   ],
   "source": [
    "classes = human_data.loc[:, 'Outcome']\n",
    "print(classes[:])"
   ]
  },
  {
   "cell_type": "code",
   "execution_count": 32,
   "id": "daadc9db",
   "metadata": {},
   "outputs": [
    {
     "name": "stdout",
     "output_type": "stream",
     "text": [
      "['t', 'g', 'c', 't', 'a', 't', 'c', 'c', 't', 'g', 'a', 'c', 'a', 'g', 't', 't', 'g', 't', 'c', 'a', 'c', 'g', 'c', 't', 'g', 'a', 't', 't', 'g', 'g', 't', 'g', 't', 'c', 'g', 't', 't', 'a', 'c', 'a', 'a', 't', 'c', 't', 'a', 'a', 'c', 'g', 'c', 'a', 't', 'c', 'g', 'c', 'c', 'a', 'a', 1]\n",
      "['t', 'g', 'c', 't', 'a', 't', 'c', 'c', 't', 'g', 'a', 'c', 'a', 'g', 't', 't', 'g', 't', 'c', 'a', 'c', 'g', 'c', 't', 'g', 'a', 't', 't', 'g', 'g', 't', 'g', 't', 'c', 'g', 't', 't', 'a', 'c', 'a', 'a', 't', 'c', 't', 'a', 'a', 'c', 'g', 'c', 'a', 't', 'c', 'g', 'c', 'c', 'a', 'a', 1]\n",
      "['t', 'g', 'c', 't', 'a', 't', 'c', 'c', 't', 'g', 'a', 'c', 'a', 'g', 't', 't', 'g', 't', 'c', 'a', 'c', 'g', 'c', 't', 'g', 'a', 't', 't', 'g', 'g', 't', 'g', 't', 'c', 'g', 't', 't', 'a', 'c', 'a', 'a', 't', 'c', 't', 'a', 'a', 'c', 'g', 'c', 'a', 't', 'c', 'g', 'c', 'c', 'a', 'a', 1]\n",
      "['t', 'g', 'c', 't', 'a', 't', 'c', 'c', 't', 'g', 'a', 'c', 'a', 'g', 't', 't', 'g', 't', 'c', 'a', 'c', 'g', 'c', 't', 'g', 'a', 't', 't', 'g', 'g', 't', 'g', 't', 'c', 'g', 't', 't', 'a', 'c', 'a', 'a', 't', 'c', 't', 'a', 'a', 'c', 'g', 'c', 'a', 't', 'c', 'g', 'c', 'c', 'a', 'a', 1]\n",
      "['t', 'g', 'c', 't', 'a', 't', 'c', 'c', 't', 'g', 'a', 'c', 'a', 'g', 't', 't', 'g', 't', 'c', 'a', 'c', 'g', 'c', 't', 'g', 'a', 't', 't', 'g', 'g', 't', 'g', 't', 'c', 'g', 't', 't', 'a', 'c', 'a', 'a', 't', 'c', 't', 'a', 'a', 'c', 'g', 'c', 'a', 't', 'c', 'g', 'c', 'c', 'a', 'a', 1]\n",
      "['t', 'g', 'c', 't', 'a', 't', 'c', 'c', 't', 'g', 'a', 'c', 'a', 'g', 't', 't', 'g', 't', 'c', 'a', 'c', 'g', 'c', 't', 'g', 'a', 't', 't', 'g', 'g', 't', 'g', 't', 'c', 'g', 't', 't', 'a', 'c', 'a', 'a', 't', 'c', 't', 'a', 'a', 'c', 'g', 'c', 'a', 't', 'c', 'g', 'c', 'c', 'a', 'a', 1]\n",
      "['t', 'g', 'c', 't', 'a', 't', 'c', 'c', 't', 'g', 'a', 'c', 'a', 'g', 't', 't', 'g', 't', 'c', 'a', 'c', 'g', 'c', 't', 'g', 'a', 't', 't', 'g', 'g', 't', 'g', 't', 'c', 'g', 't', 't', 'a', 'c', 'a', 'a', 't', 'c', 't', 'a', 'a', 'c', 'g', 'c', 'a', 't', 'c', 'g', 'c', 'c', 'a', 'a', 1]\n",
      "['t', 'g', 'c', 't', 'a', 't', 'c', 'c', 't', 'g', 'a', 'c', 'a', 'g', 't', 't', 'g', 't', 'c', 'a', 'c', 'g', 'c', 't', 'g', 'a', 't', 't', 'g', 'g', 't', 'g', 't', 'c', 'g', 't', 't', 'a', 'c', 'a', 'a', 't', 'c', 't', 'a', 'a', 'c', 'g', 'c', 'a', 't', 'c', 'g', 'c', 'c', 'a', 'a', 1]\n",
      "['t', 'g', 'c', 't', 'a', 't', 'c', 'c', 't', 'g', 'a', 'c', 'a', 'g', 't', 't', 'g', 't', 'c', 'a', 'c', 'g', 'c', 't', 'g', 'a', 't', 't', 'g', 'g', 't', 'g', 't', 'c', 'g', 't', 't', 'a', 'c', 'a', 'a', 't', 'c', 't', 'a', 'a', 'c', 'g', 'c', 'a', 't', 'c', 'g', 'c', 'c', 'a', 'a', 1]\n",
      "['t', 'g', 'c', 't', 'a', 't', 'c', 'c', 't', 'g', 'a', 'c', 'a', 'g', 't', 't', 'g', 't', 'c', 'a', 'c', 'g', 'c', 't', 'g', 'a', 't', 't', 'g', 'g', 't', 'g', 't', 'c', 'g', 't', 't', 'a', 'c', 'a', 'a', 't', 'c', 't', 'a', 'a', 'c', 'g', 'c', 'a', 't', 'c', 'g', 'c', 'c', 'a', 'a', 1]\n",
      "['t', 'g', 'c', 't', 'a', 't', 'c', 'c', 't', 'g', 'a', 'c', 'a', 'g', 't', 't', 'g', 't', 'c', 'a', 'c', 'g', 'c', 't', 'g', 'a', 't', 't', 'g', 'g', 't', 'g', 't', 'c', 'g', 't', 't', 'a', 'c', 'a', 'a', 't', 'c', 't', 'a', 'a', 'c', 'g', 'c', 'a', 't', 'c', 'g', 'c', 'c', 'a', 'a', 1]\n",
      "['t', 'g', 'c', 't', 'a', 't', 'c', 'c', 't', 'g', 'a', 'c', 'a', 'g', 't', 't', 'g', 't', 'c', 'a', 'c', 'g', 'c', 't', 'g', 'a', 't', 't', 'g', 'g', 't', 'g', 't', 'c', 'g', 't', 't', 'a', 'c', 'a', 'a', 't', 'c', 't', 'a', 'a', 'c', 'g', 'c', 'a', 't', 'c', 'g', 'c', 'c', 'a', 'a', 1]\n",
      "['t', 'g', 'c', 't', 'a', 't', 'c', 'c', 't', 'g', 'a', 'c', 'a', 'g', 't', 't', 'g', 't', 'c', 'a', 'c', 'g', 'c', 't', 'g', 'a', 't', 't', 'g', 'g', 't', 'g', 't', 'c', 'g', 't', 't', 'a', 'c', 'a', 'a', 't', 'c', 't', 'a', 'a', 'c', 'g', 'c', 'a', 't', 'c', 'g', 'c', 'c', 'a', 'a', 1]\n",
      "['t', 'g', 'c', 't', 'a', 't', 'c', 'c', 't', 'g', 'a', 'c', 'a', 'g', 't', 't', 'g', 't', 'c', 'a', 'c', 'g', 'c', 't', 'g', 'a', 't', 't', 'g', 'g', 't', 'g', 't', 'c', 'g', 't', 't', 'a', 'c', 'a', 'a', 't', 'c', 't', 'a', 'a', 'c', 'g', 'c', 'a', 't', 'c', 'g', 'c', 'c', 'a', 'a', 1]\n",
      "['t', 'g', 'c', 't', 'a', 't', 'c', 'c', 't', 'g', 'a', 'c', 'a', 'g', 't', 't', 'g', 't', 'c', 'a', 'c', 'g', 'c', 't', 'g', 'a', 't', 't', 'g', 'g', 't', 'g', 't', 'c', 'g', 't', 't', 'a', 'c', 'a', 'a', 't', 'c', 't', 'a', 'a', 'c', 'g', 'c', 'a', 't', 'c', 'g', 'c', 'c', 'a', 'a', 1]\n",
      "['t', 'g', 'c', 't', 'a', 't', 'c', 'c', 't', 'g', 'a', 'c', 'a', 'g', 't', 't', 'g', 't', 'c', 'a', 'c', 'g', 'c', 't', 'g', 'a', 't', 't', 'g', 'g', 't', 'g', 't', 'c', 'g', 't', 't', 'a', 'c', 'a', 'a', 't', 'c', 't', 'a', 'a', 'c', 'g', 'c', 'a', 't', 'c', 'g', 'c', 'c', 'a', 'a', 1]\n",
      "['t', 'g', 'c', 't', 'a', 't', 'c', 'c', 't', 'g', 'a', 'c', 'a', 'g', 't', 't', 'g', 't', 'c', 'a', 'c', 'g', 'c', 't', 'g', 'a', 't', 't', 'g', 'g', 't', 'g', 't', 'c', 'g', 't', 't', 'a', 'c', 'a', 'a', 't', 'c', 't', 'a', 'a', 'c', 'g', 'c', 'a', 't', 'c', 'g', 'c', 'c', 'a', 'a', 1]\n",
      "['t', 'g', 'c', 't', 'a', 't', 'c', 'c', 't', 'g', 'a', 'c', 'a', 'g', 't', 't', 'g', 't', 'c', 'a', 'c', 'g', 'c', 't', 'g', 'a', 't', 't', 'g', 'g', 't', 'g', 't', 'c', 'g', 't', 't', 'a', 'c', 'a', 'a', 't', 'c', 't', 'a', 'a', 'c', 'g', 'c', 'a', 't', 'c', 'g', 'c', 'c', 'a', 'a', 1]\n",
      "['t', 'g', 'c', 't', 'a', 't', 'c', 'c', 't', 'g', 'a', 'c', 'a', 'g', 't', 't', 'g', 't', 'c', 'a', 'c', 'g', 'c', 't', 'g', 'a', 't', 't', 'g', 'g', 't', 'g', 't', 'c', 'g', 't', 't', 'a', 'c', 'a', 'a', 't', 'c', 't', 'a', 'a', 'c', 'g', 'c', 'a', 't', 'c', 'g', 'c', 'c', 'a', 'a', 1]\n",
      "['t', 'g', 'c', 't', 'a', 't', 'c', 'c', 't', 'g', 'a', 'c', 'a', 'g', 't', 't', 'g', 't', 'c', 'a', 'c', 'g', 'c', 't', 'g', 'a', 't', 't', 'g', 'g', 't', 'g', 't', 'c', 'g', 't', 't', 'a', 'c', 'a', 'a', 't', 'c', 't', 'a', 'a', 'c', 'g', 'c', 'a', 't', 'c', 'g', 'c', 'c', 'a', 'a', 1]\n",
      "['t', 'g', 'c', 't', 'a', 't', 'c', 'c', 't', 'g', 'a', 'c', 'a', 'g', 't', 't', 'g', 't', 'c', 'a', 'c', 'g', 'c', 't', 'g', 'a', 't', 't', 'g', 'g', 't', 'g', 't', 'c', 'g', 't', 't', 'a', 'c', 'a', 'a', 't', 'c', 't', 'a', 'a', 'c', 'g', 'c', 'a', 't', 'c', 'g', 'c', 'c', 'a', 'a', 1]\n",
      "['t', 'g', 'c', 't', 'a', 't', 'c', 'c', 't', 'g', 'a', 'c', 'a', 'g', 't', 't', 'g', 't', 'c', 'a', 'c', 'g', 'c', 't', 'g', 'a', 't', 't', 'g', 'g', 't', 'g', 't', 'c', 'g', 't', 't', 'a', 'c', 'a', 'a', 't', 'c', 't', 'a', 'a', 'c', 'g', 'c', 'a', 't', 'c', 'g', 'c', 'c', 'a', 'a', 1]\n",
      "['t', 'g', 'c', 't', 'a', 't', 'c', 'c', 't', 'g', 'a', 'c', 'a', 'g', 't', 't', 'g', 't', 'c', 'a', 'c', 'g', 'c', 't', 'g', 'a', 't', 't', 'g', 'g', 't', 'g', 't', 'c', 'g', 't', 't', 'a', 'c', 'a', 'a', 't', 'c', 't', 'a', 'a', 'c', 'g', 'c', 'a', 't', 'c', 'g', 'c', 'c', 'a', 'a', 1]\n",
      "['t', 'g', 'c', 't', 'a', 't', 'c', 'c', 't', 'g', 'a', 'c', 'a', 'g', 't', 't', 'g', 't', 'c', 'a', 'c', 'g', 'c', 't', 'g', 'a', 't', 't', 'g', 'g', 't', 'g', 't', 'c', 'g', 't', 't', 'a', 'c', 'a', 'a', 't', 'c', 't', 'a', 'a', 'c', 'g', 'c', 'a', 't', 'c', 'g', 'c', 'c', 'a', 'a', 1]\n",
      "['t', 'g', 'c', 't', 'a', 't', 'c', 'c', 't', 'g', 'a', 'c', 'a', 'g', 't', 't', 'g', 't', 'c', 'a', 'c', 'g', 'c', 't', 'g', 'a', 't', 't', 'g', 'g', 't', 'g', 't', 'c', 'g', 't', 't', 'a', 'c', 'a', 'a', 't', 'c', 't', 'a', 'a', 'c', 'g', 'c', 'a', 't', 'c', 'g', 'c', 'c', 'a', 'a', 1]\n",
      "['t', 'g', 'c', 't', 'a', 't', 'c', 'c', 't', 'g', 'a', 'c', 'a', 'g', 't', 't', 'g', 't', 'c', 'a', 'c', 'g', 'c', 't', 'g', 'a', 't', 't', 'g', 'g', 't', 'g', 't', 'c', 'g', 't', 't', 'a', 'c', 'a', 'a', 't', 'c', 't', 'a', 'a', 'c', 'g', 'c', 'a', 't', 'c', 'g', 'c', 'c', 'a', 'a', 1]\n",
      "['t', 'g', 'c', 't', 'a', 't', 'c', 'c', 't', 'g', 'a', 'c', 'a', 'g', 't', 't', 'g', 't', 'c', 'a', 'c', 'g', 'c', 't', 'g', 'a', 't', 't', 'g', 'g', 't', 'g', 't', 'c', 'g', 't', 't', 'a', 'c', 'a', 'a', 't', 'c', 't', 'a', 'a', 'c', 'g', 'c', 'a', 't', 'c', 'g', 'c', 'c', 'a', 'a', 1]\n",
      "['t', 'g', 'c', 't', 'a', 't', 'c', 'c', 't', 'g', 'a', 'c', 'a', 'g', 't', 't', 'g', 't', 'c', 'a', 'c', 'g', 'c', 't', 'g', 'a', 't', 't', 'g', 'g', 't', 'g', 't', 'c', 'g', 't', 't', 'a', 'c', 'a', 'a', 't', 'c', 't', 'a', 'a', 'c', 'g', 'c', 'a', 't', 'c', 'g', 'c', 'c', 'a', 'a', 1]\n",
      "['t', 'g', 'c', 't', 'a', 't', 'c', 'c', 't', 'g', 'a', 'c', 'a', 'g', 't', 't', 'g', 't', 'c', 'a', 'c', 'g', 'c', 't', 'g', 'a', 't', 't', 'g', 'g', 't', 'g', 't', 'c', 'g', 't', 't', 'a', 'c', 'a', 'a', 't', 'c', 't', 'a', 'a', 'c', 'g', 'c', 'a', 't', 'c', 'g', 'c', 'c', 'a', 'a', 1]\n",
      "['t', 'g', 'c', 't', 'a', 't', 'c', 'c', 't', 'g', 'a', 'c', 'a', 'g', 't', 't', 'g', 't', 'c', 'a', 'c', 'g', 'c', 't', 'g', 'a', 't', 't', 'g', 'g', 't', 'g', 't', 'c', 'g', 't', 't', 'a', 'c', 'a', 'a', 't', 'c', 't', 'a', 'a', 'c', 'g', 'c', 'a', 't', 'c', 'g', 'c', 'c', 'a', 'a', 1]\n",
      "['t', 'g', 'c', 't', 'a', 't', 'c', 'c', 't', 'g', 'a', 'c', 'a', 'g', 't', 't', 'g', 't', 'c', 'a', 'c', 'g', 'c', 't', 'g', 'a', 't', 't', 'g', 'g', 't', 'g', 't', 'c', 'g', 't', 't', 'a', 'c', 'a', 'a', 't', 'c', 't', 'a', 'a', 'c', 'g', 'c', 'a', 't', 'c', 'g', 'c', 'c', 'a', 'a', 1]\n",
      "['t', 'g', 'c', 't', 'a', 't', 'c', 'c', 't', 'g', 'a', 'c', 'a', 'g', 't', 't', 'g', 't', 'c', 'a', 'c', 'g', 'c', 't', 'g', 'a', 't', 't', 'g', 'g', 't', 'g', 't', 'c', 'g', 't', 't', 'a', 'c', 'a', 'a', 't', 'c', 't', 'a', 'a', 'c', 'g', 'c', 'a', 't', 'c', 'g', 'c', 'c', 'a', 'a', 1]\n",
      "['t', 'g', 'c', 't', 'a', 't', 'c', 'c', 't', 'g', 'a', 'c', 'a', 'g', 't', 't', 'g', 't', 'c', 'a', 'c', 'g', 'c', 't', 'g', 'a', 't', 't', 'g', 'g', 't', 'g', 't', 'c', 'g', 't', 't', 'a', 'c', 'a', 'a', 't', 'c', 't', 'a', 'a', 'c', 'g', 'c', 'a', 't', 'c', 'g', 'c', 'c', 'a', 'a', 1]\n",
      "['t', 'g', 'c', 't', 'a', 't', 'c', 'c', 't', 'g', 'a', 'c', 'a', 'g', 't', 't', 'g', 't', 'c', 'a', 'c', 'g', 'c', 't', 'g', 'a', 't', 't', 'g', 'g', 't', 'g', 't', 'c', 'g', 't', 't', 'a', 'c', 'a', 'a', 't', 'c', 't', 'a', 'a', 'c', 'g', 'c', 'a', 't', 'c', 'g', 'c', 'c', 'a', 'a', 1]\n",
      "['t', 'g', 'c', 't', 'a', 't', 'c', 'c', 't', 'g', 'a', 'c', 'a', 'g', 't', 't', 'g', 't', 'c', 'a', 'c', 'g', 'c', 't', 'g', 'a', 't', 't', 'g', 'g', 't', 'g', 't', 'c', 'g', 't', 't', 'a', 'c', 'a', 'a', 't', 'c', 't', 'a', 'a', 'c', 'g', 'c', 'a', 't', 'c', 'g', 'c', 'c', 'a', 'a', 1]\n",
      "['t', 'g', 'c', 't', 'a', 't', 'c', 'c', 't', 'g', 'a', 'c', 'a', 'g', 't', 't', 'g', 't', 'c', 'a', 'c', 'g', 'c', 't', 'g', 'a', 't', 't', 'g', 'g', 't', 'g', 't', 'c', 'g', 't', 't', 'a', 'c', 'a', 'a', 't', 'c', 't', 'a', 'a', 'c', 'g', 'c', 'a', 't', 'c', 'g', 'c', 'c', 'a', 'a', 1]\n",
      "['t', 'g', 'c', 't', 'a', 't', 'c', 'c', 't', 'g', 'a', 'c', 'a', 'g', 't', 't', 'g', 't', 'c', 'a', 'c', 'g', 'c', 't', 'g', 'a', 't', 't', 'g', 'g', 't', 'g', 't', 'c', 'g', 't', 't', 'a', 'c', 'a', 'a', 't', 'c', 't', 'a', 'a', 'c', 'g', 'c', 'a', 't', 'c', 'g', 'c', 'c', 'a', 'a', 1]\n",
      "['t', 'g', 'c', 't', 'a', 't', 'c', 'c', 't', 'g', 'a', 'c', 'a', 'g', 't', 't', 'g', 't', 'c', 'a', 'c', 'g', 'c', 't', 'g', 'a', 't', 't', 'g', 'g', 't', 'g', 't', 'c', 'g', 't', 't', 'a', 'c', 'a', 'a', 't', 'c', 't', 'a', 'a', 'c', 'g', 'c', 'a', 't', 'c', 'g', 'c', 'c', 'a', 'a', 1]\n",
      "['t', 'g', 'c', 't', 'a', 't', 'c', 'c', 't', 'g', 'a', 'c', 'a', 'g', 't', 't', 'g', 't', 'c', 'a', 'c', 'g', 'c', 't', 'g', 'a', 't', 't', 'g', 'g', 't', 'g', 't', 'c', 'g', 't', 't', 'a', 'c', 'a', 'a', 't', 'c', 't', 'a', 'a', 'c', 'g', 'c', 'a', 't', 'c', 'g', 'c', 'c', 'a', 'a', 1]\n",
      "['t', 'g', 'c', 't', 'a', 't', 'c', 'c', 't', 'g', 'a', 'c', 'a', 'g', 't', 't', 'g', 't', 'c', 'a', 'c', 'g', 'c', 't', 'g', 'a', 't', 't', 'g', 'g', 't', 'g', 't', 'c', 'g', 't', 't', 'a', 'c', 'a', 'a', 't', 'c', 't', 'a', 'a', 'c', 'g', 'c', 'a', 't', 'c', 'g', 'c', 'c', 'a', 'a', 1]\n",
      "['t', 'g', 'c', 't', 'a', 't', 'c', 'c', 't', 'g', 'a', 'c', 'a', 'g', 't', 't', 'g', 't', 'c', 'a', 'c', 'g', 'c', 't', 'g', 'a', 't', 't', 'g', 'g', 't', 'g', 't', 'c', 'g', 't', 't', 'a', 'c', 'a', 'a', 't', 'c', 't', 'a', 'a', 'c', 'g', 'c', 'a', 't', 'c', 'g', 'c', 'c', 'a', 'a', 1]\n",
      "['t', 'g', 'c', 't', 'a', 't', 'c', 'c', 't', 'g', 'a', 'c', 'a', 'g', 't', 't', 'g', 't', 'c', 'a', 'c', 'g', 'c', 't', 'g', 'a', 't', 't', 'g', 'g', 't', 'g', 't', 'c', 'g', 't', 't', 'a', 'c', 'a', 'a', 't', 'c', 't', 'a', 'a', 'c', 'g', 'c', 'a', 't', 'c', 'g', 'c', 'c', 'a', 'a', 1]\n",
      "['t', 'g', 'c', 't', 'a', 't', 'c', 'c', 't', 'g', 'a', 'c', 'a', 'g', 't', 't', 'g', 't', 'c', 'a', 'c', 'g', 'c', 't', 'g', 'a', 't', 't', 'g', 'g', 't', 'g', 't', 'c', 'g', 't', 't', 'a', 'c', 'a', 'a', 't', 'c', 't', 'a', 'a', 'c', 'g', 'c', 'a', 't', 'c', 'g', 'c', 'c', 'a', 'a', 1]\n",
      "['t', 'g', 'c', 't', 'a', 't', 'c', 'c', 't', 'g', 'a', 'c', 'a', 'g', 't', 't', 'g', 't', 'c', 'a', 'c', 'g', 'c', 't', 'g', 'a', 't', 't', 'g', 'g', 't', 'g', 't', 'c', 'g', 't', 't', 'a', 'c', 'a', 'a', 't', 'c', 't', 'a', 'a', 'c', 'g', 'c', 'a', 't', 'c', 'g', 'c', 'c', 'a', 'a', 1]\n",
      "['t', 'g', 'c', 't', 'a', 't', 'c', 'c', 't', 'g', 'a', 'c', 'a', 'g', 't', 't', 'g', 't', 'c', 'a', 'c', 'g', 'c', 't', 'g', 'a', 't', 't', 'g', 'g', 't', 'g', 't', 'c', 'g', 't', 't', 'a', 'c', 'a', 'a', 't', 'c', 't', 'a', 'a', 'c', 'g', 'c', 'a', 't', 'c', 'g', 'c', 'c', 'a', 'a', 1]\n",
      "['t', 'g', 'c', 't', 'a', 't', 'c', 'c', 't', 'g', 'a', 'c', 'a', 'g', 't', 't', 'g', 't', 'c', 'a', 'c', 'g', 'c', 't', 'g', 'a', 't', 't', 'g', 'g', 't', 'g', 't', 'c', 'g', 't', 't', 'a', 'c', 'a', 'a', 't', 'c', 't', 'a', 'a', 'c', 'g', 'c', 'a', 't', 'c', 'g', 'c', 'c', 'a', 'a', 1]\n",
      "['t', 'g', 'c', 't', 'a', 't', 'c', 'c', 't', 'g', 'a', 'c', 'a', 'g', 't', 't', 'g', 't', 'c', 'a', 'c', 'g', 'c', 't', 'g', 'a', 't', 't', 'g', 'g', 't', 'g', 't', 'c', 'g', 't', 't', 'a', 'c', 'a', 'a', 't', 'c', 't', 'a', 'a', 'c', 'g', 'c', 'a', 't', 'c', 'g', 'c', 'c', 'a', 'a', 1]\n",
      "['t', 'g', 'c', 't', 'a', 't', 'c', 'c', 't', 'g', 'a', 'c', 'a', 'g', 't', 't', 'g', 't', 'c', 'a', 'c', 'g', 'c', 't', 'g', 'a', 't', 't', 'g', 'g', 't', 'g', 't', 'c', 'g', 't', 't', 'a', 'c', 'a', 'a', 't', 'c', 't', 'a', 'a', 'c', 'g', 'c', 'a', 't', 'c', 'g', 'c', 'c', 'a', 'a', 1]\n",
      "['t', 'g', 'c', 't', 'a', 't', 'c', 'c', 't', 'g', 'a', 'c', 'a', 'g', 't', 't', 'g', 't', 'c', 'a', 'c', 'g', 'c', 't', 'g', 'a', 't', 't', 'g', 'g', 't', 'g', 't', 'c', 'g', 't', 't', 'a', 'c', 'a', 'a', 't', 'c', 't', 'a', 'a', 'c', 'g', 'c', 'a', 't', 'c', 'g', 'c', 'c', 'a', 'a', 1]\n",
      "['t', 'g', 'c', 't', 'a', 't', 'c', 'c', 't', 'g', 'a', 'c', 'a', 'g', 't', 't', 'g', 't', 'c', 'a', 'c', 'g', 'c', 't', 'g', 'a', 't', 't', 'g', 'g', 't', 'g', 't', 'c', 'g', 't', 't', 'a', 'c', 'a', 'a', 't', 'c', 't', 'a', 'a', 'c', 'g', 'c', 'a', 't', 'c', 'g', 'c', 'c', 'a', 'a', 1]\n",
      "['t', 'g', 'c', 't', 'a', 't', 'c', 'c', 't', 'g', 'a', 'c', 'a', 'g', 't', 't', 'g', 't', 'c', 'a', 'c', 'g', 'c', 't', 'g', 'a', 't', 't', 'g', 'g', 't', 'g', 't', 'c', 'g', 't', 't', 'a', 'c', 'a', 'a', 't', 'c', 't', 'a', 'a', 'c', 'g', 'c', 'a', 't', 'c', 'g', 'c', 'c', 'a', 'a', 1]\n",
      "['t', 'g', 'c', 't', 'a', 't', 'c', 'c', 't', 'g', 'a', 'c', 'a', 'g', 't', 't', 'g', 't', 'c', 'a', 'c', 'g', 'c', 't', 'g', 'a', 't', 't', 'g', 'g', 't', 'g', 't', 'c', 'g', 't', 't', 'a', 'c', 'a', 'a', 't', 'c', 't', 'a', 'a', 'c', 'g', 'c', 'a', 't', 'c', 'g', 'c', 'c', 'a', 'a', 1]\n",
      "['t', 'g', 'c', 't', 'a', 't', 'c', 'c', 't', 'g', 'a', 'c', 'a', 'g', 't', 't', 'g', 't', 'c', 'a', 'c', 'g', 'c', 't', 'g', 'a', 't', 't', 'g', 'g', 't', 'g', 't', 'c', 'g', 't', 't', 'a', 'c', 'a', 'a', 't', 'c', 't', 'a', 'a', 'c', 'g', 'c', 'a', 't', 'c', 'g', 'c', 'c', 'a', 'a', 1]\n",
      "['t', 'g', 'c', 't', 'a', 't', 'c', 'c', 't', 'g', 'a', 'c', 'a', 'g', 't', 't', 'g', 't', 'c', 'a', 'c', 'g', 'c', 't', 'g', 'a', 't', 't', 'g', 'g', 't', 'g', 't', 'c', 'g', 't', 't', 'a', 'c', 'a', 'a', 't', 'c', 't', 'a', 'a', 'c', 'g', 'c', 'a', 't', 'c', 'g', 'c', 'c', 'a', 'a', 1]\n",
      "['t', 'g', 'c', 't', 'a', 't', 'c', 'c', 't', 'g', 'a', 'c', 'a', 'g', 't', 't', 'g', 't', 'c', 'a', 'c', 'g', 'c', 't', 'g', 'a', 't', 't', 'g', 'g', 't', 'g', 't', 'c', 'g', 't', 't', 'a', 'c', 'a', 'a', 't', 'c', 't', 'a', 'a', 'c', 'g', 'c', 'a', 't', 'c', 'g', 'c', 'c', 'a', 'a', 1]\n",
      "['t', 'g', 'c', 't', 'a', 't', 'c', 'c', 't', 'g', 'a', 'c', 'a', 'g', 't', 't', 'g', 't', 'c', 'a', 'c', 'g', 'c', 't', 'g', 'a', 't', 't', 'g', 'g', 't', 'g', 't', 'c', 'g', 't', 't', 'a', 'c', 'a', 'a', 't', 'c', 't', 'a', 'a', 'c', 'g', 'c', 'a', 't', 'c', 'g', 'c', 'c', 'a', 'a', 1]\n",
      "['t', 'g', 'c', 't', 'a', 't', 'c', 'c', 't', 'g', 'a', 'c', 'a', 'g', 't', 't', 'g', 't', 'c', 'a', 'c', 'g', 'c', 't', 'g', 'a', 't', 't', 'g', 'g', 't', 'g', 't', 'c', 'g', 't', 't', 'a', 'c', 'a', 'a', 't', 'c', 't', 'a', 'a', 'c', 'g', 'c', 'a', 't', 'c', 'g', 'c', 'c', 'a', 'a', 1]\n",
      "['t', 'g', 'c', 't', 'a', 't', 'c', 'c', 't', 'g', 'a', 'c', 'a', 'g', 't', 't', 'g', 't', 'c', 'a', 'c', 'g', 'c', 't', 'g', 'a', 't', 't', 'g', 'g', 't', 'g', 't', 'c', 'g', 't', 't', 'a', 'c', 'a', 'a', 't', 'c', 't', 'a', 'a', 'c', 'g', 'c', 'a', 't', 'c', 'g', 'c', 'c', 'a', 'a', 1]\n",
      "['t', 'g', 'c', 't', 'a', 't', 'c', 'c', 't', 'g', 'a', 'c', 'a', 'g', 't', 't', 'g', 't', 'c', 'a', 'c', 'g', 'c', 't', 'g', 'a', 't', 't', 'g', 'g', 't', 'g', 't', 'c', 'g', 't', 't', 'a', 'c', 'a', 'a', 't', 'c', 't', 'a', 'a', 'c', 'g', 'c', 'a', 't', 'c', 'g', 'c', 'c', 'a', 'a', 1]\n",
      "['t', 'g', 'c', 't', 'a', 't', 'c', 'c', 't', 'g', 'a', 'c', 'a', 'g', 't', 't', 'g', 't', 'c', 'a', 'c', 'g', 'c', 't', 'g', 'a', 't', 't', 'g', 'g', 't', 'g', 't', 'c', 'g', 't', 't', 'a', 'c', 'a', 'a', 't', 'c', 't', 'a', 'a', 'c', 'g', 'c', 'a', 't', 'c', 'g', 'c', 'c', 'a', 'a', 1]\n",
      "['t', 'g', 'c', 't', 'a', 't', 'c', 'c', 't', 'g', 'a', 'c', 'a', 'g', 't', 't', 'g', 't', 'c', 'a', 'c', 'g', 'c', 't', 'g', 'a', 't', 't', 'g', 'g', 't', 'g', 't', 'c', 'g', 't', 't', 'a', 'c', 'a', 'a', 't', 'c', 't', 'a', 'a', 'c', 'g', 'c', 'a', 't', 'c', 'g', 'c', 'c', 'a', 'a', 1]\n",
      "['t', 'g', 'c', 't', 'a', 't', 'c', 'c', 't', 'g', 'a', 'c', 'a', 'g', 't', 't', 'g', 't', 'c', 'a', 'c', 'g', 'c', 't', 'g', 'a', 't', 't', 'g', 'g', 't', 'g', 't', 'c', 'g', 't', 't', 'a', 'c', 'a', 'a', 't', 'c', 't', 'a', 'a', 'c', 'g', 'c', 'a', 't', 'c', 'g', 'c', 'c', 'a', 'a', 1]\n",
      "['t', 'g', 'c', 't', 'a', 't', 'c', 'c', 't', 'g', 'a', 'c', 'a', 'g', 't', 't', 'g', 't', 'c', 'a', 'c', 'g', 'c', 't', 'g', 'a', 't', 't', 'g', 'g', 't', 'g', 't', 'c', 'g', 't', 't', 'a', 'c', 'a', 'a', 't', 'c', 't', 'a', 'a', 'c', 'g', 'c', 'a', 't', 'c', 'g', 'c', 'c', 'a', 'a', 1]\n",
      "['t', 'g', 'c', 't', 'a', 't', 'c', 'c', 't', 'g', 'a', 'c', 'a', 'g', 't', 't', 'g', 't', 'c', 'a', 'c', 'g', 'c', 't', 'g', 'a', 't', 't', 'g', 'g', 't', 'g', 't', 'c', 'g', 't', 't', 'a', 'c', 'a', 'a', 't', 'c', 't', 'a', 'a', 'c', 'g', 'c', 'a', 't', 'c', 'g', 'c', 'c', 'a', 'a', 1]\n",
      "['t', 'g', 'c', 't', 'a', 't', 'c', 'c', 't', 'g', 'a', 'c', 'a', 'g', 't', 't', 'g', 't', 'c', 'a', 'c', 'g', 'c', 't', 'g', 'a', 't', 't', 'g', 'g', 't', 'g', 't', 'c', 'g', 't', 't', 'a', 'c', 'a', 'a', 't', 'c', 't', 'a', 'a', 'c', 'g', 'c', 'a', 't', 'c', 'g', 'c', 'c', 'a', 'a', 1]\n",
      "['t', 'g', 'c', 't', 'a', 't', 'c', 'c', 't', 'g', 'a', 'c', 'a', 'g', 't', 't', 'g', 't', 'c', 'a', 'c', 'g', 'c', 't', 'g', 'a', 't', 't', 'g', 'g', 't', 'g', 't', 'c', 'g', 't', 't', 'a', 'c', 'a', 'a', 't', 'c', 't', 'a', 'a', 'c', 'g', 'c', 'a', 't', 'c', 'g', 'c', 'c', 'a', 'a', 1]\n",
      "['t', 'g', 'c', 't', 'a', 't', 'c', 'c', 't', 'g', 'a', 'c', 'a', 'g', 't', 't', 'g', 't', 'c', 'a', 'c', 'g', 'c', 't', 'g', 'a', 't', 't', 'g', 'g', 't', 'g', 't', 'c', 'g', 't', 't', 'a', 'c', 'a', 'a', 't', 'c', 't', 'a', 'a', 'c', 'g', 'c', 'a', 't', 'c', 'g', 'c', 'c', 'a', 'a', 1]\n",
      "['t', 'g', 'c', 't', 'a', 't', 'c', 'c', 't', 'g', 'a', 'c', 'a', 'g', 't', 't', 'g', 't', 'c', 'a', 'c', 'g', 'c', 't', 'g', 'a', 't', 't', 'g', 'g', 't', 'g', 't', 'c', 'g', 't', 't', 'a', 'c', 'a', 'a', 't', 'c', 't', 'a', 'a', 'c', 'g', 'c', 'a', 't', 'c', 'g', 'c', 'c', 'a', 'a', 1]\n",
      "['t', 'g', 'c', 't', 'a', 't', 'c', 'c', 't', 'g', 'a', 'c', 'a', 'g', 't', 't', 'g', 't', 'c', 'a', 'c', 'g', 'c', 't', 'g', 'a', 't', 't', 'g', 'g', 't', 'g', 't', 'c', 'g', 't', 't', 'a', 'c', 'a', 'a', 't', 'c', 't', 'a', 'a', 'c', 'g', 'c', 'a', 't', 'c', 'g', 'c', 'c', 'a', 'a', 1]\n",
      "['t', 'g', 'c', 't', 'a', 't', 'c', 'c', 't', 'g', 'a', 'c', 'a', 'g', 't', 't', 'g', 't', 'c', 'a', 'c', 'g', 'c', 't', 'g', 'a', 't', 't', 'g', 'g', 't', 'g', 't', 'c', 'g', 't', 't', 'a', 'c', 'a', 'a', 't', 'c', 't', 'a', 'a', 'c', 'g', 'c', 'a', 't', 'c', 'g', 'c', 'c', 'a', 'a', 1]\n",
      "['t', 'g', 'c', 't', 'a', 't', 'c', 'c', 't', 'g', 'a', 'c', 'a', 'g', 't', 't', 'g', 't', 'c', 'a', 'c', 'g', 'c', 't', 'g', 'a', 't', 't', 'g', 'g', 't', 'g', 't', 'c', 'g', 't', 't', 'a', 'c', 'a', 'a', 't', 'c', 't', 'a', 'a', 'c', 'g', 'c', 'a', 't', 'c', 'g', 'c', 'c', 'a', 'a', 1]\n",
      "['t', 'g', 'c', 't', 'a', 't', 'c', 'c', 't', 'g', 'a', 'c', 'a', 'g', 't', 't', 'g', 't', 'c', 'a', 'c', 'g', 'c', 't', 'g', 'a', 't', 't', 'g', 'g', 't', 'g', 't', 'c', 'g', 't', 't', 'a', 'c', 'a', 'a', 't', 'c', 't', 'a', 'a', 'c', 'g', 'c', 'a', 't', 'c', 'g', 'c', 'c', 'a', 'a', 1]\n",
      "['t', 'g', 'c', 't', 'a', 't', 'c', 'c', 't', 'g', 'a', 'c', 'a', 'g', 't', 't', 'g', 't', 'c', 'a', 'c', 'g', 'c', 't', 'g', 'a', 't', 't', 'g', 'g', 't', 'g', 't', 'c', 'g', 't', 't', 'a', 'c', 'a', 'a', 't', 'c', 't', 'a', 'a', 'c', 'g', 'c', 'a', 't', 'c', 'g', 'c', 'c', 'a', 'a', 1]\n",
      "['t', 'g', 'c', 't', 'a', 't', 'c', 'c', 't', 'g', 'a', 'c', 'a', 'g', 't', 't', 'g', 't', 'c', 'a', 'c', 'g', 'c', 't', 'g', 'a', 't', 't', 'g', 'g', 't', 'g', 't', 'c', 'g', 't', 't', 'a', 'c', 'a', 'a', 't', 'c', 't', 'a', 'a', 'c', 'g', 'c', 'a', 't', 'c', 'g', 'c', 'c', 'a', 'a', 1]\n",
      "['t', 'g', 'c', 't', 'a', 't', 'c', 'c', 't', 'g', 'a', 'c', 'a', 'g', 't', 't', 'g', 't', 'c', 'a', 'c', 'g', 'c', 't', 'g', 'a', 't', 't', 'g', 'g', 't', 'g', 't', 'c', 'g', 't', 't', 'a', 'c', 'a', 'a', 't', 'c', 't', 'a', 'a', 'c', 'g', 'c', 'a', 't', 'c', 'g', 'c', 'c', 'a', 'a', 1]\n",
      "['t', 'g', 'c', 't', 'a', 't', 'c', 'c', 't', 'g', 'a', 'c', 'a', 'g', 't', 't', 'g', 't', 'c', 'a', 'c', 'g', 'c', 't', 'g', 'a', 't', 't', 'g', 'g', 't', 'g', 't', 'c', 'g', 't', 't', 'a', 'c', 'a', 'a', 't', 'c', 't', 'a', 'a', 'c', 'g', 'c', 'a', 't', 'c', 'g', 'c', 'c', 'a', 'a', 1]\n",
      "['t', 'g', 'c', 't', 'a', 't', 'c', 'c', 't', 'g', 'a', 'c', 'a', 'g', 't', 't', 'g', 't', 'c', 'a', 'c', 'g', 'c', 't', 'g', 'a', 't', 't', 'g', 'g', 't', 'g', 't', 'c', 'g', 't', 't', 'a', 'c', 'a', 'a', 't', 'c', 't', 'a', 'a', 'c', 'g', 'c', 'a', 't', 'c', 'g', 'c', 'c', 'a', 'a', 1]\n",
      "['t', 'g', 'c', 't', 'a', 't', 'c', 'c', 't', 'g', 'a', 'c', 'a', 'g', 't', 't', 'g', 't', 'c', 'a', 'c', 'g', 'c', 't', 'g', 'a', 't', 't', 'g', 'g', 't', 'g', 't', 'c', 'g', 't', 't', 'a', 'c', 'a', 'a', 't', 'c', 't', 'a', 'a', 'c', 'g', 'c', 'a', 't', 'c', 'g', 'c', 'c', 'a', 'a', 1]\n",
      "['t', 'g', 'c', 't', 'a', 't', 'c', 'c', 't', 'g', 'a', 'c', 'a', 'g', 't', 't', 'g', 't', 'c', 'a', 'c', 'g', 'c', 't', 'g', 'a', 't', 't', 'g', 'g', 't', 'g', 't', 'c', 'g', 't', 't', 'a', 'c', 'a', 'a', 't', 'c', 't', 'a', 'a', 'c', 'g', 'c', 'a', 't', 'c', 'g', 'c', 'c', 'a', 'a', 1]\n",
      "['t', 'g', 'c', 't', 'a', 't', 'c', 'c', 't', 'g', 'a', 'c', 'a', 'g', 't', 't', 'g', 't', 'c', 'a', 'c', 'g', 'c', 't', 'g', 'a', 't', 't', 'g', 'g', 't', 'g', 't', 'c', 'g', 't', 't', 'a', 'c', 'a', 'a', 't', 'c', 't', 'a', 'a', 'c', 'g', 'c', 'a', 't', 'c', 'g', 'c', 'c', 'a', 'a', 1]\n",
      "['t', 'g', 'c', 't', 'a', 't', 'c', 'c', 't', 'g', 'a', 'c', 'a', 'g', 't', 't', 'g', 't', 'c', 'a', 'c', 'g', 'c', 't', 'g', 'a', 't', 't', 'g', 'g', 't', 'g', 't', 'c', 'g', 't', 't', 'a', 'c', 'a', 'a', 't', 'c', 't', 'a', 'a', 'c', 'g', 'c', 'a', 't', 'c', 'g', 'c', 'c', 'a', 'a', 1]\n",
      "['t', 'g', 'c', 't', 'a', 't', 'c', 'c', 't', 'g', 'a', 'c', 'a', 'g', 't', 't', 'g', 't', 'c', 'a', 'c', 'g', 'c', 't', 'g', 'a', 't', 't', 'g', 'g', 't', 'g', 't', 'c', 'g', 't', 't', 'a', 'c', 'a', 'a', 't', 'c', 't', 'a', 'a', 'c', 'g', 'c', 'a', 't', 'c', 'g', 'c', 'c', 'a', 'a', 1]\n",
      "['t', 'g', 'c', 't', 'a', 't', 'c', 'c', 't', 'g', 'a', 'c', 'a', 'g', 't', 't', 'g', 't', 'c', 'a', 'c', 'g', 'c', 't', 'g', 'a', 't', 't', 'g', 'g', 't', 'g', 't', 'c', 'g', 't', 't', 'a', 'c', 'a', 'a', 't', 'c', 't', 'a', 'a', 'c', 'g', 'c', 'a', 't', 'c', 'g', 'c', 'c', 'a', 'a', 1]\n",
      "['t', 'g', 'c', 't', 'a', 't', 'c', 'c', 't', 'g', 'a', 'c', 'a', 'g', 't', 't', 'g', 't', 'c', 'a', 'c', 'g', 'c', 't', 'g', 'a', 't', 't', 'g', 'g', 't', 'g', 't', 'c', 'g', 't', 't', 'a', 'c', 'a', 'a', 't', 'c', 't', 'a', 'a', 'c', 'g', 'c', 'a', 't', 'c', 'g', 'c', 'c', 'a', 'a', 1]\n",
      "['t', 'g', 'c', 't', 'a', 't', 'c', 'c', 't', 'g', 'a', 'c', 'a', 'g', 't', 't', 'g', 't', 'c', 'a', 'c', 'g', 'c', 't', 'g', 'a', 't', 't', 'g', 'g', 't', 'g', 't', 'c', 'g', 't', 't', 'a', 'c', 'a', 'a', 't', 'c', 't', 'a', 'a', 'c', 'g', 'c', 'a', 't', 'c', 'g', 'c', 'c', 'a', 'a', 1]\n",
      "['t', 'g', 'c', 't', 'a', 't', 'c', 'c', 't', 'g', 'a', 'c', 'a', 'g', 't', 't', 'g', 't', 'c', 'a', 'c', 'g', 'c', 't', 'g', 'a', 't', 't', 'g', 'g', 't', 'g', 't', 'c', 'g', 't', 't', 'a', 'c', 'a', 'a', 't', 'c', 't', 'a', 'a', 'c', 'g', 'c', 'a', 't', 'c', 'g', 'c', 'c', 'a', 'a', 1]\n",
      "['t', 'g', 'c', 't', 'a', 't', 'c', 'c', 't', 'g', 'a', 'c', 'a', 'g', 't', 't', 'g', 't', 'c', 'a', 'c', 'g', 'c', 't', 'g', 'a', 't', 't', 'g', 'g', 't', 'g', 't', 'c', 'g', 't', 't', 'a', 'c', 'a', 'a', 't', 'c', 't', 'a', 'a', 'c', 'g', 'c', 'a', 't', 'c', 'g', 'c', 'c', 'a', 'a', 1]\n",
      "['t', 'g', 'c', 't', 'a', 't', 'c', 'c', 't', 'g', 'a', 'c', 'a', 'g', 't', 't', 'g', 't', 'c', 'a', 'c', 'g', 'c', 't', 'g', 'a', 't', 't', 'g', 'g', 't', 'g', 't', 'c', 'g', 't', 't', 'a', 'c', 'a', 'a', 't', 'c', 't', 'a', 'a', 'c', 'g', 'c', 'a', 't', 'c', 'g', 'c', 'c', 'a', 'a', 1]\n",
      "['t', 'g', 'c', 't', 'a', 't', 'c', 'c', 't', 'g', 'a', 'c', 'a', 'g', 't', 't', 'g', 't', 'c', 'a', 'c', 'g', 'c', 't', 'g', 'a', 't', 't', 'g', 'g', 't', 'g', 't', 'c', 'g', 't', 't', 'a', 'c', 'a', 'a', 't', 'c', 't', 'a', 'a', 'c', 'g', 'c', 'a', 't', 'c', 'g', 'c', 'c', 'a', 'a', 1]\n",
      "['t', 'g', 'c', 't', 'a', 't', 'c', 'c', 't', 'g', 'a', 'c', 'a', 'g', 't', 't', 'g', 't', 'c', 'a', 'c', 'g', 'c', 't', 'g', 'a', 't', 't', 'g', 'g', 't', 'g', 't', 'c', 'g', 't', 't', 'a', 'c', 'a', 'a', 't', 'c', 't', 'a', 'a', 'c', 'g', 'c', 'a', 't', 'c', 'g', 'c', 'c', 'a', 'a', 1]\n",
      "['t', 'g', 'c', 't', 'a', 't', 'c', 'c', 't', 'g', 'a', 'c', 'a', 'g', 't', 't', 'g', 't', 'c', 'a', 'c', 'g', 'c', 't', 'g', 'a', 't', 't', 'g', 'g', 't', 'g', 't', 'c', 'g', 't', 't', 'a', 'c', 'a', 'a', 't', 'c', 't', 'a', 'a', 'c', 'g', 'c', 'a', 't', 'c', 'g', 'c', 'c', 'a', 'a', 1]\n",
      "['t', 'g', 'c', 't', 'a', 't', 'c', 'c', 't', 'g', 'a', 'c', 'a', 'g', 't', 't', 'g', 't', 'c', 'a', 'c', 'g', 'c', 't', 'g', 'a', 't', 't', 'g', 'g', 't', 'g', 't', 'c', 'g', 't', 't', 'a', 'c', 'a', 'a', 't', 'c', 't', 'a', 'a', 'c', 'g', 'c', 'a', 't', 'c', 'g', 'c', 'c', 'a', 'a', 1]\n",
      "['t', 'g', 'c', 't', 'a', 't', 'c', 'c', 't', 'g', 'a', 'c', 'a', 'g', 't', 't', 'g', 't', 'c', 'a', 'c', 'g', 'c', 't', 'g', 'a', 't', 't', 'g', 'g', 't', 'g', 't', 'c', 'g', 't', 't', 'a', 'c', 'a', 'a', 't', 'c', 't', 'a', 'a', 'c', 'g', 'c', 'a', 't', 'c', 'g', 'c', 'c', 'a', 'a', 1]\n",
      "['t', 'g', 'c', 't', 'a', 't', 'c', 'c', 't', 'g', 'a', 'c', 'a', 'g', 't', 't', 'g', 't', 'c', 'a', 'c', 'g', 'c', 't', 'g', 'a', 't', 't', 'g', 'g', 't', 'g', 't', 'c', 'g', 't', 't', 'a', 'c', 'a', 'a', 't', 'c', 't', 'a', 'a', 'c', 'g', 'c', 'a', 't', 'c', 'g', 'c', 'c', 'a', 'a', 1]\n",
      "['t', 'g', 'c', 't', 'a', 't', 'c', 'c', 't', 'g', 'a', 'c', 'a', 'g', 't', 't', 'g', 't', 'c', 'a', 'c', 'g', 'c', 't', 'g', 'a', 't', 't', 'g', 'g', 't', 'g', 't', 'c', 'g', 't', 't', 'a', 'c', 'a', 'a', 't', 'c', 't', 'a', 'a', 'c', 'g', 'c', 'a', 't', 'c', 'g', 'c', 'c', 'a', 'a', 1]\n",
      "['t', 'g', 'c', 't', 'a', 't', 'c', 'c', 't', 'g', 'a', 'c', 'a', 'g', 't', 't', 'g', 't', 'c', 'a', 'c', 'g', 'c', 't', 'g', 'a', 't', 't', 'g', 'g', 't', 'g', 't', 'c', 'g', 't', 't', 'a', 'c', 'a', 'a', 't', 'c', 't', 'a', 'a', 'c', 'g', 'c', 'a', 't', 'c', 'g', 'c', 'c', 'a', 'a', 1]\n",
      "['t', 'g', 'c', 't', 'a', 't', 'c', 'c', 't', 'g', 'a', 'c', 'a', 'g', 't', 't', 'g', 't', 'c', 'a', 'c', 'g', 'c', 't', 'g', 'a', 't', 't', 'g', 'g', 't', 'g', 't', 'c', 'g', 't', 't', 'a', 'c', 'a', 'a', 't', 'c', 't', 'a', 'a', 'c', 'g', 'c', 'a', 't', 'c', 'g', 'c', 'c', 'a', 'a', 1]\n",
      "['t', 'g', 'c', 't', 'a', 't', 'c', 'c', 't', 'g', 'a', 'c', 'a', 'g', 't', 't', 'g', 't', 'c', 'a', 'c', 'g', 'c', 't', 'g', 'a', 't', 't', 'g', 'g', 't', 'g', 't', 'c', 'g', 't', 't', 'a', 'c', 'a', 'a', 't', 'c', 't', 'a', 'a', 'c', 'g', 'c', 'a', 't', 'c', 'g', 'c', 'c', 'a', 'a', 1]\n",
      "['t', 'g', 'c', 't', 'a', 't', 'c', 'c', 't', 'g', 'a', 'c', 'a', 'g', 't', 't', 'g', 't', 'c', 'a', 'c', 'g', 'c', 't', 'g', 'a', 't', 't', 'g', 'g', 't', 'g', 't', 'c', 'g', 't', 't', 'a', 'c', 'a', 'a', 't', 'c', 't', 'a', 'a', 'c', 'g', 'c', 'a', 't', 'c', 'g', 'c', 'c', 'a', 'a', 1]\n"
     ]
    }
   ],
   "source": [
    "sequences = list(human_data.loc[:, 'Sequence'])\n",
    "dataset = {}\n",
    "for i, seq in enumerate(sequences):\n",
    "   nucleotides = list(seq)\n",
    "   nucleotides = [x for x in nucleotides if x != '\\t']\n",
    "   nucleotides.append(classes[i])\n",
    "   dataset[i] = nucleotides\n",
    "   print(dataset[0])\n",
    "  "
   ]
  },
  {
   "cell_type": "code",
   "execution_count": 33,
   "id": "7c823d2e",
   "metadata": {
    "scrolled": true
   },
   "outputs": [
    {
     "name": "stdout",
     "output_type": "stream",
     "text": [
      "   0  1  2  3  4  5  6  7  8  9   ... 89 90 91 92 93 94 95 96 97 98\n",
      "0   t  g  a  t  a  c  t  c  t  g  ...  t  t  a  c  c  t  a  g  c  g\n",
      "1   g  t  a  c  g  a  t  g  t  c  ...  g  g  g  c  g  a  g  a  c  t\n",
      "2   c  a  t  g  g  g  t  a  t  a  ...  t  c  g  g  c  t  a  g  t  a\n",
      "3   t  c  t  a  g  g  c  c  t  a  ...  t  a  c  a  t  g  g  a  c  t\n",
      "4   a  t  g  t  g  g  t  t  a  a  ...  g  c  a  g  a  a  g  g  a  t\n",
      "5   t  a  t  a  c  g  a  t  a  a  ...  a  g  t  t  g  c  g  c  a  c\n",
      "6   c  g  g  a  a  g  c  a  a  a  ...  t  g  g  a  g  c  t  a  t  t\n",
      "7   c  a  a  t  a  t  a  a  t  t  ...  t  g  t  g  a  g  g  t  g  c\n",
      "8   t  g  t  t  g  g  a  t  t  a  ...  t  t  a  a  c  a  t  g  g  a\n",
      "9   g  a  g  a  g  g  a  a  t  a  ...  t  t  a  c  t  a  a  t  c  a\n",
      "10  a  a  t  a  a  a  a  t  c  a  ...  c  g  a  c  t  c  c  c  c  c\n",
      "11  c  c  g  c  g  g  c  a  c  t  ...  c  c  c  c  t  g  t  a  t  a\n",
      "12  a  t  t  t  g  g  a  c  t  g  ...  a  g  g  t  c  a  c  g  c  a\n",
      "13  g  a  a  a  a  a  c  t  c  c  ...  t  a  t  t  t  g  c  c  t  g\n",
      "14  t  g  t  t  t  t  t  g  t  t  ...  g  t  c  a  t  t  a  c  a  a\n",
      "15  t  t  c  t  g  t  t  c  t  t  ...  c  a  t  g  g  c  a  t  a  t\n",
      "16  g  g  g  g  g  t  g  g  g  g  ...  g  g  t  a  t  a  g  c  a  t\n",
      "17  t  c  a  a  a  a  a  a  t  a  ...  g  c  c  g  t  a  a  g  c  a\n",
      "18  c  a  a  c  a  a  t  c  c  c  ...  t  c  g  a  g  t  a  a  g  a\n",
      "19  a  t  g  g  a  g  a  a  a  t  ...  g  t  t  g  a  c  g  c  g  c\n",
      "20  c  t  t  a  g  c  c  g  g  c  ...  t  c  a  c  t  a  a  a  g  c\n",
      "21  g  a  g  a  a  c  t  g  g  t  ...  t  a  g  a  t  g  g  a  t  g\n",
      "22  c  g  t  a  g  a  g  a  c  g  ...  t  g  c  t  t  a  g  c  c  a\n",
      "23  t  c  g  a  g  t  t  c  c  t  ...  t  c  g  g  t  c  a  t  t  c\n",
      "24  g  t  t  g  t  c  a  g  g  a  ...  g  g  c  t  c  c  a  t  t  a\n",
      "25  a  t  t  c  t  t  t  t  g  g  ...  c  t  a  c  c  g  g  g  g  g\n",
      "26  t  a  g  t  g  c  g  c  a  c  ...  g  a  t  a  a  c  a  c  a  a\n",
      "27  t  t  c  g  c  c  a  c  a  g  ...  c  t  c  g  t  t  t  a  g  t\n",
      "28  g  t  g  a  c  t  g  g  t  g  ...  a  t  a  c  g  t  g  t  g  t\n",
      "29  g  t  g  a  g  g  c  t  a  g  ...  a  c  g  c  c  t  a  a  g  c\n",
      "30  t  t  a  a  t  a  a  t  a  a  ...  t  a  t  t  g  g  g  a  g  a\n",
      "31  g  t  g  a  a  t  t  c  c  a  ...  g  g  g  c  g  a  g  a  t  a\n",
      "32  t  t  t  c  t  g  a  t  t  g  ...  t  g  c  g  t  c  c  t  t  t\n",
      "33  c  t  a  c  a  a  c  g  c  g  ...  t  t  t  a  g  t  t  g  t  c\n",
      "34  g  g  g  a  a  c  a  t  c  c  ...  a  g  t  c  t  c  a  c  t  t\n",
      "35  t  t  a  c  a  g  g  g  c  g  ...  a  c  t  a  t  t  g  t  t  c\n",
      "36  t  t  t  t  g  c  t  t  t  t  ...  t  g  c  a  t  g  a  t  t  g\n",
      "37  a  a  g  a  a  a  a  a  a  a  ...  c  a  t  c  t  g  c  t  g  t\n",
      "38  c  t  t  g  a  t  t  a  t  t  ...  g  g  t  t  g  t  g  c  c  g\n",
      "39  a  c  t  a  a  a  a  a  a  t  ...  c  t  a  t  c  a  t  t  t  g\n",
      "40  a  a  a  a  c  g  a  t  a  a  ...  t  t  c  g  g  t  c  t  g  a\n",
      "41  t  t  g  t  t  t  t  c  t  t  ...  t  c  t  c  c  t  t  g  a  t\n",
      "42  c  g  a  g  a  c  t  g  g  g  ...  t  g  g  a  a  a  c  t  a  g\n",
      "43  t  c  a  c  g  a  g  c  c  c  ...  g  a  t  t  a  c  t  a  a  g\n",
      "44  a  t  t  g  a  g  c  a  g  a  ...  t  t  g  a  t  t  g  g  g  a\n",
      "45  a  a  a  c  g  c  t  a  c  c  ...  a  a  a  a  g  g  c  a  g  c\n",
      "46  c  a  c  c  t  c  t  t  c  a  ...  c  g  g  a  t  t  a  c  a  g\n",
      "47  g  c  t  t  c  c  c  g  a  c  ...  a  t  t  t  t  g  t  g  g  t\n",
      "48  c  c  a  c  c  a  a  a  c  c  ...  c  c  a  g  a  a  g  t  g  t\n",
      "49  a  a  a  c  g  t  a  a  c  c  ...  c  t  c  c  a  a  g  g  a  c\n",
      "50  t  c  c  g  t  c  c  a  a  c  ...  t  c  g  t  t  c  a  c  a  a\n",
      "51  c  c  a  t  t  a  a  t  c  g  ...  c  a  c  t  c  a  g  c  c  a\n",
      "52  g  c  a  g  t  t  g  g  t  c  ...  a  g  a  t  g  t  t  c  t  c\n",
      "53  c  g  a  g  a  g  a  g  g  g  ...  g  a  c  c  c  t  a  t  a  a\n",
      "54  c  g  c  t  g  a  a  t  a  c  ...  g  g  c  t  t  a  t  a  t  t\n",
      "55  a  c  t  a  g  a  c  t  c  c  ...  c  t  a  t  t  t  g  c  a  t\n",
      "56  a  g  c  g  t  t  a  t  a  g  ...  a  c  g  g  t  t  a  g  t  g\n",
      "57  1  1  1  1  1  1  1  1  1  1  ...  0  0  0  0  0  0  0  0  0  0\n",
      "\n",
      "[58 rows x 99 columns]\n"
     ]
    }
   ],
   "source": [
    "dframe = pd.DataFrame(dataset)\n",
    "print(dframe)"
   ]
  },
  {
   "cell_type": "code",
   "execution_count": 34,
   "id": "4b03a680",
   "metadata": {},
   "outputs": [
    {
     "name": "stdout",
     "output_type": "stream",
     "text": [
      "  0  1  2  3  4  5  6  7  8  9   ... 48 49 50 51 52 53 54 55 56 57\n",
      "0  t  g  c  t  a  t  c  c  t  g  ...  c  a  t  c  g  c  c  a  a  1\n",
      "1  g  t  a  c  t  a  g  a  g  a  ...  c  a  c  c  c  g  g  c  g  1\n",
      "2  a  a  t  t  g  t  g  a  t  g  ...  a  a  c  a  a  a  c  t  c  1\n",
      "3  t  c  g  a  t  a  a  t  t  a  ...  c  c  g  t  g  g  t  a  g  1\n",
      "4  a  g  g  g  g  c  a  a  g  g  ...  c  g  t  t  t  a  g  g  t  1\n",
      "\n",
      "[5 rows x 58 columns]\n"
     ]
    }
   ],
   "source": [
    "df = dframe.transpose()\n",
    "print(df.iloc[:5])"
   ]
  },
  {
   "cell_type": "code",
   "execution_count": 35,
   "id": "8497677c",
   "metadata": {},
   "outputs": [
    {
     "name": "stdout",
     "output_type": "stream",
     "text": [
      "   0  1  2  3  4  5  6  7  8  9  ... 48 49 50 51 52 53 54 55 56 Class\n",
      "0  t  g  c  t  a  t  c  c  t  g  ...  c  a  t  c  g  c  c  a  a     1\n",
      "1  g  t  a  c  t  a  g  a  g  a  ...  c  a  c  c  c  g  g  c  g     1\n",
      "2  a  a  t  t  g  t  g  a  t  g  ...  a  a  c  a  a  a  c  t  c     1\n",
      "3  t  c  g  a  t  a  a  t  t  a  ...  c  c  g  t  g  g  t  a  g     1\n",
      "4  a  g  g  g  g  c  a  a  g  g  ...  c  g  t  t  t  a  g  g  t     1\n",
      "\n",
      "[5 rows x 58 columns]\n"
     ]
    }
   ],
   "source": [
    "df.rename(columns = {57: 'Class'}, inplace= True) \n",
    "print(df.iloc[:5])"
   ]
  },
  {
   "cell_type": "code",
   "execution_count": 36,
   "id": "0b18c9a8",
   "metadata": {},
   "outputs": [],
   "source": [
    "p=df.transpose()"
   ]
  },
  {
   "cell_type": "code",
   "execution_count": 37,
   "id": "b39bab1a",
   "metadata": {},
   "outputs": [
    {
     "name": "stdout",
     "output_type": "stream",
     "text": [
      "[t    17\n",
      "c    15\n",
      "a    13\n",
      "g    12\n",
      "1     1\n",
      "Name: 0, dtype: int64, t    20\n",
      "a    14\n",
      "c    12\n",
      "g    11\n",
      "1     1\n",
      "Name: 1, dtype: int64, a    18\n",
      "t    18\n",
      "g    15\n",
      "c     6\n",
      "1     1\n",
      "Name: 2, dtype: int64, a    20\n",
      "t    13\n",
      "c    12\n",
      "g    12\n",
      "1     1\n",
      "Name: 3, dtype: int64, g    21\n",
      "a    19\n",
      "t    11\n",
      "c     6\n",
      "1     1\n",
      "Name: 4, dtype: int64, g    16\n",
      "a    15\n",
      "c    13\n",
      "t    13\n",
      "1     1\n",
      "Name: 5, dtype: int64, a    22\n",
      "t    17\n",
      "c    11\n",
      "g     7\n",
      "1     1\n",
      "Name: 6, dtype: int64, t    17\n",
      "a    16\n",
      "g    13\n",
      "c    11\n",
      "1     1\n",
      "Name: 7, dtype: int64, t    17\n",
      "c    17\n",
      "a    15\n",
      "g     8\n",
      "1     1\n",
      "Name: 8, dtype: int64, a    16\n",
      "g    15\n",
      "c    15\n",
      "t    11\n",
      "1     1\n",
      "Name: 9, dtype: int64, a    18\n",
      "c    14\n",
      "g    14\n",
      "t    11\n",
      "1     1\n",
      "Name: 10, dtype: int64, a    21\n",
      "t    14\n",
      "g    11\n",
      "c    11\n",
      "1     1\n",
      "Name: 11, dtype: int64, c    18\n",
      "t    16\n",
      "a    12\n",
      "g    11\n",
      "1     1\n",
      "Name: 12, dtype: int64, t    18\n",
      "c    16\n",
      "a    14\n",
      "g     9\n",
      "1     1\n",
      "Name: 13, dtype: int64, a    16\n",
      "g    16\n",
      "c    15\n",
      "t    10\n",
      "1     1\n",
      "Name: 14, dtype: int64, c    20\n",
      "t    18\n",
      "a    10\n",
      "g     9\n",
      "1     1\n",
      "Name: 15, dtype: int64, a    21\n",
      "t    16\n",
      "c    10\n",
      "g    10\n",
      "1     1\n",
      "Name: 16, dtype: int64, c    19\n",
      "t    15\n",
      "g    12\n",
      "a    11\n",
      "1     1\n",
      "Name: 17, dtype: int64, t    22\n",
      "a    14\n",
      "g    11\n",
      "c    10\n",
      "1     1\n",
      "Name: 18, dtype: int64, g    17\n",
      "a    16\n",
      "c    15\n",
      "t     9\n",
      "1     1\n",
      "Name: 19, dtype: int64, a    19\n",
      "t    17\n",
      "c    12\n",
      "g     9\n",
      "1     1\n",
      "Name: 20, dtype: int64, a    20\n",
      "t    17\n",
      "c    10\n",
      "g    10\n",
      "1     1\n",
      "Name: 21, dtype: int64, a    19\n",
      "g    14\n",
      "c    13\n",
      "t    11\n",
      "1     1\n",
      "Name: 22, dtype: int64, a    23\n",
      "t    19\n",
      "c     8\n",
      "g     7\n",
      "1     1\n",
      "Name: 23, dtype: int64, a    21\n",
      "t    18\n",
      "c    10\n",
      "g     8\n",
      "1     1\n",
      "Name: 24, dtype: int64, t    18\n",
      "c    15\n",
      "a    12\n",
      "g    12\n",
      "1     1\n",
      "Name: 25, dtype: int64, a    19\n",
      "t    17\n",
      "c    11\n",
      "g    10\n",
      "1     1\n",
      "Name: 26, dtype: int64, a    19\n",
      "t    16\n",
      "g    12\n",
      "c    10\n",
      "1     1\n",
      "Name: 27, dtype: int64, t    21\n",
      "a    14\n",
      "c    12\n",
      "g    10\n",
      "1     1\n",
      "Name: 28, dtype: int64, t    23\n",
      "c    13\n",
      "g    11\n",
      "a    10\n",
      "1     1\n",
      "Name: 29, dtype: int64, a    23\n",
      "t    14\n",
      "g    13\n",
      "c     7\n",
      "1     1\n",
      "Name: 30, dtype: int64, g    19\n",
      "c    18\n",
      "a    13\n",
      "t     7\n",
      "1     1\n",
      "Name: 31, dtype: int64, a    18\n",
      "t    16\n",
      "c    14\n",
      "g     9\n",
      "1     1\n",
      "Name: 32, dtype: int64, t    20\n",
      "a    14\n",
      "c    12\n",
      "g    11\n",
      "1     1\n",
      "Name: 33, dtype: int64, c    17\n",
      "a    16\n",
      "g    14\n",
      "t    10\n",
      "1     1\n",
      "Name: 34, dtype: int64, t    21\n",
      "c    16\n",
      "a    11\n",
      "g     9\n",
      "1     1\n",
      "Name: 35, dtype: int64, t    21\n",
      "c    16\n",
      "g    10\n",
      "a    10\n",
      "1     1\n",
      "Name: 36, dtype: int64, t    21\n",
      "g    13\n",
      "a    12\n",
      "c    11\n",
      "1     1\n",
      "Name: 37, dtype: int64, t    19\n",
      "c    14\n",
      "a    13\n",
      "g    11\n",
      "1     1\n",
      "Name: 38, dtype: int64, t    18\n",
      "a    16\n",
      "c    15\n",
      "g     8\n",
      "1     1\n",
      "Name: 39, dtype: int64, t    20\n",
      "a    16\n",
      "c    16\n",
      "g     5\n",
      "1     1\n",
      "Name: 40, dtype: int64, t    20\n",
      "c    19\n",
      "a    10\n",
      "g     8\n",
      "1     1\n",
      "Name: 41, dtype: int64, t    23\n",
      "a    14\n",
      "g    10\n",
      "c    10\n",
      "1     1\n",
      "Name: 42, dtype: int64, t    20\n",
      "a    16\n",
      "c    11\n",
      "g    10\n",
      "1     1\n",
      "Name: 43, dtype: int64, t    27\n",
      "c    12\n",
      "a    12\n",
      "g     6\n",
      "1     1\n",
      "Name: 44, dtype: int64, a    21\n",
      "t    19\n",
      "g    11\n",
      "c     6\n",
      "1     1\n",
      "Name: 45, dtype: int64, g    16\n",
      "t    16\n",
      "a    13\n",
      "c    12\n",
      "1     1\n",
      "Name: 46, dtype: int64, a    19\n",
      "t    19\n",
      "c    12\n",
      "g     7\n",
      "1     1\n",
      "Name: 47, dtype: int64, t    20\n",
      "g    15\n",
      "c    13\n",
      "a     9\n",
      "1     1\n",
      "Name: 48, dtype: int64, t    16\n",
      "g    15\n",
      "a    14\n",
      "c    12\n",
      "0     1\n",
      "Name: 49, dtype: int64, t    18\n",
      "c    14\n",
      "a    14\n",
      "g    11\n",
      "0     1\n",
      "Name: 50, dtype: int64, g    18\n",
      "t    16\n",
      "a    14\n",
      "c     9\n",
      "0     1\n",
      "Name: 51, dtype: int64, t    17\n",
      "c    15\n",
      "a    13\n",
      "g    12\n",
      "0     1\n",
      "Name: 52, dtype: int64, g    17\n",
      "c    15\n",
      "a    14\n",
      "t    11\n",
      "0     1\n",
      "Name: 53, dtype: int64, a    17\n",
      "c    15\n",
      "t    13\n",
      "g    12\n",
      "0     1\n",
      "Name: 54, dtype: int64, a    17\n",
      "t    15\n",
      "g    13\n",
      "c    12\n",
      "0     1\n",
      "Name: 55, dtype: int64, g    16\n",
      "t    16\n",
      "a    14\n",
      "c    11\n",
      "0     1\n",
      "Name: 56, dtype: int64, c    17\n",
      "g    16\n",
      "a    13\n",
      "t    11\n",
      "0     1\n",
      "Name: 57, dtype: int64, g    17\n",
      "c    15\n",
      "t    15\n",
      "a    10\n",
      "0     1\n",
      "Name: 58, dtype: int64, t    17\n",
      "g    17\n",
      "c    12\n",
      "a    11\n",
      "0     1\n",
      "Name: 59, dtype: int64, t    17\n",
      "a    14\n",
      "c    14\n",
      "g    12\n",
      "0     1\n",
      "Name: 60, dtype: int64, g    17\n",
      "c    16\n",
      "a    13\n",
      "t    11\n",
      "0     1\n",
      "Name: 61, dtype: int64, t    19\n",
      "c    14\n",
      "g    13\n",
      "a    11\n",
      "0     1\n",
      "Name: 62, dtype: int64, a    19\n",
      "t    16\n",
      "c    12\n",
      "g    10\n",
      "0     1\n",
      "Name: 63, dtype: int64, t    18\n",
      "a    14\n",
      "c    14\n",
      "g    11\n",
      "0     1\n",
      "Name: 64, dtype: int64, c    17\n",
      "g    15\n",
      "a    14\n",
      "t    11\n",
      "0     1\n",
      "Name: 65, dtype: int64, c    20\n",
      "a    16\n",
      "g    13\n",
      "t     8\n",
      "0     1\n",
      "Name: 66, dtype: int64, t    17\n",
      "a    14\n",
      "c    14\n",
      "g    12\n",
      "0     1\n",
      "Name: 67, dtype: int64, t    18\n",
      "c    15\n",
      "g    14\n",
      "a    10\n",
      "0     1\n",
      "Name: 68, dtype: int64, a    17\n",
      "g    16\n",
      "t    13\n",
      "c    11\n",
      "0     1\n",
      "Name: 69, dtype: int64, c    16\n",
      "g    16\n",
      "a    13\n",
      "t    12\n",
      "0     1\n",
      "Name: 70, dtype: int64, t    17\n",
      "c    16\n",
      "g    14\n",
      "a    10\n",
      "0     1\n",
      "Name: 71, dtype: int64, c    17\n",
      "t    17\n",
      "a    12\n",
      "g    11\n",
      "0     1\n",
      "Name: 72, dtype: int64, g    19\n",
      "a    17\n",
      "c    15\n",
      "t     6\n",
      "0     1\n",
      "Name: 73, dtype: int64, a    19\n",
      "t    14\n",
      "c    12\n",
      "g    12\n",
      "0     1\n",
      "Name: 74, dtype: int64, g    16\n",
      "c    15\n",
      "a    14\n",
      "t    12\n",
      "0     1\n",
      "Name: 75, dtype: int64, t    16\n",
      "a    15\n",
      "g    14\n",
      "c    12\n",
      "0     1\n",
      "Name: 76, dtype: int64, g    18\n",
      "c    16\n",
      "t    14\n",
      "a     9\n",
      "0     1\n",
      "Name: 77, dtype: int64, t    18\n",
      "c    15\n",
      "a    13\n",
      "g    11\n",
      "0     1\n",
      "Name: 78, dtype: int64, g    18\n",
      "c    14\n",
      "a    13\n",
      "t    12\n",
      "0     1\n",
      "Name: 79, dtype: int64, t    16\n",
      "a    15\n",
      "g    14\n",
      "c    12\n",
      "0     1\n",
      "Name: 80, dtype: int64, g    16\n",
      "t    15\n",
      "a    13\n",
      "c    13\n",
      "0     1\n",
      "Name: 81, dtype: int64, g    20\n",
      "a    17\n",
      "t    12\n",
      "c     8\n",
      "0     1\n",
      "Name: 82, dtype: int64, c    17\n",
      "g    17\n",
      "t    13\n",
      "a    10\n",
      "0     1\n",
      "Name: 83, dtype: int64, t    22\n",
      "g    15\n",
      "c    12\n",
      "a     8\n",
      "0     1\n",
      "Name: 84, dtype: int64, a    19\n",
      "c    16\n",
      "g    13\n",
      "t     9\n",
      "0     1\n",
      "Name: 85, dtype: int64, t    20\n",
      "g    13\n",
      "c    12\n",
      "a    12\n",
      "0     1\n",
      "Name: 86, dtype: int64, a    17\n",
      "c    15\n",
      "t    14\n",
      "g    11\n",
      "0     1\n",
      "Name: 87, dtype: int64, g    20\n",
      "a    15\n",
      "t    14\n",
      "c     8\n",
      "0     1\n",
      "Name: 88, dtype: int64, t    22\n",
      "g    13\n",
      "c    12\n",
      "a    10\n",
      "0     1\n",
      "Name: 89, dtype: int64, g    18\n",
      "t    15\n",
      "c    13\n",
      "a    11\n",
      "0     1\n",
      "Name: 90, dtype: int64, t    16\n",
      "g    14\n",
      "c    14\n",
      "a    13\n",
      "0     1\n",
      "Name: 91, dtype: int64, c    15\n",
      "a    15\n",
      "t    15\n",
      "g    12\n",
      "0     1\n",
      "Name: 92, dtype: int64, t    25\n",
      "g    13\n",
      "c    11\n",
      "a     8\n",
      "0     1\n",
      "Name: 93, dtype: int64, t    18\n",
      "a    16\n",
      "c    12\n",
      "g    11\n",
      "0     1\n",
      "Name: 94, dtype: int64, g    20\n",
      "a    18\n",
      "t    11\n",
      "c     8\n",
      "0     1\n",
      "Name: 95, dtype: int64, c    15\n",
      "t    15\n",
      "a    14\n",
      "g    13\n",
      "0     1\n",
      "Name: 96, dtype: int64, t    17\n",
      "g    16\n",
      "a    14\n",
      "c    10\n",
      "0     1\n",
      "Name: 97, dtype: int64, a    18\n",
      "t    16\n",
      "c    12\n",
      "g    11\n",
      "0     1\n",
      "Name: 98, dtype: int64]\n"
     ]
    }
   ],
   "source": [
    "series = []\n",
    "for name in p.columns:\n",
    "    series.append(p[name].value_counts())\n",
    "print(series)\n",
    "\n"
   ]
  },
  {
   "cell_type": "code",
   "execution_count": 38,
   "id": "65c2086e",
   "metadata": {},
   "outputs": [
    {
     "name": "stdout",
     "output_type": "stream",
     "text": [
      "     0     1     2     3     4     5     6     7     8     9   ...    89  \\\n",
      "t  17.0  20.0  18.0  13.0  11.0  13.0  17.0  17.0  17.0  11.0  ...  22.0   \n",
      "c  15.0  12.0   6.0  12.0   6.0  13.0  11.0  11.0  17.0  15.0  ...  12.0   \n",
      "a  13.0  14.0  18.0  20.0  19.0  15.0  22.0  16.0  15.0  16.0  ...  10.0   \n",
      "g  12.0  11.0  15.0  12.0  21.0  16.0   7.0  13.0   8.0  15.0  ...  13.0   \n",
      "1   1.0   1.0   1.0   1.0   1.0   1.0   1.0   1.0   1.0   1.0  ...   NaN   \n",
      "0   NaN   NaN   NaN   NaN   NaN   NaN   NaN   NaN   NaN   NaN  ...   1.0   \n",
      "\n",
      "     90    91    92    93    94    95    96    97    98  \n",
      "t  15.0  16.0  15.0  25.0  18.0  11.0  15.0  17.0  16.0  \n",
      "c  13.0  14.0  15.0  11.0  12.0   8.0  15.0  10.0  12.0  \n",
      "a  11.0  13.0  15.0   8.0  16.0  18.0  14.0  14.0  18.0  \n",
      "g  18.0  14.0  12.0  13.0  11.0  20.0  13.0  16.0  11.0  \n",
      "1   NaN   NaN   NaN   NaN   NaN   NaN   NaN   NaN   NaN  \n",
      "0   1.0   1.0   1.0   1.0   1.0   1.0   1.0   1.0   1.0  \n",
      "\n",
      "[6 rows x 99 columns]\n"
     ]
    }
   ],
   "source": [
    "info = pd.DataFrame(series)\n",
    "details = info.transpose()\n",
    "print(details)"
   ]
  },
  {
   "cell_type": "code",
   "execution_count": 39,
   "id": "2867f54f",
   "metadata": {},
   "outputs": [
    {
     "data": {
      "text/html": [
       "<div>\n",
       "<style scoped>\n",
       "    .dataframe tbody tr th:only-of-type {\n",
       "        vertical-align: middle;\n",
       "    }\n",
       "\n",
       "    .dataframe tbody tr th {\n",
       "        vertical-align: top;\n",
       "    }\n",
       "\n",
       "    .dataframe thead th {\n",
       "        text-align: right;\n",
       "    }\n",
       "</style>\n",
       "<table border=\"1\" class=\"dataframe\">\n",
       "  <thead>\n",
       "    <tr style=\"text-align: right;\">\n",
       "      <th></th>\n",
       "      <th>0_a</th>\n",
       "      <th>0_c</th>\n",
       "      <th>0_g</th>\n",
       "      <th>0_t</th>\n",
       "      <th>1_a</th>\n",
       "      <th>1_c</th>\n",
       "      <th>1_g</th>\n",
       "      <th>1_t</th>\n",
       "      <th>2_a</th>\n",
       "      <th>2_c</th>\n",
       "      <th>...</th>\n",
       "      <th>55_a</th>\n",
       "      <th>55_c</th>\n",
       "      <th>55_g</th>\n",
       "      <th>55_t</th>\n",
       "      <th>56_a</th>\n",
       "      <th>56_c</th>\n",
       "      <th>56_g</th>\n",
       "      <th>56_t</th>\n",
       "      <th>Class_0</th>\n",
       "      <th>Class_1</th>\n",
       "    </tr>\n",
       "  </thead>\n",
       "  <tbody>\n",
       "    <tr>\n",
       "      <th>0</th>\n",
       "      <td>0</td>\n",
       "      <td>0</td>\n",
       "      <td>0</td>\n",
       "      <td>1</td>\n",
       "      <td>0</td>\n",
       "      <td>0</td>\n",
       "      <td>1</td>\n",
       "      <td>0</td>\n",
       "      <td>0</td>\n",
       "      <td>1</td>\n",
       "      <td>...</td>\n",
       "      <td>1</td>\n",
       "      <td>0</td>\n",
       "      <td>0</td>\n",
       "      <td>0</td>\n",
       "      <td>1</td>\n",
       "      <td>0</td>\n",
       "      <td>0</td>\n",
       "      <td>0</td>\n",
       "      <td>0</td>\n",
       "      <td>1</td>\n",
       "    </tr>\n",
       "    <tr>\n",
       "      <th>1</th>\n",
       "      <td>0</td>\n",
       "      <td>0</td>\n",
       "      <td>1</td>\n",
       "      <td>0</td>\n",
       "      <td>0</td>\n",
       "      <td>0</td>\n",
       "      <td>0</td>\n",
       "      <td>1</td>\n",
       "      <td>1</td>\n",
       "      <td>0</td>\n",
       "      <td>...</td>\n",
       "      <td>0</td>\n",
       "      <td>1</td>\n",
       "      <td>0</td>\n",
       "      <td>0</td>\n",
       "      <td>0</td>\n",
       "      <td>0</td>\n",
       "      <td>1</td>\n",
       "      <td>0</td>\n",
       "      <td>0</td>\n",
       "      <td>1</td>\n",
       "    </tr>\n",
       "    <tr>\n",
       "      <th>2</th>\n",
       "      <td>1</td>\n",
       "      <td>0</td>\n",
       "      <td>0</td>\n",
       "      <td>0</td>\n",
       "      <td>1</td>\n",
       "      <td>0</td>\n",
       "      <td>0</td>\n",
       "      <td>0</td>\n",
       "      <td>0</td>\n",
       "      <td>0</td>\n",
       "      <td>...</td>\n",
       "      <td>0</td>\n",
       "      <td>0</td>\n",
       "      <td>0</td>\n",
       "      <td>1</td>\n",
       "      <td>0</td>\n",
       "      <td>1</td>\n",
       "      <td>0</td>\n",
       "      <td>0</td>\n",
       "      <td>0</td>\n",
       "      <td>1</td>\n",
       "    </tr>\n",
       "    <tr>\n",
       "      <th>3</th>\n",
       "      <td>0</td>\n",
       "      <td>0</td>\n",
       "      <td>0</td>\n",
       "      <td>1</td>\n",
       "      <td>0</td>\n",
       "      <td>1</td>\n",
       "      <td>0</td>\n",
       "      <td>0</td>\n",
       "      <td>0</td>\n",
       "      <td>0</td>\n",
       "      <td>...</td>\n",
       "      <td>1</td>\n",
       "      <td>0</td>\n",
       "      <td>0</td>\n",
       "      <td>0</td>\n",
       "      <td>0</td>\n",
       "      <td>0</td>\n",
       "      <td>1</td>\n",
       "      <td>0</td>\n",
       "      <td>0</td>\n",
       "      <td>1</td>\n",
       "    </tr>\n",
       "    <tr>\n",
       "      <th>4</th>\n",
       "      <td>1</td>\n",
       "      <td>0</td>\n",
       "      <td>0</td>\n",
       "      <td>0</td>\n",
       "      <td>0</td>\n",
       "      <td>0</td>\n",
       "      <td>1</td>\n",
       "      <td>0</td>\n",
       "      <td>0</td>\n",
       "      <td>0</td>\n",
       "      <td>...</td>\n",
       "      <td>0</td>\n",
       "      <td>0</td>\n",
       "      <td>1</td>\n",
       "      <td>0</td>\n",
       "      <td>0</td>\n",
       "      <td>0</td>\n",
       "      <td>0</td>\n",
       "      <td>1</td>\n",
       "      <td>0</td>\n",
       "      <td>1</td>\n",
       "    </tr>\n",
       "  </tbody>\n",
       "</table>\n",
       "<p>5 rows × 230 columns</p>\n",
       "</div>"
      ],
      "text/plain": [
       "   0_a  0_c  0_g  0_t  1_a  1_c  1_g  1_t  2_a  2_c  ...  55_a  55_c  55_g  \\\n",
       "0    0    0    0    1    0    0    1    0    0    1  ...     1     0     0   \n",
       "1    0    0    1    0    0    0    0    1    1    0  ...     0     1     0   \n",
       "2    1    0    0    0    1    0    0    0    0    0  ...     0     0     0   \n",
       "3    0    0    0    1    0    1    0    0    0    0  ...     1     0     0   \n",
       "4    1    0    0    0    0    0    1    0    0    0  ...     0     0     1   \n",
       "\n",
       "   55_t  56_a  56_c  56_g  56_t  Class_0  Class_1  \n",
       "0     0     1     0     0     0        0        1  \n",
       "1     0     0     0     1     0        0        1  \n",
       "2     1     0     1     0     0        0        1  \n",
       "3     0     0     0     1     0        0        1  \n",
       "4     0     0     0     0     1        0        1  \n",
       "\n",
       "[5 rows x 230 columns]"
      ]
     },
     "execution_count": 39,
     "metadata": {},
     "output_type": "execute_result"
    }
   ],
   "source": [
    "numerical_df = pd.get_dummies(df)\n",
    "numerical_df.iloc[:5]"
   ]
  },
  {
   "cell_type": "code",
   "execution_count": 40,
   "id": "0e93f5d8",
   "metadata": {},
   "outputs": [
    {
     "name": "stdout",
     "output_type": "stream",
     "text": [
      "   0_a  0_c  0_g  0_t  1_a  1_c  1_g  1_t  2_a  2_c  ...  54_t  55_a  55_c  \\\n",
      "0    0    0    0    1    0    0    1    0    0    1  ...     0     1     0   \n",
      "1    0    0    1    0    0    0    0    1    1    0  ...     0     0     1   \n",
      "2    1    0    0    0    1    0    0    0    0    0  ...     0     0     0   \n",
      "3    0    0    0    1    0    1    0    0    0    0  ...     1     1     0   \n",
      "4    1    0    0    0    0    0    1    0    0    0  ...     0     0     0   \n",
      "\n",
      "   55_g  55_t  56_a  56_c  56_g  56_t  Class  \n",
      "0     0     0     1     0     0     0      1  \n",
      "1     0     0     0     0     1     0      1  \n",
      "2     0     1     0     1     0     0      1  \n",
      "3     0     0     0     0     1     0      1  \n",
      "4     1     0     0     0     0     1      1  \n",
      "\n",
      "[5 rows x 229 columns]\n"
     ]
    }
   ],
   "source": [
    "df = numerical_df.drop(columns=['Class_0'])\n",
    "df.rename(columns = {'Class_1': 'Class'}, inplace = True)\n",
    "print(df.iloc[:5])"
   ]
  },
  {
   "cell_type": "code",
   "execution_count": 41,
   "id": "e76e3a88",
   "metadata": {},
   "outputs": [],
   "source": [
    "import pandas as pd   \n",
    "import numpy as np    \n",
    "import matplotlib.pyplot as plt \n",
    "%matplotlib inline\n",
    "%config InlineBackend.figure_formats = ['retina']\n",
    "import seaborn as sns\n",
    "import time\n",
    "import warnings\n",
    "warnings.filterwarnings(\"ignore\")\n",
    "from sklearn.model_selection import KFold, cross_val_score, GridSearchCV, StratifiedKFold\n",
    "from sklearn.linear_model import LogisticRegression\n",
    "from sklearn.neighbors import KNeighborsClassifier\n",
    "from sklearn.naive_bayes import GaussianNB, BernoulliNB, MultinomialNB\n",
    "from sklearn.tree import DecisionTreeClassifier\n",
    "from sklearn.ensemble import RandomForestClassifier\n",
    "from sklearn.svm import LinearSVC, SVC\n",
    "from sklearn import metrics\n",
    "from sklearn.metrics import confusion_matrix, classification_report\n",
    "from sklearn.metrics import accuracy_score, precision_score, recall_score, f1_score, log_loss\n",
    "from sklearn.metrics import auc, roc_curve, roc_auc_score, precision_recall_curve\n",
    "from sklearn.metrics import fbeta_score, cohen_kappa_score\n",
    "SEED = 42"
   ]
  },
  {
   "cell_type": "code",
   "execution_count": 42,
   "id": "ce5d7614",
   "metadata": {},
   "outputs": [],
   "source": [
    "from sklearn.svm import SVC\n",
    "from sklearn.preprocessing import StandardScaler\n",
    "from sklearn.model_selection import train_test_split\n",
    "from sklearn.pipeline import Pipeline\n",
    "from sklearn.metrics import classification_report"
   ]
  },
  {
   "cell_type": "code",
   "execution_count": 149,
   "id": "269c0173",
   "metadata": {},
   "outputs": [
    {
     "name": "stdout",
     "output_type": "stream",
     "text": [
      "69\n",
      "30\n",
      "(69, 228)\n",
      "(30, 228)\n"
     ]
    }
   ],
   "source": [
    "X = np.array(df.drop(['Class'], 1))\n",
    "y = np.array(df['Class'])\n",
    "X_train, X_test, y_train, y_test = train_test_split(X, y,test_size=0.3, random_state=0)\n",
    "print(len(X_train))\n",
    "print(len(X_test))\n",
    "print(X_train.shape)\n",
    "print(X_test.shape)"
   ]
  },
  {
   "cell_type": "code",
   "execution_count": 243,
   "id": "9e0bb8fd",
   "metadata": {},
   "outputs": [],
   "source": [
    "def evaluate(model, X_test , y_test,modelname):\n",
    "  y_pred=model.predict(X_test)\n",
    "  precision    = precision_score(y_test, y_pred)\n",
    "  recall       = recall_score(y_test, y_pred)\n",
    "  f1score      = f1_score(y_test, y_pred) \n",
    "  rocauc       = roc_auc_score(y_test, y_pred)\n",
    "  logloss      = log_loss(y_test, y_pred)\n",
    "  accuracy     = accuracy_score(y_test, y_pred)\n",
    "  confusionmatrix = confusion_matrix(y_test,y_pred)\n",
    "\n",
    "  df_model = pd.DataFrame({  'model'        : [modelname],\n",
    "                            'confusionmatrix'     :[confusionmatrix],\n",
    "                             'accuracy'     : [accuracy],\n",
    "                             'precision'    : [precision],\n",
    "                             'recall'       : [recall],\n",
    "                             'f1score'      : [f1score],\n",
    "                             'rocauc'       : [rocauc],\n",
    "                             'logloss'      : [logloss],\n",
    "                             'timetaken'    : [time2]   \n",
    "                                }) \n",
    "  return df_model"
   ]
  },
  {
   "cell_type": "code",
   "execution_count": 357,
   "id": "4d3fcc1b",
   "metadata": {},
   "outputs": [
    {
     "name": "stdout",
     "output_type": "stream",
     "text": [
      "0.9\n",
      "          model     confusionmatrix  accuracy  precision  recall   f1score  \\\n",
      "0  RandomForest  [[15, 0], [3, 12]]       0.9        1.0     0.8  0.888889   \n",
      "\n",
      "   rocauc   logloss  timetaken  \n",
      "0     0.9  3.453878   0.088731  \n"
     ]
    }
   ],
   "source": [
    "time2 = time.time()\n",
    "pipe = Pipeline([('scaler', StandardScaler()), ('randomforest', RandomForestClassifier(random_state=0))])\n",
    "pipe.fit(X_train, y_train)\n",
    "print(pipe.score(X_test, y_test))\n",
    "model1=evaluate(pipe, X_test,  y_test, 'RandomForest')\n",
    "model1.timetaken[0] = time.time() - time2\n",
    "print(model1)"
   ]
  },
  {
   "cell_type": "code",
   "execution_count": 358,
   "id": "0ecc01d7",
   "metadata": {},
   "outputs": [
    {
     "name": "stdout",
     "output_type": "stream",
     "text": [
      "0.8666666666666667\n",
      "        model     confusionmatrix  accuracy  precision    recall  f1score  \\\n",
      "0  Extra Tree  [[12, 3], [1, 14]]  0.866667   0.823529  0.933333    0.875   \n",
      "\n",
      "     rocauc  logloss  timetaken  \n",
      "0  0.866667  4.60525   0.074708  \n",
      "Wall time: 77.7 ms\n"
     ]
    }
   ],
   "source": [
    "%%time\n",
    "from sklearn.ensemble import ExtraTreesClassifier\n",
    "time2 = time.time()\n",
    "pipe = Pipeline([('scaler', StandardScaler()), ('extratree', ExtraTreesClassifier(random_state=0))])\n",
    "pipe.fit(X_train, y_train)\n",
    "print(pipe.score(X_test, y_test))\n",
    "model2=evaluate(pipe, X_test,  y_test, 'Extra Tree')\n",
    "model2.timetaken[0] = time.time() - time2\n",
    "print(model2)"
   ]
  },
  {
   "cell_type": "code",
   "execution_count": 359,
   "id": "e4d7bda0",
   "metadata": {},
   "outputs": [
    {
     "name": "stdout",
     "output_type": "stream",
     "text": [
      "0.9333333333333333\n",
      "                 model     confusionmatrix  accuracy  precision  recall  \\\n",
      "0  Logistic Regression  [[13, 2], [0, 15]]  0.933333   0.882353     1.0   \n",
      "\n",
      "   f1score    rocauc   logloss  timetaken  \n",
      "0   0.9375  0.933333  2.302638   0.015624  \n",
      "Wall time: 15.6 ms\n"
     ]
    }
   ],
   "source": [
    "%%time\n",
    "time2 = time.time()\n",
    "pipe = Pipeline([('scaler', StandardScaler()), ('LogisticRegression', LogisticRegression(random_state=0))])\n",
    "pipe.fit(X_train, y_train)\n",
    "print(pipe.score(X_test, y_test))\n",
    "model3=evaluate(pipe, X_test,  y_test, 'Logistic Regression')\n",
    "model3.timetaken[0] = time.time() - time2\n",
    "print(model3)"
   ]
  },
  {
   "cell_type": "code",
   "execution_count": 439,
   "id": "650bcaee",
   "metadata": {},
   "outputs": [
    {
     "name": "stdout",
     "output_type": "stream",
     "text": [
      "0.8333333333333334\n",
      "  model     confusionmatrix  accuracy  precision  recall   f1score    rocauc  \\\n",
      "0   KNN  [[10, 5], [0, 15]]  0.833333       0.75     1.0  0.857143  0.833333   \n",
      "\n",
      "    logloss  timetaken  \n",
      "0  5.756596   0.010829  \n",
      "Wall time: 13.3 ms\n"
     ]
    }
   ],
   "source": [
    "%%time\n",
    "time2 = time.time()\n",
    "pipe = Pipeline([('scaler', StandardScaler()), ('KNN', KNeighborsClassifier(n_neighbors=5))])\n",
    "pipe.fit(X_train, y_train)\n",
    "print(pipe.score(X_test, y_test))\n",
    "model4=evaluate(pipe, X_test,  y_test, 'KNN')\n",
    "model4.timetaken[0] = time.time() - time2\n",
    "print(model4)"
   ]
  },
  {
   "cell_type": "code",
   "execution_count": 361,
   "id": "0db42f3c",
   "metadata": {},
   "outputs": [
    {
     "name": "stdout",
     "output_type": "stream",
     "text": [
      "0.9333333333333333\n",
      "       model     confusionmatrix  accuracy  precision  recall  f1score  \\\n",
      "0  LinearSVC  [[13, 2], [0, 15]]  0.933333   0.882353     1.0   0.9375   \n",
      "\n",
      "     rocauc   logloss  timetaken  \n",
      "0  0.933333  2.302638   0.006975  \n",
      "Wall time: 8.97 ms\n"
     ]
    }
   ],
   "source": [
    "%%time\n",
    "time2 = time.time()\n",
    "pipe = Pipeline([('scaler', StandardScaler()), ('LinearSVC', LinearSVC(random_state=0))])\n",
    "pipe.fit(X_train, y_train)\n",
    "print(pipe.score(X_test, y_test))\n",
    "model5=evaluate(pipe, X_test,  y_test, 'LinearSVC')\n",
    "model5.timetaken[0] = time.time() - time2\n",
    "print(model5)"
   ]
  },
  {
   "cell_type": "code",
   "execution_count": 362,
   "id": "3b5d6e45",
   "metadata": {},
   "outputs": [
    {
     "name": "stdout",
     "output_type": "stream",
     "text": [
      "0.8333333333333334\n",
      "        model     confusionmatrix  accuracy  precision    recall  f1score  \\\n",
      "0  GaussianNB  [[12, 3], [2, 13]]  0.833333     0.8125  0.866667  0.83871   \n",
      "\n",
      "     rocauc   logloss  timetaken  \n",
      "0  0.833333  5.756543   0.005979  \n",
      "Wall time: 8.97 ms\n"
     ]
    }
   ],
   "source": [
    "%%time\n",
    "time2 = time.time()\n",
    "pipe = Pipeline([('scaler', StandardScaler()), ('GaussianNB',GaussianNB())])\n",
    "pipe.fit(X_train, y_train)\n",
    "print(pipe.score(X_test, y_test))\n",
    "model6=evaluate(pipe, X_test,  y_test, 'GaussianNB')\n",
    "model6.timetaken[0] = time.time() - time2\n",
    "print(model6)"
   ]
  },
  {
   "cell_type": "code",
   "execution_count": 363,
   "id": "2e96bbfd",
   "metadata": {},
   "outputs": [
    {
     "name": "stdout",
     "output_type": "stream",
     "text": [
      "0.9333333333333333\n",
      "  model     confusionmatrix  accuracy  precision    recall   f1score  \\\n",
      "0   SVC  [[14, 1], [1, 14]]  0.933333   0.933333  0.933333  0.933333   \n",
      "\n",
      "     rocauc   logloss  timetaken  \n",
      "0  0.933333  2.302612   0.007972  \n"
     ]
    }
   ],
   "source": [
    "time2 = time.time()\n",
    "pipe = Pipeline([('scaler', StandardScaler()), ('svc', SVC(random_state=0))])\n",
    "pipe.fit(X_train, y_train)\n",
    "print(pipe.score(X_test, y_test))\n",
    "model7=evaluate(pipe, X_test,  y_test, 'SVC')\n",
    "model7.timetaken[0] = time.time() - time2\n",
    "print(model7)"
   ]
  },
  {
   "cell_type": "code",
   "execution_count": 366,
   "id": "05f8f857",
   "metadata": {},
   "outputs": [
    {
     "name": "stdout",
     "output_type": "stream",
     "text": [
      "0.7666666666666667\n",
      "           model     confusionmatrix  accuracy  precision  recall   f1score  \\\n",
      "0  Decision Tree  [[11, 4], [3, 12]]  0.766667       0.75     0.8  0.774194   \n",
      "\n",
      "     rocauc   logloss  timetaken  \n",
      "0  0.766667  8.059154   0.007892  \n"
     ]
    }
   ],
   "source": [
    "time2 = time.time()\n",
    "pipe = Pipeline([('scaler', StandardScaler()), ('Decision Tree', DecisionTreeClassifier(random_state=0))])\n",
    "pipe.fit(X_train, y_train)\n",
    "print(pipe.score(X_test, y_test))\n",
    "model8=evaluate(pipe, X_test,  y_test, 'Decision Tree')\n",
    "model8.timetaken[0] = time.time() - time2\n",
    "print(model8)"
   ]
  },
  {
   "cell_type": "code",
   "execution_count": 367,
   "id": "c98f9845",
   "metadata": {},
   "outputs": [
    {
     "data": {
      "text/html": [
       "<div>\n",
       "<style scoped>\n",
       "    .dataframe tbody tr th:only-of-type {\n",
       "        vertical-align: middle;\n",
       "    }\n",
       "\n",
       "    .dataframe tbody tr th {\n",
       "        vertical-align: top;\n",
       "    }\n",
       "\n",
       "    .dataframe thead th {\n",
       "        text-align: right;\n",
       "    }\n",
       "</style>\n",
       "<table border=\"1\" class=\"dataframe\">\n",
       "  <thead>\n",
       "    <tr style=\"text-align: right;\">\n",
       "      <th></th>\n",
       "      <th>model</th>\n",
       "      <th>confusionmatrix</th>\n",
       "      <th>accuracy</th>\n",
       "      <th>precision</th>\n",
       "      <th>recall</th>\n",
       "      <th>f1score</th>\n",
       "      <th>rocauc</th>\n",
       "      <th>logloss</th>\n",
       "      <th>timetaken</th>\n",
       "    </tr>\n",
       "  </thead>\n",
       "  <tbody>\n",
       "    <tr>\n",
       "      <th>0</th>\n",
       "      <td>RandomForest</td>\n",
       "      <td>[[15, 0], [3, 12]]</td>\n",
       "      <td>0.900000</td>\n",
       "      <td>1.000000</td>\n",
       "      <td>0.800000</td>\n",
       "      <td>0.888889</td>\n",
       "      <td>0.900000</td>\n",
       "      <td>3.453878</td>\n",
       "      <td>0.088731</td>\n",
       "    </tr>\n",
       "    <tr>\n",
       "      <th>1</th>\n",
       "      <td>Extra Tree</td>\n",
       "      <td>[[12, 3], [1, 14]]</td>\n",
       "      <td>0.866667</td>\n",
       "      <td>0.823529</td>\n",
       "      <td>0.933333</td>\n",
       "      <td>0.875000</td>\n",
       "      <td>0.866667</td>\n",
       "      <td>4.605250</td>\n",
       "      <td>0.074708</td>\n",
       "    </tr>\n",
       "    <tr>\n",
       "      <th>2</th>\n",
       "      <td>Logistic Regression</td>\n",
       "      <td>[[13, 2], [0, 15]]</td>\n",
       "      <td>0.933333</td>\n",
       "      <td>0.882353</td>\n",
       "      <td>1.000000</td>\n",
       "      <td>0.937500</td>\n",
       "      <td>0.933333</td>\n",
       "      <td>2.302638</td>\n",
       "      <td>0.015624</td>\n",
       "    </tr>\n",
       "    <tr>\n",
       "      <th>3</th>\n",
       "      <td>KNN</td>\n",
       "      <td>[[12, 3], [1, 14]]</td>\n",
       "      <td>0.866667</td>\n",
       "      <td>0.823529</td>\n",
       "      <td>0.933333</td>\n",
       "      <td>0.875000</td>\n",
       "      <td>0.866667</td>\n",
       "      <td>4.605250</td>\n",
       "      <td>0.009037</td>\n",
       "    </tr>\n",
       "    <tr>\n",
       "      <th>4</th>\n",
       "      <td>LinearSVC</td>\n",
       "      <td>[[13, 2], [0, 15]]</td>\n",
       "      <td>0.933333</td>\n",
       "      <td>0.882353</td>\n",
       "      <td>1.000000</td>\n",
       "      <td>0.937500</td>\n",
       "      <td>0.933333</td>\n",
       "      <td>2.302638</td>\n",
       "      <td>0.006975</td>\n",
       "    </tr>\n",
       "    <tr>\n",
       "      <th>5</th>\n",
       "      <td>GaussianNB</td>\n",
       "      <td>[[12, 3], [2, 13]]</td>\n",
       "      <td>0.833333</td>\n",
       "      <td>0.812500</td>\n",
       "      <td>0.866667</td>\n",
       "      <td>0.838710</td>\n",
       "      <td>0.833333</td>\n",
       "      <td>5.756543</td>\n",
       "      <td>0.005979</td>\n",
       "    </tr>\n",
       "    <tr>\n",
       "      <th>6</th>\n",
       "      <td>SVC</td>\n",
       "      <td>[[14, 1], [1, 14]]</td>\n",
       "      <td>0.933333</td>\n",
       "      <td>0.933333</td>\n",
       "      <td>0.933333</td>\n",
       "      <td>0.933333</td>\n",
       "      <td>0.933333</td>\n",
       "      <td>2.302612</td>\n",
       "      <td>0.007972</td>\n",
       "    </tr>\n",
       "    <tr>\n",
       "      <th>7</th>\n",
       "      <td>Decision Tree</td>\n",
       "      <td>[[11, 4], [3, 12]]</td>\n",
       "      <td>0.766667</td>\n",
       "      <td>0.750000</td>\n",
       "      <td>0.800000</td>\n",
       "      <td>0.774194</td>\n",
       "      <td>0.766667</td>\n",
       "      <td>8.059154</td>\n",
       "      <td>0.007892</td>\n",
       "    </tr>\n",
       "  </tbody>\n",
       "</table>\n",
       "</div>"
      ],
      "text/plain": [
       "                 model     confusionmatrix  accuracy  precision    recall  \\\n",
       "0         RandomForest  [[15, 0], [3, 12]]  0.900000   1.000000  0.800000   \n",
       "1           Extra Tree  [[12, 3], [1, 14]]  0.866667   0.823529  0.933333   \n",
       "2  Logistic Regression  [[13, 2], [0, 15]]  0.933333   0.882353  1.000000   \n",
       "3                  KNN  [[12, 3], [1, 14]]  0.866667   0.823529  0.933333   \n",
       "4            LinearSVC  [[13, 2], [0, 15]]  0.933333   0.882353  1.000000   \n",
       "5           GaussianNB  [[12, 3], [2, 13]]  0.833333   0.812500  0.866667   \n",
       "6                  SVC  [[14, 1], [1, 14]]  0.933333   0.933333  0.933333   \n",
       "7        Decision Tree  [[11, 4], [3, 12]]  0.766667   0.750000  0.800000   \n",
       "\n",
       "    f1score    rocauc   logloss  timetaken  \n",
       "0  0.888889  0.900000  3.453878   0.088731  \n",
       "1  0.875000  0.866667  4.605250   0.074708  \n",
       "2  0.937500  0.933333  2.302638   0.015624  \n",
       "3  0.875000  0.866667  4.605250   0.009037  \n",
       "4  0.937500  0.933333  2.302638   0.006975  \n",
       "5  0.838710  0.833333  5.756543   0.005979  \n",
       "6  0.933333  0.933333  2.302612   0.007972  \n",
       "7  0.774194  0.766667  8.059154   0.007892  "
      ]
     },
     "execution_count": 367,
     "metadata": {},
     "output_type": "execute_result"
    }
   ],
   "source": [
    "df_base= pd.concat([model1,model2,model3,model4,model5,model6,model7,model8],axis = 0).reset_index()\n",
    "df_base.drop('index', axis=1, inplace=True)\n",
    "df_base"
   ]
  },
  {
   "cell_type": "markdown",
   "id": "369620f6",
   "metadata": {},
   "source": [
    "### RANDOM SEARCH CV"
   ]
  },
  {
   "cell_type": "code",
   "execution_count": 368,
   "id": "6dc3762b",
   "metadata": {},
   "outputs": [],
   "source": [
    "from sklearn.model_selection import RandomizedSearchCV\n",
    "from sklearn.pipeline import make_pipeline\n",
    "from sklearn.model_selection import GridSearchCV\n",
    "from sklearn.ensemble import ExtraTreesClassifier\n",
    "from sklearn import svm\n",
    "from sklearn.preprocessing import StandardScaler\n",
    "from sklearn.model_selection import RandomizedSearchCV\n",
    "from sklearn.model_selection import train_test_split\n",
    "from sklearn.svm import SVC\n",
    "from sklearn.preprocessing import StandardScaler\n",
    "from sklearn.model_selection import train_test_split\n",
    "from sklearn.pipeline import Pipeline\n",
    "from sklearn.metrics import classification_report"
   ]
  },
  {
   "cell_type": "code",
   "execution_count": 375,
   "id": "6e6b62c2",
   "metadata": {},
   "outputs": [],
   "source": [
    "model_params = {\n",
    "    'random_forest': {\n",
    "        'model': RandomForestClassifier(),\n",
    "        'params' : {\n",
    "            'randomforestclassifier__n_estimators': [int(x) for x in np.linspace(start = 200, stop = 2000, num = 10)],\n",
    "            'randomforestclassifier__max_depth' : [int(x) for x in np.linspace(10, 110, num = 11)],\n",
    "            'randomforestclassifier__min_samples_split' : [1,8,2,4,5,10],\n",
    "            'randomforestclassifier__min_samples_leaf' : [1,8,2,4,5,10],\n",
    "            'randomforestclassifier__max_features' : ['auto', 'sqrt'],\n",
    "            #'randomforestclassifier__random_state ' : [None]        \n",
    "        }\n",
    "    },\n",
    "\n",
    "    'extra_tree': {\n",
    "        'model': ExtraTreesClassifier(),\n",
    "        'params' : {\n",
    "            'extratreesclassifier__n_estimators': [int(x) for x in np.linspace(start = 200, stop = 2000, num = 10)],\n",
    "            'extratreesclassifier__max_depth' : [int(x) for x in np.linspace(10, 110, num = 11)],\n",
    "            'extratreesclassifier__min_samples_split' : [1,8,2,4,5,10],\n",
    "            'extratreesclassifier__min_samples_leaf' : [1,8,2,4,5,10],\n",
    "            'extratreesclassifier__max_features' : ['auto', 'sqrt'],\n",
    "            #'extratreesclassifier__bootstrap ' : [True, False]           \n",
    "        }\n",
    "    },\n",
    "\n",
    "      'logistic_regression' : {\n",
    "        'model': LogisticRegression(),\n",
    "        'params': {\n",
    "            'logisticregression__C': [float(x) for x in np.linspace(start = 1, stop = 20, num = 20)],\n",
    "            'logisticregression__solver' : ['liblinear','newton-cg','liblinear'],\n",
    "            'logisticregression__multi_class' : ['auto', 'ovr', 'multinomial'],\n",
    "            'logisticregression__max_iter' :[int(x) for x in np.linspace(start = 200, stop = 2000, num = 10)],\n",
    "            'logisticregression__class_weight' :[int(x) for x in np.linspace(start = 1, stop = 10, num = 10)],\n",
    "            'logisticregression__tol' :[0.00001,0.0001,0.001,0.01,0.1,0,1]\n",
    "        }\n",
    "    },\n",
    "    \n",
    "    \n",
    "\n",
    "\n",
    " 'knn': {\n",
    "        'model': KNeighborsClassifier(),\n",
    "        'params' : {\n",
    "            'kneighborsclassifier__leaf_size': [int(x) for x in np.linspace(start = 100, stop = 200, num = 20)],\n",
    "            'kneighborsclassifier__algorithm': ['auto', 'ball_tree', 'kd_tree', 'brute'],\n",
    "            'kneighborsclassifier__p' : [int(x) for x in np.linspace(1, 20, num = 20)]\n",
    "        }  \n",
    "    },\n",
    "\n",
    "\n",
    "    'linearsvc': {\n",
    "        'model': LinearSVC(),\n",
    "        'params' : {\n",
    "            #'linearsvc__class_weight': [int(x) for x in np.linspace(start = 0, stop = 110, num = 11)],\n",
    "            'linearsvc__dual': [True, False],\n",
    "            'linearsvc__tol': [0.00001,0.001,0.0001,0.01,0.1,1],\n",
    "            'linearsvc__C': [float(x) for x in np.linspace(start = 1, stop = 20, num = 20)],\n",
    "            'linearsvc__intercept_scaling': [int(x) for x in np.linspace(1, 50, num = 10)],\n",
    "            'linearsvc__max_iter': [int(x) for x in np.linspace(200, 2000, num = 10)],\n",
    "        }  \n",
    "    },\n",
    "    \n",
    "    'gaussiannb': {\n",
    "        'model': GaussianNB(),\n",
    "        'params' : {\n",
    "            'gaussiannb__var_smoothing': [0.00001,0.001,0.0001,0.01,0.1,1]           \n",
    "       }  \n",
    "    }, \n",
    "    'svm': {\n",
    "        'model': svm.SVC(gamma='auto',probability=True),\n",
    "        'params' : {\n",
    "            'svc__C': [float(x) for x in np.linspace(start = 1, stop = 20, num = 20)],\n",
    "            'svc__kernel': ['linear','rbf','poly','sigmoid'],\n",
    "            'svc__degree': [int(x) for x in np.linspace(start = 1, stop = 20, num = 20)]\n",
    "        }  \n",
    "    },\n",
    "    'decision_tree': {\n",
    "        'model': DecisionTreeClassifier(random_state=42),\n",
    "        'params' : {\n",
    "            'decisiontreeclassifier__max_depth' : [int(x) for x in np.linspace(10, 110, num = 11)],\n",
    "            'decisiontreeclassifier__min_samples_leaf': [1,5,10,8],\n",
    "            'decisiontreeclassifier__max_depth' : [int(x) for x in np.linspace(10, 210, num = 11)],\n",
    "            'decisiontreeclassifier__min_samples_split' : [1,8,5,10,2,4],\n",
    "            'decisiontreeclassifier__max_features' : ['auto', 'sqrt']\n",
    "            \n",
    "        }\n",
    "    }\n",
    "\n",
    "}\n",
    "    "
   ]
  },
  {
   "cell_type": "code",
   "execution_count": 376,
   "id": "05c2042d",
   "metadata": {},
   "outputs": [
    {
     "name": "stdout",
     "output_type": "stream",
     "text": [
      "Wall time: 1min 2s\n"
     ]
    },
    {
     "data": {
      "text/html": [
       "<div>\n",
       "<style scoped>\n",
       "    .dataframe tbody tr th:only-of-type {\n",
       "        vertical-align: middle;\n",
       "    }\n",
       "\n",
       "    .dataframe tbody tr th {\n",
       "        vertical-align: top;\n",
       "    }\n",
       "\n",
       "    .dataframe thead th {\n",
       "        text-align: right;\n",
       "    }\n",
       "</style>\n",
       "<table border=\"1\" class=\"dataframe\">\n",
       "  <thead>\n",
       "    <tr style=\"text-align: right;\">\n",
       "      <th></th>\n",
       "      <th>model</th>\n",
       "      <th>best_score</th>\n",
       "      <th>best_params</th>\n",
       "    </tr>\n",
       "  </thead>\n",
       "  <tbody>\n",
       "    <tr>\n",
       "      <th>0</th>\n",
       "      <td>random_forest</td>\n",
       "      <td>0.900000</td>\n",
       "      <td>{'randomforestclassifier__n_estimators': 200, ...</td>\n",
       "    </tr>\n",
       "    <tr>\n",
       "      <th>1</th>\n",
       "      <td>extra_tree</td>\n",
       "      <td>0.854945</td>\n",
       "      <td>{'extratreesclassifier__n_estimators': 400, 'e...</td>\n",
       "    </tr>\n",
       "    <tr>\n",
       "      <th>2</th>\n",
       "      <td>logistic_regression</td>\n",
       "      <td>0.897802</td>\n",
       "      <td>{'logisticregression__tol': 1e-05, 'logisticre...</td>\n",
       "    </tr>\n",
       "    <tr>\n",
       "      <th>3</th>\n",
       "      <td>knn</td>\n",
       "      <td>0.752747</td>\n",
       "      <td>{'kneighborsclassifier__p': 3, 'kneighborsclas...</td>\n",
       "    </tr>\n",
       "    <tr>\n",
       "      <th>4</th>\n",
       "      <td>linearsvc</td>\n",
       "      <td>0.869231</td>\n",
       "      <td>{'linearsvc__tol': 0.01, 'linearsvc__max_iter'...</td>\n",
       "    </tr>\n",
       "    <tr>\n",
       "      <th>5</th>\n",
       "      <td>gaussiannb</td>\n",
       "      <td>0.882418</td>\n",
       "      <td>{'gaussiannb__var_smoothing': 1}</td>\n",
       "    </tr>\n",
       "    <tr>\n",
       "      <th>6</th>\n",
       "      <td>svm</td>\n",
       "      <td>0.928571</td>\n",
       "      <td>{'svc__kernel': 'rbf', 'svc__degree': 9, 'svc_...</td>\n",
       "    </tr>\n",
       "    <tr>\n",
       "      <th>7</th>\n",
       "      <td>decision_tree</td>\n",
       "      <td>0.754945</td>\n",
       "      <td>{'decisiontreeclassifier__min_samples_split': ...</td>\n",
       "    </tr>\n",
       "  </tbody>\n",
       "</table>\n",
       "</div>"
      ],
      "text/plain": [
       "                 model  best_score  \\\n",
       "0        random_forest    0.900000   \n",
       "1           extra_tree    0.854945   \n",
       "2  logistic_regression    0.897802   \n",
       "3                  knn    0.752747   \n",
       "4            linearsvc    0.869231   \n",
       "5           gaussiannb    0.882418   \n",
       "6                  svm    0.928571   \n",
       "7        decision_tree    0.754945   \n",
       "\n",
       "                                         best_params  \n",
       "0  {'randomforestclassifier__n_estimators': 200, ...  \n",
       "1  {'extratreesclassifier__n_estimators': 400, 'e...  \n",
       "2  {'logisticregression__tol': 1e-05, 'logisticre...  \n",
       "3  {'kneighborsclassifier__p': 3, 'kneighborsclas...  \n",
       "4  {'linearsvc__tol': 0.01, 'linearsvc__max_iter'...  \n",
       "5                   {'gaussiannb__var_smoothing': 1}  \n",
       "6  {'svc__kernel': 'rbf', 'svc__degree': 9, 'svc_...  \n",
       "7  {'decisiontreeclassifier__min_samples_split': ...  "
      ]
     },
     "execution_count": 376,
     "metadata": {},
     "output_type": "execute_result"
    }
   ],
   "source": [
    "%%time\n",
    "scores = []\n",
    "best_estimators = {}\n",
    "import pandas as pd\n",
    "for algo, mp in model_params.items():\n",
    "    pipe = make_pipeline(StandardScaler(), mp['model'])\n",
    "    clf = RandomizedSearchCV (pipe, mp['params'], cv=5, return_train_score=False)\n",
    "    clf.fit(X_train, y_train)\n",
    "    scores.append({\n",
    "        'model': algo,\n",
    "        'best_score': clf.best_score_,\n",
    "        'best_params': clf.best_params_\n",
    "    })\n",
    "    best_estimators[algo] = clf.best_estimator_\n",
    "    \n",
    "df = pd.DataFrame(scores,columns=['model','best_score','best_params'])\n",
    "df"
   ]
  },
  {
   "cell_type": "code",
   "execution_count": 377,
   "id": "38d21f54",
   "metadata": {
    "scrolled": true
   },
   "outputs": [
    {
     "data": {
      "text/plain": [
       "{'random_forest': Pipeline(memory=None,\n",
       "          steps=[('standardscaler',\n",
       "                  StandardScaler(copy=True, with_mean=True, with_std=True)),\n",
       "                 ('randomforestclassifier',\n",
       "                  RandomForestClassifier(bootstrap=True, ccp_alpha=0.0,\n",
       "                                         class_weight=None, criterion='gini',\n",
       "                                         max_depth=50, max_features='auto',\n",
       "                                         max_leaf_nodes=None, max_samples=None,\n",
       "                                         min_impurity_decrease=0.0,\n",
       "                                         min_impurity_split=None,\n",
       "                                         min_samples_leaf=5,\n",
       "                                         min_samples_split=10,\n",
       "                                         min_weight_fraction_leaf=0.0,\n",
       "                                         n_estimators=200, n_jobs=None,\n",
       "                                         oob_score=False, random_state=None,\n",
       "                                         verbose=0, warm_start=False))],\n",
       "          verbose=False),\n",
       " 'extra_tree': Pipeline(memory=None,\n",
       "          steps=[('standardscaler',\n",
       "                  StandardScaler(copy=True, with_mean=True, with_std=True)),\n",
       "                 ('extratreesclassifier',\n",
       "                  ExtraTreesClassifier(bootstrap=False, ccp_alpha=0.0,\n",
       "                                       class_weight=None, criterion='gini',\n",
       "                                       max_depth=110, max_features='sqrt',\n",
       "                                       max_leaf_nodes=None, max_samples=None,\n",
       "                                       min_impurity_decrease=0.0,\n",
       "                                       min_impurity_split=None,\n",
       "                                       min_samples_leaf=5, min_samples_split=2,\n",
       "                                       min_weight_fraction_leaf=0.0,\n",
       "                                       n_estimators=400, n_jobs=None,\n",
       "                                       oob_score=False, random_state=None,\n",
       "                                       verbose=0, warm_start=False))],\n",
       "          verbose=False),\n",
       " 'logistic_regression': Pipeline(memory=None,\n",
       "          steps=[('standardscaler',\n",
       "                  StandardScaler(copy=True, with_mean=True, with_std=True)),\n",
       "                 ('logisticregression',\n",
       "                  LogisticRegression(C=13.0, class_weight=6, dual=False,\n",
       "                                     fit_intercept=True, intercept_scaling=1,\n",
       "                                     l1_ratio=None, max_iter=1000,\n",
       "                                     multi_class='auto', n_jobs=None,\n",
       "                                     penalty='l2', random_state=None,\n",
       "                                     solver='newton-cg', tol=1e-05, verbose=0,\n",
       "                                     warm_start=False))],\n",
       "          verbose=False),\n",
       " 'knn': Pipeline(memory=None,\n",
       "          steps=[('standardscaler',\n",
       "                  StandardScaler(copy=True, with_mean=True, with_std=True)),\n",
       "                 ('kneighborsclassifier',\n",
       "                  KNeighborsClassifier(algorithm='ball_tree', leaf_size=168,\n",
       "                                       metric='minkowski', metric_params=None,\n",
       "                                       n_jobs=None, n_neighbors=5, p=3,\n",
       "                                       weights='uniform'))],\n",
       "          verbose=False),\n",
       " 'linearsvc': Pipeline(memory=None,\n",
       "          steps=[('standardscaler',\n",
       "                  StandardScaler(copy=True, with_mean=True, with_std=True)),\n",
       "                 ('linearsvc',\n",
       "                  LinearSVC(C=19.0, class_weight=None, dual=False,\n",
       "                            fit_intercept=True, intercept_scaling=11,\n",
       "                            loss='squared_hinge', max_iter=200,\n",
       "                            multi_class='ovr', penalty='l2', random_state=None,\n",
       "                            tol=0.01, verbose=0))],\n",
       "          verbose=False),\n",
       " 'gaussiannb': Pipeline(memory=None,\n",
       "          steps=[('standardscaler',\n",
       "                  StandardScaler(copy=True, with_mean=True, with_std=True)),\n",
       "                 ('gaussiannb', GaussianNB(priors=None, var_smoothing=1))],\n",
       "          verbose=False),\n",
       " 'svm': Pipeline(memory=None,\n",
       "          steps=[('standardscaler',\n",
       "                  StandardScaler(copy=True, with_mean=True, with_std=True)),\n",
       "                 ('svc',\n",
       "                  SVC(C=4.0, break_ties=False, cache_size=200, class_weight=None,\n",
       "                      coef0=0.0, decision_function_shape='ovr', degree=9,\n",
       "                      gamma='auto', kernel='rbf', max_iter=-1, probability=True,\n",
       "                      random_state=None, shrinking=True, tol=0.001,\n",
       "                      verbose=False))],\n",
       "          verbose=False),\n",
       " 'decision_tree': Pipeline(memory=None,\n",
       "          steps=[('standardscaler',\n",
       "                  StandardScaler(copy=True, with_mean=True, with_std=True)),\n",
       "                 ('decisiontreeclassifier',\n",
       "                  DecisionTreeClassifier(ccp_alpha=0.0, class_weight=None,\n",
       "                                         criterion='gini', max_depth=170,\n",
       "                                         max_features='sqrt',\n",
       "                                         max_leaf_nodes=None,\n",
       "                                         min_impurity_decrease=0.0,\n",
       "                                         min_impurity_split=None,\n",
       "                                         min_samples_leaf=10,\n",
       "                                         min_samples_split=5,\n",
       "                                         min_weight_fraction_leaf=0.0,\n",
       "                                         presort='deprecated', random_state=42,\n",
       "                                         splitter='best'))],\n",
       "          verbose=False)}"
      ]
     },
     "execution_count": 377,
     "metadata": {},
     "output_type": "execute_result"
    }
   ],
   "source": [
    "best_estimators"
   ]
  },
  {
   "cell_type": "code",
   "execution_count": 408,
   "id": "5c4e18fa",
   "metadata": {},
   "outputs": [
    {
     "name": "stdout",
     "output_type": "stream",
     "text": [
      "0.9333333333333333\n",
      "          model     confusionmatrix  accuracy  precision    recall   f1score  \\\n",
      "0  Randomforest  [[15, 0], [2, 13]]  0.933333        1.0  0.866667  0.928571   \n",
      "\n",
      "     rocauc   logloss  timetaken  \n",
      "0  0.933333  2.302585  461.19071  \n",
      "Wall time: 160 ms\n"
     ]
    }
   ],
   "source": [
    "%%time\n",
    "time1 = time.time()\n",
    "\n",
    "pipe1 = Pipeline([('scaler', StandardScaler()), ('randomforest', RandomForestClassifier(max_depth=50, min_samples_split=10, min_samples_leaf=5,\n",
    "                                         n_estimators=200,random_state=42))])\n",
    "pipe1.fit(X_train, y_train)\n",
    "print(pipe1.score(X_test, y_test))\n",
    "model11=evaluate(pipe1, X_test,  y_test, 'Randomforest')\n",
    "model11.timetaken[0] = time.time() - time2\n",
    "print(model11)\n",
    "\n",
    "\n",
    "\n"
   ]
  },
  {
   "cell_type": "code",
   "execution_count": 420,
   "id": "ca73f441",
   "metadata": {},
   "outputs": [
    {
     "name": "stdout",
     "output_type": "stream",
     "text": [
      "0.9333333333333333\n",
      "       model     confusionmatrix  accuracy  precision    recall   f1score  \\\n",
      "0  Extratree  [[14, 1], [1, 14]]  0.933333   0.933333  0.933333  0.933333   \n",
      "\n",
      "     rocauc   logloss   timetaken  \n",
      "0  0.933333  2.302612  567.697465  \n",
      "Wall time: 240 ms\n"
     ]
    }
   ],
   "source": [
    "%%time\n",
    "time1 = time.time()\n",
    "\n",
    "pipe2 = Pipeline([('scaler', StandardScaler()), ('extratree', ExtraTreesClassifier(max_depth=110, min_samples_split=2, min_samples_leaf=5,\n",
    "                                         n_estimators=400,random_state=42))])\n",
    "pipe2.fit(X_train, y_train)\n",
    "print(pipe2.score(X_test, y_test))\n",
    "model12=evaluate(pipe2, X_test,  y_test, 'Extratree')\n",
    "model12.timetaken[0] = time.time() - time2\n",
    "print(model12)\n",
    "\n",
    "\n",
    " \n"
   ]
  },
  {
   "cell_type": "code",
   "execution_count": 443,
   "id": "b76d6630",
   "metadata": {},
   "outputs": [
    {
     "name": "stdout",
     "output_type": "stream",
     "text": [
      "0.8666666666666667\n",
      "  model     confusionmatrix  accuracy  precision  recall   f1score    rocauc  \\\n",
      "0   KNN  [[11, 4], [0, 15]]  0.866667   0.789474     1.0  0.882353  0.866667   \n",
      "\n",
      "    logloss  timetaken  \n",
      "0  4.605277  34.902503  \n",
      "Wall time: 24 ms\n"
     ]
    }
   ],
   "source": [
    "%%time\n",
    "time1 = time.time()\n",
    "\n",
    "pipe4 = Pipeline([('scaler', StandardScaler()), ('KNeighborsClassifier', KNeighborsClassifier(algorithm='ball_tree', leaf_size=168,\n",
    "                                       p=3,n_neighbors=6))])\n",
    "pipe4.fit(X_train, y_train)\n",
    "print(pipe4.score(X_test, y_test))\n",
    "model14=evaluate(pipe4, X_test,  y_test, 'KNN')\n",
    "model14.timetaken[0] = time.time() - time2\n",
    "print(model14)\n",
    "\n",
    "\n"
   ]
  },
  {
   "cell_type": "code",
   "execution_count": 446,
   "id": "4a4485d9",
   "metadata": {},
   "outputs": [
    {
     "name": "stdout",
     "output_type": "stream",
     "text": [
      "0.9333333333333333\n",
      "                model     confusionmatrix  accuracy  precision  recall  \\\n",
      "0  LogisticRegression  [[13, 2], [0, 15]]  0.933333   0.882353     1.0   \n",
      "\n",
      "   f1score    rocauc   logloss   timetaken  \n",
      "0   0.9375  0.933333  2.302638  141.905118  \n",
      "Wall time: 17.3 ms\n"
     ]
    }
   ],
   "source": [
    "%%time\n",
    "time1 = time.time()\n",
    "\n",
    "pipe3 = Pipeline([('scaler', StandardScaler()), ('LogisticRegression', LogisticRegression(C=13.0, class_weight=6, max_iter=1000,\n",
    "                                     multi_class='auto', solver='newton-cg',\n",
    "                                     tol=1e-05,random_state=42))])\n",
    "pipe3.fit(X_train, y_train)\n",
    "print(pipe3.score(X_test, y_test))\n",
    "model13=evaluate(pipe3, X_test,  y_test, 'LogisticRegression')\n",
    "model13.timetaken[0] = time.time() - time2\n",
    "print(model13)\n",
    "\n",
    "\n"
   ]
  },
  {
   "cell_type": "code",
   "execution_count": 448,
   "id": "5ffc37a8",
   "metadata": {},
   "outputs": [
    {
     "name": "stdout",
     "output_type": "stream",
     "text": [
      "0.9333333333333333\n",
      "       model     confusionmatrix  accuracy  precision  recall  f1score  \\\n",
      "0  LinearSVC  [[13, 2], [0, 15]]  0.933333   0.882353     1.0   0.9375   \n",
      "\n",
      "     rocauc   logloss   timetaken  \n",
      "0  0.933333  2.302638  217.534606  \n",
      "Wall time: 11.1 ms\n"
     ]
    }
   ],
   "source": [
    "%%time\n",
    "time1 = time.time()\n",
    "\n",
    "pipe5 = Pipeline([('scaler', StandardScaler()), ('linearsvc',\n",
    "                  LinearSVC(C=19.0, intercept_scaling=11, max_iter=200,\n",
    "                            tol=0.01))])\n",
    "pipe5.fit(X_train, y_train)\n",
    "print(pipe5.score(X_test, y_test))\n",
    "model15=evaluate(pipe5, X_test,  y_test, 'LinearSVC')\n",
    "model15.timetaken[0] = time.time() - time2\n",
    "print(model15)\n",
    "\n",
    "\n",
    "\n"
   ]
  },
  {
   "cell_type": "code",
   "execution_count": 456,
   "id": "56174b86",
   "metadata": {},
   "outputs": [
    {
     "name": "stdout",
     "output_type": "stream",
     "text": [
      "0.9\n",
      "         model     confusionmatrix  accuracy  precision  recall   f1score  \\\n",
      "0  GasussianNB  [[15, 0], [3, 12]]       0.9        1.0     0.8  0.888889   \n",
      "\n",
      "   rocauc   logloss   timetaken  \n",
      "0     0.9  3.453878  248.008723  \n",
      "Wall time: 8.27 ms\n"
     ]
    }
   ],
   "source": [
    "%%time\n",
    "time1 = time.time()\n",
    "\n",
    "pipe6 = Pipeline([('scaler', StandardScaler()), ('gaussiannb', GaussianNB(var_smoothing=0.1))])\n",
    "pipe6.fit(X_train, y_train)\n",
    "print(pipe6.score(X_test, y_test))\n",
    "model16=evaluate(pipe6, X_test,  y_test, 'GasussianNB')\n",
    "model16.timetaken[0] = time.time() - time2\n",
    "print(model16)\n",
    "\n",
    "\n",
    "\n"
   ]
  },
  {
   "cell_type": "code",
   "execution_count": 458,
   "id": "5a5fa4ce",
   "metadata": {},
   "outputs": [
    {
     "name": "stdout",
     "output_type": "stream",
     "text": [
      "0.9333333333333333\n",
      "  model     confusionmatrix  accuracy  precision    recall   f1score  \\\n",
      "0   SVC  [[14, 1], [1, 14]]  0.933333   0.933333  0.933333  0.933333   \n",
      "\n",
      "     rocauc   logloss   timetaken  \n",
      "0  0.933333  2.302612  344.225125  \n",
      "Wall time: 14.2 ms\n"
     ]
    }
   ],
   "source": [
    "%%time\n",
    "time1 = time.time()\n",
    "\n",
    "pipe7 = Pipeline([('scaler', StandardScaler()), ('svc',\n",
    "                  SVC(C=4.0, degree=9, gamma='auto', probability=True))])\n",
    "pipe7.fit(X_train, y_train)\n",
    "print(pipe7.score(X_test, y_test))\n",
    "model17=evaluate(pipe7, X_test,  y_test, 'SVC')\n",
    "model17.timetaken[0] = time.time() - time2\n",
    "print(model17)\n",
    "\n",
    "\n"
   ]
  },
  {
   "cell_type": "code",
   "execution_count": 461,
   "id": "8e8cb65a",
   "metadata": {},
   "outputs": [
    {
     "name": "stdout",
     "output_type": "stream",
     "text": [
      "0.9333333333333333\n",
      "          model     confusionmatrix  accuracy  precision    recall   f1score  \\\n",
      "0  Decisiontree  [[15, 0], [2, 13]]  0.933333        1.0  0.866667  0.928571   \n",
      "\n",
      "     rocauc   logloss   timetaken  \n",
      "0  0.933333  2.302585  350.005818  \n",
      "Wall time: 8.98 ms\n"
     ]
    }
   ],
   "source": [
    "%%time\n",
    "time1 = time.time()\n",
    "\n",
    "pipe8 = Pipeline([('scaler', StandardScaler()), ('decisiontreeclassifier',\n",
    "                  DecisionTreeClassifier(max_depth=170, max_features='sqrt',\n",
    "                                         min_samples_leaf=10, min_samples_split=5,\n",
    "                                         random_state=42))])\n",
    "pipe8.fit(X_train, y_train)\n",
    "print(pipe8.score(X_test, y_test))\n",
    "model18=evaluate(pipe8, X_test,  y_test, 'Decisiontree')\n",
    "model18.timetaken[0] = time.time() - time2\n",
    "print(model18)\n",
    "\n",
    "\n",
    "\n"
   ]
  },
  {
   "cell_type": "code",
   "execution_count": 462,
   "id": "8fbcbdb6",
   "metadata": {},
   "outputs": [
    {
     "data": {
      "text/html": [
       "<div>\n",
       "<style scoped>\n",
       "    .dataframe tbody tr th:only-of-type {\n",
       "        vertical-align: middle;\n",
       "    }\n",
       "\n",
       "    .dataframe tbody tr th {\n",
       "        vertical-align: top;\n",
       "    }\n",
       "\n",
       "    .dataframe thead th {\n",
       "        text-align: right;\n",
       "    }\n",
       "</style>\n",
       "<table border=\"1\" class=\"dataframe\">\n",
       "  <thead>\n",
       "    <tr style=\"text-align: right;\">\n",
       "      <th></th>\n",
       "      <th>model</th>\n",
       "      <th>confusionmatrix</th>\n",
       "      <th>accuracy</th>\n",
       "      <th>precision</th>\n",
       "      <th>recall</th>\n",
       "      <th>f1score</th>\n",
       "      <th>rocauc</th>\n",
       "      <th>logloss</th>\n",
       "      <th>timetaken</th>\n",
       "    </tr>\n",
       "  </thead>\n",
       "  <tbody>\n",
       "    <tr>\n",
       "      <th>0</th>\n",
       "      <td>Randomforest</td>\n",
       "      <td>[[15, 0], [2, 13]]</td>\n",
       "      <td>0.933333</td>\n",
       "      <td>1.000000</td>\n",
       "      <td>0.866667</td>\n",
       "      <td>0.928571</td>\n",
       "      <td>0.933333</td>\n",
       "      <td>2.302585</td>\n",
       "      <td>461.190710</td>\n",
       "    </tr>\n",
       "    <tr>\n",
       "      <th>1</th>\n",
       "      <td>Extratree</td>\n",
       "      <td>[[14, 1], [1, 14]]</td>\n",
       "      <td>0.933333</td>\n",
       "      <td>0.933333</td>\n",
       "      <td>0.933333</td>\n",
       "      <td>0.933333</td>\n",
       "      <td>0.933333</td>\n",
       "      <td>2.302612</td>\n",
       "      <td>567.697465</td>\n",
       "    </tr>\n",
       "    <tr>\n",
       "      <th>2</th>\n",
       "      <td>LogisticRegression</td>\n",
       "      <td>[[13, 2], [0, 15]]</td>\n",
       "      <td>0.933333</td>\n",
       "      <td>0.882353</td>\n",
       "      <td>1.000000</td>\n",
       "      <td>0.937500</td>\n",
       "      <td>0.933333</td>\n",
       "      <td>2.302638</td>\n",
       "      <td>141.905118</td>\n",
       "    </tr>\n",
       "    <tr>\n",
       "      <th>3</th>\n",
       "      <td>KNN</td>\n",
       "      <td>[[11, 4], [0, 15]]</td>\n",
       "      <td>0.866667</td>\n",
       "      <td>0.789474</td>\n",
       "      <td>1.000000</td>\n",
       "      <td>0.882353</td>\n",
       "      <td>0.866667</td>\n",
       "      <td>4.605277</td>\n",
       "      <td>34.902503</td>\n",
       "    </tr>\n",
       "    <tr>\n",
       "      <th>4</th>\n",
       "      <td>LinearSVC</td>\n",
       "      <td>[[13, 2], [0, 15]]</td>\n",
       "      <td>0.933333</td>\n",
       "      <td>0.882353</td>\n",
       "      <td>1.000000</td>\n",
       "      <td>0.937500</td>\n",
       "      <td>0.933333</td>\n",
       "      <td>2.302638</td>\n",
       "      <td>217.534606</td>\n",
       "    </tr>\n",
       "    <tr>\n",
       "      <th>5</th>\n",
       "      <td>GasussianNB</td>\n",
       "      <td>[[15, 0], [3, 12]]</td>\n",
       "      <td>0.900000</td>\n",
       "      <td>1.000000</td>\n",
       "      <td>0.800000</td>\n",
       "      <td>0.888889</td>\n",
       "      <td>0.900000</td>\n",
       "      <td>3.453878</td>\n",
       "      <td>248.008723</td>\n",
       "    </tr>\n",
       "    <tr>\n",
       "      <th>6</th>\n",
       "      <td>SVC</td>\n",
       "      <td>[[14, 1], [1, 14]]</td>\n",
       "      <td>0.933333</td>\n",
       "      <td>0.933333</td>\n",
       "      <td>0.933333</td>\n",
       "      <td>0.933333</td>\n",
       "      <td>0.933333</td>\n",
       "      <td>2.302612</td>\n",
       "      <td>344.225125</td>\n",
       "    </tr>\n",
       "    <tr>\n",
       "      <th>7</th>\n",
       "      <td>Decisiontree</td>\n",
       "      <td>[[15, 0], [2, 13]]</td>\n",
       "      <td>0.933333</td>\n",
       "      <td>1.000000</td>\n",
       "      <td>0.866667</td>\n",
       "      <td>0.928571</td>\n",
       "      <td>0.933333</td>\n",
       "      <td>2.302585</td>\n",
       "      <td>350.005818</td>\n",
       "    </tr>\n",
       "  </tbody>\n",
       "</table>\n",
       "</div>"
      ],
      "text/plain": [
       "                model     confusionmatrix  accuracy  precision    recall  \\\n",
       "0        Randomforest  [[15, 0], [2, 13]]  0.933333   1.000000  0.866667   \n",
       "1           Extratree  [[14, 1], [1, 14]]  0.933333   0.933333  0.933333   \n",
       "2  LogisticRegression  [[13, 2], [0, 15]]  0.933333   0.882353  1.000000   \n",
       "3                 KNN  [[11, 4], [0, 15]]  0.866667   0.789474  1.000000   \n",
       "4           LinearSVC  [[13, 2], [0, 15]]  0.933333   0.882353  1.000000   \n",
       "5         GasussianNB  [[15, 0], [3, 12]]  0.900000   1.000000  0.800000   \n",
       "6                 SVC  [[14, 1], [1, 14]]  0.933333   0.933333  0.933333   \n",
       "7        Decisiontree  [[15, 0], [2, 13]]  0.933333   1.000000  0.866667   \n",
       "\n",
       "    f1score    rocauc   logloss   timetaken  \n",
       "0  0.928571  0.933333  2.302585  461.190710  \n",
       "1  0.933333  0.933333  2.302612  567.697465  \n",
       "2  0.937500  0.933333  2.302638  141.905118  \n",
       "3  0.882353  0.866667  4.605277   34.902503  \n",
       "4  0.937500  0.933333  2.302638  217.534606  \n",
       "5  0.888889  0.900000  3.453878  248.008723  \n",
       "6  0.933333  0.933333  2.302612  344.225125  \n",
       "7  0.928571  0.933333  2.302585  350.005818  "
      ]
     },
     "execution_count": 462,
     "metadata": {},
     "output_type": "execute_result"
    }
   ],
   "source": [
    "df_random= pd.concat([model11,model12,model13,model14,model15,model16,model17,model18],axis = 0).reset_index()\n",
    "df_random.drop('index', axis=1, inplace=True)\n",
    "df_random"
   ]
  },
  {
   "cell_type": "code",
   "execution_count": 463,
   "id": "77fe6df2",
   "metadata": {},
   "outputs": [
    {
     "data": {
      "text/html": [
       "<div>\n",
       "<style scoped>\n",
       "    .dataframe tbody tr th:only-of-type {\n",
       "        vertical-align: middle;\n",
       "    }\n",
       "\n",
       "    .dataframe tbody tr th {\n",
       "        vertical-align: top;\n",
       "    }\n",
       "\n",
       "    .dataframe thead th {\n",
       "        text-align: right;\n",
       "    }\n",
       "</style>\n",
       "<table border=\"1\" class=\"dataframe\">\n",
       "  <thead>\n",
       "    <tr style=\"text-align: right;\">\n",
       "      <th></th>\n",
       "      <th>model</th>\n",
       "      <th>confusionmatrix</th>\n",
       "      <th>accuracy</th>\n",
       "      <th>precision</th>\n",
       "      <th>recall</th>\n",
       "      <th>f1score</th>\n",
       "      <th>rocauc</th>\n",
       "      <th>logloss</th>\n",
       "      <th>timetaken</th>\n",
       "    </tr>\n",
       "  </thead>\n",
       "  <tbody>\n",
       "    <tr>\n",
       "      <th>0</th>\n",
       "      <td>RandomForest</td>\n",
       "      <td>[[15, 0], [3, 12]]</td>\n",
       "      <td>0.900000</td>\n",
       "      <td>1.000000</td>\n",
       "      <td>0.800000</td>\n",
       "      <td>0.888889</td>\n",
       "      <td>0.900000</td>\n",
       "      <td>3.453878</td>\n",
       "      <td>0.088731</td>\n",
       "    </tr>\n",
       "    <tr>\n",
       "      <th>1</th>\n",
       "      <td>Extra Tree</td>\n",
       "      <td>[[12, 3], [1, 14]]</td>\n",
       "      <td>0.866667</td>\n",
       "      <td>0.823529</td>\n",
       "      <td>0.933333</td>\n",
       "      <td>0.875000</td>\n",
       "      <td>0.866667</td>\n",
       "      <td>4.605250</td>\n",
       "      <td>0.074708</td>\n",
       "    </tr>\n",
       "    <tr>\n",
       "      <th>2</th>\n",
       "      <td>Logistic Regression</td>\n",
       "      <td>[[13, 2], [0, 15]]</td>\n",
       "      <td>0.933333</td>\n",
       "      <td>0.882353</td>\n",
       "      <td>1.000000</td>\n",
       "      <td>0.937500</td>\n",
       "      <td>0.933333</td>\n",
       "      <td>2.302638</td>\n",
       "      <td>0.015624</td>\n",
       "    </tr>\n",
       "    <tr>\n",
       "      <th>3</th>\n",
       "      <td>KNN</td>\n",
       "      <td>[[12, 3], [1, 14]]</td>\n",
       "      <td>0.866667</td>\n",
       "      <td>0.823529</td>\n",
       "      <td>0.933333</td>\n",
       "      <td>0.875000</td>\n",
       "      <td>0.866667</td>\n",
       "      <td>4.605250</td>\n",
       "      <td>0.009037</td>\n",
       "    </tr>\n",
       "    <tr>\n",
       "      <th>4</th>\n",
       "      <td>LinearSVC</td>\n",
       "      <td>[[13, 2], [0, 15]]</td>\n",
       "      <td>0.933333</td>\n",
       "      <td>0.882353</td>\n",
       "      <td>1.000000</td>\n",
       "      <td>0.937500</td>\n",
       "      <td>0.933333</td>\n",
       "      <td>2.302638</td>\n",
       "      <td>0.006975</td>\n",
       "    </tr>\n",
       "    <tr>\n",
       "      <th>5</th>\n",
       "      <td>GaussianNB</td>\n",
       "      <td>[[12, 3], [2, 13]]</td>\n",
       "      <td>0.833333</td>\n",
       "      <td>0.812500</td>\n",
       "      <td>0.866667</td>\n",
       "      <td>0.838710</td>\n",
       "      <td>0.833333</td>\n",
       "      <td>5.756543</td>\n",
       "      <td>0.005979</td>\n",
       "    </tr>\n",
       "    <tr>\n",
       "      <th>6</th>\n",
       "      <td>SVC</td>\n",
       "      <td>[[14, 1], [1, 14]]</td>\n",
       "      <td>0.933333</td>\n",
       "      <td>0.933333</td>\n",
       "      <td>0.933333</td>\n",
       "      <td>0.933333</td>\n",
       "      <td>0.933333</td>\n",
       "      <td>2.302612</td>\n",
       "      <td>0.007972</td>\n",
       "    </tr>\n",
       "    <tr>\n",
       "      <th>7</th>\n",
       "      <td>Decision Tree</td>\n",
       "      <td>[[11, 4], [3, 12]]</td>\n",
       "      <td>0.766667</td>\n",
       "      <td>0.750000</td>\n",
       "      <td>0.800000</td>\n",
       "      <td>0.774194</td>\n",
       "      <td>0.766667</td>\n",
       "      <td>8.059154</td>\n",
       "      <td>0.007892</td>\n",
       "    </tr>\n",
       "  </tbody>\n",
       "</table>\n",
       "</div>"
      ],
      "text/plain": [
       "                 model     confusionmatrix  accuracy  precision    recall  \\\n",
       "0         RandomForest  [[15, 0], [3, 12]]  0.900000   1.000000  0.800000   \n",
       "1           Extra Tree  [[12, 3], [1, 14]]  0.866667   0.823529  0.933333   \n",
       "2  Logistic Regression  [[13, 2], [0, 15]]  0.933333   0.882353  1.000000   \n",
       "3                  KNN  [[12, 3], [1, 14]]  0.866667   0.823529  0.933333   \n",
       "4            LinearSVC  [[13, 2], [0, 15]]  0.933333   0.882353  1.000000   \n",
       "5           GaussianNB  [[12, 3], [2, 13]]  0.833333   0.812500  0.866667   \n",
       "6                  SVC  [[14, 1], [1, 14]]  0.933333   0.933333  0.933333   \n",
       "7        Decision Tree  [[11, 4], [3, 12]]  0.766667   0.750000  0.800000   \n",
       "\n",
       "    f1score    rocauc   logloss  timetaken  \n",
       "0  0.888889  0.900000  3.453878   0.088731  \n",
       "1  0.875000  0.866667  4.605250   0.074708  \n",
       "2  0.937500  0.933333  2.302638   0.015624  \n",
       "3  0.875000  0.866667  4.605250   0.009037  \n",
       "4  0.937500  0.933333  2.302638   0.006975  \n",
       "5  0.838710  0.833333  5.756543   0.005979  \n",
       "6  0.933333  0.933333  2.302612   0.007972  \n",
       "7  0.774194  0.766667  8.059154   0.007892  "
      ]
     },
     "execution_count": 463,
     "metadata": {},
     "output_type": "execute_result"
    }
   ],
   "source": [
    "df_base"
   ]
  },
  {
   "cell_type": "code",
   "execution_count": 464,
   "id": "6d66db0b",
   "metadata": {},
   "outputs": [],
   "source": [
    "model_params = {\n",
    "    'random_forest': {\n",
    "        'model': RandomForestClassifier(),\n",
    "        'params' : {\n",
    "            'randomforestclassifier__n_estimators': [100,200,250],\n",
    "            'randomforestclassifier__max_depth' : [10,50,100],\n",
    "            'randomforestclassifier__min_samples_split' : [2,10,12],\n",
    "            'randomforestclassifier__min_samples_leaf' : [1,5,8],\n",
    "            'randomforestclassifier__max_features' : ['auto', 'sqrt'],\n",
    "            #'randomforestclassifier__random_state ' : [None]        \n",
    "        }\n",
    "    },\n",
    "\n",
    "    'extra_tree': {\n",
    "        'model': ExtraTreesClassifier(),\n",
    "        'params' : {\n",
    "            'extratreesclassifier__n_estimators': [400,100,500],\n",
    "            'extratreesclassifier__max_depth' : [110,120,150],\n",
    "            'extratreesclassifier__min_samples_split' : [2,5,10],\n",
    "            'extratreesclassifier__min_samples_leaf' : [2,5,10],\n",
    "            'extratreesclassifier__max_features' : ['auto', 'sqrt'],\n",
    "            #'extratreesclassifier__bootstrap ' : [True, False]           \n",
    "        }\n",
    "    },\n",
    "\n",
    "      'logistic_regression' : {\n",
    "        'model': LogisticRegression(),\n",
    "        'params': {\n",
    "            'logisticregression__C': [10,13,15],\n",
    "            'logisticregression__solver' : ['liblinear','newton-cg','liblinear'],\n",
    "            'logisticregression__multi_class' : ['auto', 'ovr', 'multinomial'],\n",
    "            'logisticregression__max_iter' :[800,1000,1200],\n",
    "            'logisticregression__class_weight' :[2,6,10],\n",
    "            'logisticregression__tol' :[0.00001,0.1,1]\n",
    "        }\n",
    "    },\n",
    "    \n",
    "    \n",
    "\n",
    "\n",
    " 'knn': {\n",
    "        'model': KNeighborsClassifier(),\n",
    "        'params' : {\n",
    "            'kneighborsclassifier__leaf_size': [120,168,200],\n",
    "            'kneighborsclassifier__algorithm': ['auto', 'ball_tree'],\n",
    "            'kneighborsclassifier__p' : [3,6,8]\n",
    "        }  \n",
    "    },\n",
    "\n",
    "\n",
    "    'linearsvc': {\n",
    "        'model': LinearSVC(),\n",
    "        'params' : {\n",
    "            #'linearsvc__class_weight': [int(x) for x in np.linspace(start = 0, stop = 110, num = 11)],\n",
    "            'linearsvc__dual': [True, False],\n",
    "            'linearsvc__tol': [0.0001,0.01,1],\n",
    "            'linearsvc__C': [15,19,25],\n",
    "            'linearsvc__intercept_scaling': [10,11,15],\n",
    "            'linearsvc__max_iter': [100,200,1000],\n",
    "        }  \n",
    "    },\n",
    "    \n",
    "    'gaussiannb': {\n",
    "        'model': GaussianNB(),\n",
    "        'params' : {\n",
    "            'gaussiannb__var_smoothing': [0.00001,0.1,1]           \n",
    "       }  \n",
    "    }, \n",
    "    'svm': {\n",
    "        'model': svm.SVC(gamma='auto',probability=True),\n",
    "        'params' : {\n",
    "            'svc__C': [2,4,8],\n",
    "            'svc__kernel': ['linear','rbf'],\n",
    "            'svc__degree': [5,9,15]\n",
    "        }  \n",
    "    },\n",
    "    'decision_tree': {\n",
    "        'model': DecisionTreeClassifier(random_state=42),\n",
    "        'params' : {\n",
    "            'decisiontreeclassifier__max_depth' : [150,170,200],\n",
    "            'decisiontreeclassifier__min_samples_leaf': [5,10,15],\n",
    "            #'decisiontreeclassifier__max_depth' : [int(x) for x in np.linspace(10, 210, num = 11)],\n",
    "            'decisiontreeclassifier__min_samples_split' : [5,10,15],\n",
    "            'decisiontreeclassifier__max_features' : ['auto', 'sqrt']\n",
    "            \n",
    "        }\n",
    "    }\n",
    "\n",
    "}\n",
    "    "
   ]
  },
  {
   "cell_type": "code",
   "execution_count": 465,
   "id": "27112449",
   "metadata": {},
   "outputs": [],
   "source": [
    "from sklearn.model_selection import GridSearchCV"
   ]
  },
  {
   "cell_type": "code",
   "execution_count": 468,
   "id": "8e55f5f9",
   "metadata": {},
   "outputs": [
    {
     "name": "stdout",
     "output_type": "stream",
     "text": [
      "Wall time: 4min 43s\n"
     ]
    },
    {
     "data": {
      "text/html": [
       "<div>\n",
       "<style scoped>\n",
       "    .dataframe tbody tr th:only-of-type {\n",
       "        vertical-align: middle;\n",
       "    }\n",
       "\n",
       "    .dataframe tbody tr th {\n",
       "        vertical-align: top;\n",
       "    }\n",
       "\n",
       "    .dataframe thead th {\n",
       "        text-align: right;\n",
       "    }\n",
       "</style>\n",
       "<table border=\"1\" class=\"dataframe\">\n",
       "  <thead>\n",
       "    <tr style=\"text-align: right;\">\n",
       "      <th></th>\n",
       "      <th>model</th>\n",
       "      <th>best_score</th>\n",
       "      <th>best_params</th>\n",
       "    </tr>\n",
       "  </thead>\n",
       "  <tbody>\n",
       "    <tr>\n",
       "      <th>0</th>\n",
       "      <td>random_forest</td>\n",
       "      <td>0.900000</td>\n",
       "      <td>{'randomforestclassifier__max_depth': 50, 'ran...</td>\n",
       "    </tr>\n",
       "    <tr>\n",
       "      <th>1</th>\n",
       "      <td>extra_tree</td>\n",
       "      <td>0.898901</td>\n",
       "      <td>{'extratreesclassifier__max_depth': 150, 'extr...</td>\n",
       "    </tr>\n",
       "    <tr>\n",
       "      <th>2</th>\n",
       "      <td>logistic_regression</td>\n",
       "      <td>0.897802</td>\n",
       "      <td>{'logisticregression__C': 10, 'logisticregress...</td>\n",
       "    </tr>\n",
       "    <tr>\n",
       "      <th>3</th>\n",
       "      <td>knn</td>\n",
       "      <td>0.752747</td>\n",
       "      <td>{'kneighborsclassifier__algorithm': 'auto', 'k...</td>\n",
       "    </tr>\n",
       "    <tr>\n",
       "      <th>4</th>\n",
       "      <td>linearsvc</td>\n",
       "      <td>0.913187</td>\n",
       "      <td>{'linearsvc__C': 15, 'linearsvc__dual': True, ...</td>\n",
       "    </tr>\n",
       "    <tr>\n",
       "      <th>5</th>\n",
       "      <td>gaussiannb</td>\n",
       "      <td>0.882418</td>\n",
       "      <td>{'gaussiannb__var_smoothing': 1}</td>\n",
       "    </tr>\n",
       "    <tr>\n",
       "      <th>6</th>\n",
       "      <td>svm</td>\n",
       "      <td>0.928571</td>\n",
       "      <td>{'svc__C': 2, 'svc__degree': 5, 'svc__kernel':...</td>\n",
       "    </tr>\n",
       "    <tr>\n",
       "      <th>7</th>\n",
       "      <td>decision_tree</td>\n",
       "      <td>0.754945</td>\n",
       "      <td>{'decisiontreeclassifier__max_depth': 150, 'de...</td>\n",
       "    </tr>\n",
       "  </tbody>\n",
       "</table>\n",
       "</div>"
      ],
      "text/plain": [
       "                 model  best_score  \\\n",
       "0        random_forest    0.900000   \n",
       "1           extra_tree    0.898901   \n",
       "2  logistic_regression    0.897802   \n",
       "3                  knn    0.752747   \n",
       "4            linearsvc    0.913187   \n",
       "5           gaussiannb    0.882418   \n",
       "6                  svm    0.928571   \n",
       "7        decision_tree    0.754945   \n",
       "\n",
       "                                         best_params  \n",
       "0  {'randomforestclassifier__max_depth': 50, 'ran...  \n",
       "1  {'extratreesclassifier__max_depth': 150, 'extr...  \n",
       "2  {'logisticregression__C': 10, 'logisticregress...  \n",
       "3  {'kneighborsclassifier__algorithm': 'auto', 'k...  \n",
       "4  {'linearsvc__C': 15, 'linearsvc__dual': True, ...  \n",
       "5                   {'gaussiannb__var_smoothing': 1}  \n",
       "6  {'svc__C': 2, 'svc__degree': 5, 'svc__kernel':...  \n",
       "7  {'decisiontreeclassifier__max_depth': 150, 'de...  "
      ]
     },
     "execution_count": 468,
     "metadata": {},
     "output_type": "execute_result"
    }
   ],
   "source": [
    "%%time\n",
    "scores = []\n",
    "best_estimators = {}\n",
    "import pandas as pd\n",
    "for algo, mp in model_params.items():\n",
    "    pipe = make_pipeline(StandardScaler(), mp['model'])\n",
    "    clf = GridSearchCV(pipe, mp['params'], cv=5, return_train_score=False)\n",
    "    clf.fit(X_train, y_train)\n",
    "    scores.append({\n",
    "        'model': algo,\n",
    "        'best_score': clf.best_score_,\n",
    "        'best_params': clf.best_params_\n",
    "    })\n",
    "    best_estimators[algo] = clf.best_estimator_\n",
    "    \n",
    "df = pd.DataFrame(scores,columns=['model','best_score','best_params'])\n",
    "df"
   ]
  },
  {
   "cell_type": "code",
   "execution_count": 469,
   "id": "de918442",
   "metadata": {},
   "outputs": [
    {
     "data": {
      "text/plain": [
       "{'random_forest': Pipeline(memory=None,\n",
       "          steps=[('standardscaler',\n",
       "                  StandardScaler(copy=True, with_mean=True, with_std=True)),\n",
       "                 ('randomforestclassifier',\n",
       "                  RandomForestClassifier(bootstrap=True, ccp_alpha=0.0,\n",
       "                                         class_weight=None, criterion='gini',\n",
       "                                         max_depth=50, max_features='sqrt',\n",
       "                                         max_leaf_nodes=None, max_samples=None,\n",
       "                                         min_impurity_decrease=0.0,\n",
       "                                         min_impurity_split=None,\n",
       "                                         min_samples_leaf=1,\n",
       "                                         min_samples_split=12,\n",
       "                                         min_weight_fraction_leaf=0.0,\n",
       "                                         n_estimators=100, n_jobs=None,\n",
       "                                         oob_score=False, random_state=None,\n",
       "                                         verbose=0, warm_start=False))],\n",
       "          verbose=False),\n",
       " 'extra_tree': Pipeline(memory=None,\n",
       "          steps=[('standardscaler',\n",
       "                  StandardScaler(copy=True, with_mean=True, with_std=True)),\n",
       "                 ('extratreesclassifier',\n",
       "                  ExtraTreesClassifier(bootstrap=False, ccp_alpha=0.0,\n",
       "                                       class_weight=None, criterion='gini',\n",
       "                                       max_depth=150, max_features='auto',\n",
       "                                       max_leaf_nodes=None, max_samples=None,\n",
       "                                       min_impurity_decrease=0.0,\n",
       "                                       min_impurity_split=None,\n",
       "                                       min_samples_leaf=2, min_samples_split=5,\n",
       "                                       min_weight_fraction_leaf=0.0,\n",
       "                                       n_estimators=400, n_jobs=None,\n",
       "                                       oob_score=False, random_state=None,\n",
       "                                       verbose=0, warm_start=False))],\n",
       "          verbose=False),\n",
       " 'logistic_regression': Pipeline(memory=None,\n",
       "          steps=[('standardscaler',\n",
       "                  StandardScaler(copy=True, with_mean=True, with_std=True)),\n",
       "                 ('logisticregression',\n",
       "                  LogisticRegression(C=10, class_weight=2, dual=False,\n",
       "                                     fit_intercept=True, intercept_scaling=1,\n",
       "                                     l1_ratio=None, max_iter=800,\n",
       "                                     multi_class='auto', n_jobs=None,\n",
       "                                     penalty='l2', random_state=None,\n",
       "                                     solver='newton-cg', tol=1e-05, verbose=0,\n",
       "                                     warm_start=False))],\n",
       "          verbose=False),\n",
       " 'knn': Pipeline(memory=None,\n",
       "          steps=[('standardscaler',\n",
       "                  StandardScaler(copy=True, with_mean=True, with_std=True)),\n",
       "                 ('kneighborsclassifier',\n",
       "                  KNeighborsClassifier(algorithm='auto', leaf_size=120,\n",
       "                                       metric='minkowski', metric_params=None,\n",
       "                                       n_jobs=None, n_neighbors=5, p=3,\n",
       "                                       weights='uniform'))],\n",
       "          verbose=False),\n",
       " 'linearsvc': Pipeline(memory=None,\n",
       "          steps=[('standardscaler',\n",
       "                  StandardScaler(copy=True, with_mean=True, with_std=True)),\n",
       "                 ('linearsvc',\n",
       "                  LinearSVC(C=15, class_weight=None, dual=True,\n",
       "                            fit_intercept=True, intercept_scaling=10,\n",
       "                            loss='squared_hinge', max_iter=100,\n",
       "                            multi_class='ovr', penalty='l2', random_state=None,\n",
       "                            tol=1, verbose=0))],\n",
       "          verbose=False),\n",
       " 'gaussiannb': Pipeline(memory=None,\n",
       "          steps=[('standardscaler',\n",
       "                  StandardScaler(copy=True, with_mean=True, with_std=True)),\n",
       "                 ('gaussiannb', GaussianNB(priors=None, var_smoothing=1))],\n",
       "          verbose=False),\n",
       " 'svm': Pipeline(memory=None,\n",
       "          steps=[('standardscaler',\n",
       "                  StandardScaler(copy=True, with_mean=True, with_std=True)),\n",
       "                 ('svc',\n",
       "                  SVC(C=2, break_ties=False, cache_size=200, class_weight=None,\n",
       "                      coef0=0.0, decision_function_shape='ovr', degree=5,\n",
       "                      gamma='auto', kernel='rbf', max_iter=-1, probability=True,\n",
       "                      random_state=None, shrinking=True, tol=0.001,\n",
       "                      verbose=False))],\n",
       "          verbose=False),\n",
       " 'decision_tree': Pipeline(memory=None,\n",
       "          steps=[('standardscaler',\n",
       "                  StandardScaler(copy=True, with_mean=True, with_std=True)),\n",
       "                 ('decisiontreeclassifier',\n",
       "                  DecisionTreeClassifier(ccp_alpha=0.0, class_weight=None,\n",
       "                                         criterion='gini', max_depth=150,\n",
       "                                         max_features='auto',\n",
       "                                         max_leaf_nodes=None,\n",
       "                                         min_impurity_decrease=0.0,\n",
       "                                         min_impurity_split=None,\n",
       "                                         min_samples_leaf=10,\n",
       "                                         min_samples_split=5,\n",
       "                                         min_weight_fraction_leaf=0.0,\n",
       "                                         presort='deprecated', random_state=42,\n",
       "                                         splitter='best'))],\n",
       "          verbose=False)}"
      ]
     },
     "execution_count": 469,
     "metadata": {},
     "output_type": "execute_result"
    }
   ],
   "source": [
    "best_estimators"
   ]
  },
  {
   "cell_type": "code",
   "execution_count": 470,
   "id": "7bb1f1c2",
   "metadata": {},
   "outputs": [
    {
     "data": {
      "text/plain": [
       "0.9333333333333333"
      ]
     },
     "execution_count": 470,
     "metadata": {},
     "output_type": "execute_result"
    }
   ],
   "source": [
    "best_estimators['svm'].score(X_test,y_test)"
   ]
  },
  {
   "cell_type": "code",
   "execution_count": 471,
   "id": "ff553f91",
   "metadata": {},
   "outputs": [
    {
     "data": {
      "text/plain": [
       "0.9333333333333333"
      ]
     },
     "execution_count": 471,
     "metadata": {},
     "output_type": "execute_result"
    }
   ],
   "source": [
    "best_estimators['random_forest'].score(X_test,y_test)"
   ]
  },
  {
   "cell_type": "code",
   "execution_count": 472,
   "id": "0cf2e7ab",
   "metadata": {},
   "outputs": [
    {
     "name": "stdout",
     "output_type": "stream",
     "text": [
      "Requirement already satisfied: sklearn_nature_inspired_algorithms==0.4.3 in d:\\downloads\\anconda\\envs\\dna\\lib\\site-packages (0.4.3)\n",
      "Requirement already satisfied: numpy<2.0.0,>=1.18.4 in d:\\downloads\\anconda\\envs\\dna\\lib\\site-packages (from sklearn_nature_inspired_algorithms==0.4.3) (1.21.5)\n",
      "Requirement already satisfied: scikit-learn<0.23.0,>=0.22.2 in d:\\downloads\\anconda\\envs\\dna\\lib\\site-packages (from sklearn_nature_inspired_algorithms==0.4.3) (0.22.2.post1)\n",
      "Requirement already satisfied: matplotlib<4.0.0,>=3.2.1 in d:\\downloads\\anconda\\envs\\dna\\lib\\site-packages (from sklearn_nature_inspired_algorithms==0.4.3) (3.5.1)\n",
      "Requirement already satisfied: NiaPy==2.0.0rc10 in d:\\downloads\\anconda\\envs\\dna\\lib\\site-packages (from sklearn_nature_inspired_algorithms==0.4.3) (2.0.0rc10)\n",
      "Requirement already satisfied: pandas<2.0.0,>=1.0.3 in d:\\downloads\\anconda\\envs\\dna\\lib\\site-packages (from sklearn_nature_inspired_algorithms==0.4.3) (1.3.5)\n",
      "Requirement already satisfied: seaborn<0.11.0,>=0.10.1 in d:\\downloads\\anconda\\envs\\dna\\lib\\site-packages (from sklearn_nature_inspired_algorithms==0.4.3) (0.10.1)\n",
      "Requirement already satisfied: toml<0.10,>=0.9 in d:\\downloads\\anconda\\envs\\dna\\lib\\site-packages (from sklearn_nature_inspired_algorithms==0.4.3) (0.9.6)\n",
      "Requirement already satisfied: enum34>=1.1.6 in d:\\downloads\\anconda\\envs\\dna\\lib\\site-packages (from NiaPy==2.0.0rc10->sklearn_nature_inspired_algorithms==0.4.3) (1.1.10)\n",
      "Requirement already satisfied: xlsxwriter>=1.1.5 in d:\\downloads\\anconda\\envs\\dna\\lib\\site-packages (from NiaPy==2.0.0rc10->sklearn_nature_inspired_algorithms==0.4.3) (3.0.2)\n",
      "Requirement already satisfied: scipy>=1.1.0 in d:\\downloads\\anconda\\envs\\dna\\lib\\site-packages (from NiaPy==2.0.0rc10->sklearn_nature_inspired_algorithms==0.4.3) (1.7.3)\n",
      "Requirement already satisfied: pyparsing>=2.2.1 in d:\\downloads\\anconda\\envs\\dna\\lib\\site-packages (from matplotlib<4.0.0,>=3.2.1->sklearn_nature_inspired_algorithms==0.4.3) (3.0.7)\n",
      "Requirement already satisfied: kiwisolver>=1.0.1 in d:\\downloads\\anconda\\envs\\dna\\lib\\site-packages (from matplotlib<4.0.0,>=3.2.1->sklearn_nature_inspired_algorithms==0.4.3) (1.3.2)\n",
      "Requirement already satisfied: python-dateutil>=2.7 in d:\\downloads\\anconda\\envs\\dna\\lib\\site-packages (from matplotlib<4.0.0,>=3.2.1->sklearn_nature_inspired_algorithms==0.4.3) (2.8.2)\n",
      "Requirement already satisfied: pillow>=6.2.0 in d:\\downloads\\anconda\\envs\\dna\\lib\\site-packages (from matplotlib<4.0.0,>=3.2.1->sklearn_nature_inspired_algorithms==0.4.3) (9.0.0)\n",
      "Requirement already satisfied: cycler>=0.10 in d:\\downloads\\anconda\\envs\\dna\\lib\\site-packages (from matplotlib<4.0.0,>=3.2.1->sklearn_nature_inspired_algorithms==0.4.3) (0.11.0)\n",
      "Requirement already satisfied: packaging>=20.0 in d:\\downloads\\anconda\\envs\\dna\\lib\\site-packages (from matplotlib<4.0.0,>=3.2.1->sklearn_nature_inspired_algorithms==0.4.3) (21.3)\n",
      "Requirement already satisfied: fonttools>=4.22.0 in d:\\downloads\\anconda\\envs\\dna\\lib\\site-packages (from matplotlib<4.0.0,>=3.2.1->sklearn_nature_inspired_algorithms==0.4.3) (4.29.0)\n",
      "Requirement already satisfied: pytz>=2017.3 in d:\\downloads\\anconda\\envs\\dna\\lib\\site-packages (from pandas<2.0.0,>=1.0.3->sklearn_nature_inspired_algorithms==0.4.3) (2021.3)\n",
      "Requirement already satisfied: six>=1.5 in d:\\downloads\\anconda\\envs\\dna\\lib\\site-packages (from python-dateutil>=2.7->matplotlib<4.0.0,>=3.2.1->sklearn_nature_inspired_algorithms==0.4.3) (1.16.0)\n",
      "Requirement already satisfied: joblib>=0.11 in d:\\downloads\\anconda\\envs\\dna\\lib\\site-packages (from scikit-learn<0.23.0,>=0.22.2->sklearn_nature_inspired_algorithms==0.4.3) (1.1.0)\n",
      "Requirement already satisfied: NiaPy in d:\\downloads\\anconda\\envs\\dna\\lib\\site-packages (2.0.0rc10)\n",
      "Requirement already satisfied: xlsxwriter>=1.1.5 in d:\\downloads\\anconda\\envs\\dna\\lib\\site-packages (from NiaPy) (3.0.2)\n",
      "Requirement already satisfied: enum34>=1.1.6 in d:\\downloads\\anconda\\envs\\dna\\lib\\site-packages (from NiaPy) (1.1.10)\n",
      "Requirement already satisfied: scipy>=1.1.0 in d:\\downloads\\anconda\\envs\\dna\\lib\\site-packages (from NiaPy) (1.7.3)\n",
      "Requirement already satisfied: matplotlib>=2.2.4 in d:\\downloads\\anconda\\envs\\dna\\lib\\site-packages (from NiaPy) (3.5.1)\n",
      "Requirement already satisfied: numpy>=1.16.2 in d:\\downloads\\anconda\\envs\\dna\\lib\\site-packages (from NiaPy) (1.21.5)\n",
      "Requirement already satisfied: pyparsing>=2.2.1 in d:\\downloads\\anconda\\envs\\dna\\lib\\site-packages (from matplotlib>=2.2.4->NiaPy) (3.0.7)\n",
      "Requirement already satisfied: kiwisolver>=1.0.1 in d:\\downloads\\anconda\\envs\\dna\\lib\\site-packages (from matplotlib>=2.2.4->NiaPy) (1.3.2)\n",
      "Requirement already satisfied: pillow>=6.2.0 in d:\\downloads\\anconda\\envs\\dna\\lib\\site-packages (from matplotlib>=2.2.4->NiaPy) (9.0.0)\n",
      "Requirement already satisfied: cycler>=0.10 in d:\\downloads\\anconda\\envs\\dna\\lib\\site-packages (from matplotlib>=2.2.4->NiaPy) (0.11.0)\n",
      "Requirement already satisfied: packaging>=20.0 in d:\\downloads\\anconda\\envs\\dna\\lib\\site-packages (from matplotlib>=2.2.4->NiaPy) (21.3)\n",
      "Requirement already satisfied: fonttools>=4.22.0 in d:\\downloads\\anconda\\envs\\dna\\lib\\site-packages (from matplotlib>=2.2.4->NiaPy) (4.29.0)\n",
      "Requirement already satisfied: python-dateutil>=2.7 in d:\\downloads\\anconda\\envs\\dna\\lib\\site-packages (from matplotlib>=2.2.4->NiaPy) (2.8.2)\n",
      "Requirement already satisfied: six>=1.5 in d:\\downloads\\anconda\\envs\\dna\\lib\\site-packages (from python-dateutil>=2.7->matplotlib>=2.2.4->NiaPy) (1.16.0)\n",
      "Requirement already satisfied: algorithms in d:\\downloads\\anconda\\envs\\dna\\lib\\site-packages (0.1.4)\n"
     ]
    }
   ],
   "source": [
    "! pip install sklearn_nature_inspired_algorithms==0.4.3\n",
    "! pip install NiaPy\n",
    "! pip install algorithms\n",
    "from sklearn_nature_inspired_algorithms.model_selection.nature_inspired_search_cv import NatureInspiredSearchCV\n",
    "from sklearn_nature_inspired_algorithms.helpers import score_by_generation_lineplot\n",
    "from sklearn.metrics import classification_report"
   ]
  },
  {
   "cell_type": "code",
   "execution_count": 473,
   "id": "d0ae999c",
   "metadata": {},
   "outputs": [],
   "source": [
    "model_params = {\n",
    "    'random_forest': {\n",
    "        'model': RandomForestClassifier(),\n",
    "        'params' : {\n",
    "            'randomforestclassifier__n_estimators': [int(x) for x in np.linspace(start = 200, stop = 2000, num = 10)],\n",
    "            'randomforestclassifier__max_depth' : [int(x) for x in np.linspace(10, 110, num = 11)],\n",
    "            'randomforestclassifier__min_samples_split' : [1,8,2,4,5,10],\n",
    "            'randomforestclassifier__min_samples_leaf' : [1,8,2,4,5,10],\n",
    "            'randomforestclassifier__max_features' : ['auto', 'sqrt'],\n",
    "            #'randomforestclassifier__random_state ' : [None]        \n",
    "        }\n",
    "    },\n",
    "\n",
    "    'extra_tree': {\n",
    "        'model': ExtraTreesClassifier(),\n",
    "        'params' : {\n",
    "            'extratreesclassifier__n_estimators': [int(x) for x in np.linspace(start = 200, stop = 2000, num = 10)],\n",
    "            'extratreesclassifier__max_depth' : [int(x) for x in np.linspace(10, 110, num = 11)],\n",
    "            'extratreesclassifier__min_samples_split' : [1,8,2,4,5,10],\n",
    "            'extratreesclassifier__min_samples_leaf' : [1,8,2,4,5,10],\n",
    "            'extratreesclassifier__max_features' : ['auto', 'sqrt'],\n",
    "            #'extratreesclassifier__bootstrap ' : [True, False]           \n",
    "        }\n",
    "    },\n",
    "\n",
    "      'logistic_regression' : {\n",
    "        'model': LogisticRegression(),\n",
    "        'params': {\n",
    "            'logisticregression__C': [float(x) for x in np.linspace(start = 1, stop = 20, num = 20)],\n",
    "            'logisticregression__solver' : ['liblinear','newton-cg','liblinear'],\n",
    "            'logisticregression__multi_class' : ['auto', 'ovr', 'multinomial'],\n",
    "            'logisticregression__max_iter' :[int(x) for x in np.linspace(start = 200, stop = 2000, num = 10)],\n",
    "            'logisticregression__class_weight' :[int(x) for x in np.linspace(start = 1, stop = 10, num = 10)],\n",
    "            'logisticregression__tol' :[0.00001,0.0001,0.001,0.01,0.1,0,1]\n",
    "        }\n",
    "    },\n",
    "    \n",
    "    \n",
    "\n",
    "\n",
    " 'knn': {\n",
    "        'model': KNeighborsClassifier(),\n",
    "        'params' : {\n",
    "            'kneighborsclassifier__leaf_size': [int(x) for x in np.linspace(start = 100, stop = 200, num = 20)],\n",
    "            'kneighborsclassifier__algorithm': ['auto', 'ball_tree', 'kd_tree', 'brute'],\n",
    "            'kneighborsclassifier__p' : [int(x) for x in np.linspace(1, 20, num = 20)]\n",
    "        }  \n",
    "    },\n",
    "\n",
    "\n",
    "    'linearsvc': {\n",
    "        'model': LinearSVC(),\n",
    "        'params' : {\n",
    "            #'linearsvc__class_weight': [int(x) for x in np.linspace(start = 0, stop = 110, num = 11)],\n",
    "            'linearsvc__dual': [True, False],\n",
    "            'linearsvc__tol': [0.00001,0.001,0.0001,0.01,0.1,1],\n",
    "            'linearsvc__C': [float(x) for x in np.linspace(start = 1, stop = 20, num = 20)],\n",
    "            'linearsvc__intercept_scaling': [int(x) for x in np.linspace(1, 50, num = 10)],\n",
    "            'linearsvc__max_iter': [int(x) for x in np.linspace(200, 2000, num = 10)],\n",
    "        }  \n",
    "    },\n",
    "    \n",
    "    'gaussiannb': {\n",
    "        'model': GaussianNB(),\n",
    "        'params' : {\n",
    "            'gaussiannb__var_smoothing': [0.00001,0.001,0.0001,0.01,0.1,1]           \n",
    "       }  \n",
    "    }, \n",
    "    'svm': {\n",
    "        'model': svm.SVC(gamma='auto',probability=True),\n",
    "        'params' : {\n",
    "            'svc__C': [float(x) for x in np.linspace(start = 1, stop = 20, num = 20)],\n",
    "            'svc__kernel': ['linear','rbf','poly','sigmoid'],\n",
    "            'svc__degree': [int(x) for x in np.linspace(start = 1, stop = 20, num = 20)]\n",
    "        }  \n",
    "    },\n",
    "    'decision_tree': {\n",
    "        'model': DecisionTreeClassifier(random_state=42),\n",
    "        'params' : {\n",
    "            'decisiontreeclassifier__max_depth' : [int(x) for x in np.linspace(10, 110, num = 11)],\n",
    "            'decisiontreeclassifier__min_samples_leaf': [1,5,10,8],\n",
    "            'decisiontreeclassifier__max_depth' : [int(x) for x in np.linspace(10, 210, num = 11)],\n",
    "            'decisiontreeclassifier__min_samples_split' : [1,8,5,10,2,4],\n",
    "            'decisiontreeclassifier__max_features' : ['auto', 'sqrt']\n",
    "            \n",
    "        }\n",
    "    }\n",
    "\n",
    "}\n",
    "    "
   ]
  },
  {
   "cell_type": "code",
   "execution_count": 474,
   "id": "c6e636d0",
   "metadata": {
    "scrolled": true
   },
   "outputs": [
    {
     "name": "stdout",
     "output_type": "stream",
     "text": [
      "Fitting 5 folds for some of the 7920 candidates, which might total in 39600 fits\n",
      "Fitting 5 folds for each of 1 candidates, totalling 5 fits\n"
     ]
    },
    {
     "name": "stderr",
     "output_type": "stream",
     "text": [
      "[Parallel(n_jobs=-1)]: Using backend LokyBackend with 8 concurrent workers.\n",
      "[Parallel(n_jobs=-1)]: Done   2 out of   5 | elapsed:    2.6s remaining:    3.9s\n",
      "[Parallel(n_jobs=-1)]: Done   5 out of   5 | elapsed:    2.7s remaining:    0.0s\n",
      "[Parallel(n_jobs=-1)]: Done   5 out of   5 | elapsed:    2.7s finished\n",
      "[Parallel(n_jobs=-1)]: Using backend LokyBackend with 8 concurrent workers.\n"
     ]
    },
    {
     "name": "stdout",
     "output_type": "stream",
     "text": [
      "Fitting 5 folds for each of 1 candidates, totalling 5 fits\n"
     ]
    },
    {
     "name": "stderr",
     "output_type": "stream",
     "text": [
      "[Parallel(n_jobs=-1)]: Done   2 out of   5 | elapsed:    0.6s remaining:    1.0s\n",
      "[Parallel(n_jobs=-1)]: Done   5 out of   5 | elapsed:    1.0s remaining:    0.0s\n",
      "[Parallel(n_jobs=-1)]: Done   5 out of   5 | elapsed:    1.0s finished\n",
      "[Parallel(n_jobs=-1)]: Using backend LokyBackend with 8 concurrent workers.\n"
     ]
    },
    {
     "name": "stdout",
     "output_type": "stream",
     "text": [
      "Fitting 5 folds for each of 1 candidates, totalling 5 fits\n"
     ]
    },
    {
     "name": "stderr",
     "output_type": "stream",
     "text": [
      "[Parallel(n_jobs=-1)]: Done   2 out of   5 | elapsed:    0.2s remaining:    0.4s\n",
      "[Parallel(n_jobs=-1)]: Done   5 out of   5 | elapsed:    0.3s remaining:    0.0s\n",
      "[Parallel(n_jobs=-1)]: Done   5 out of   5 | elapsed:    0.3s finished\n",
      "[Parallel(n_jobs=-1)]: Using backend LokyBackend with 8 concurrent workers.\n"
     ]
    },
    {
     "name": "stdout",
     "output_type": "stream",
     "text": [
      "Fitting 5 folds for each of 1 candidates, totalling 5 fits\n"
     ]
    },
    {
     "name": "stderr",
     "output_type": "stream",
     "text": [
      "[Parallel(n_jobs=-1)]: Done   2 out of   5 | elapsed:    0.6s remaining:    0.9s\n",
      "[Parallel(n_jobs=-1)]: Done   5 out of   5 | elapsed:    0.6s remaining:    0.0s\n",
      "[Parallel(n_jobs=-1)]: Done   5 out of   5 | elapsed:    0.6s finished\n",
      "[Parallel(n_jobs=-1)]: Using backend LokyBackend with 8 concurrent workers.\n"
     ]
    },
    {
     "name": "stdout",
     "output_type": "stream",
     "text": [
      "Fitting 5 folds for each of 1 candidates, totalling 5 fits\n"
     ]
    },
    {
     "name": "stderr",
     "output_type": "stream",
     "text": [
      "[Parallel(n_jobs=-1)]: Done   2 out of   5 | elapsed:    2.1s remaining:    3.3s\n",
      "[Parallel(n_jobs=-1)]: Done   5 out of   5 | elapsed:    2.3s remaining:    0.0s\n",
      "[Parallel(n_jobs=-1)]: Done   5 out of   5 | elapsed:    2.3s finished\n",
      "[Parallel(n_jobs=-1)]: Using backend LokyBackend with 8 concurrent workers.\n"
     ]
    },
    {
     "name": "stdout",
     "output_type": "stream",
     "text": [
      "Fitting 5 folds for each of 1 candidates, totalling 5 fits\n"
     ]
    },
    {
     "name": "stderr",
     "output_type": "stream",
     "text": [
      "[Parallel(n_jobs=-1)]: Done   2 out of   5 | elapsed:    2.6s remaining:    3.9s\n",
      "[Parallel(n_jobs=-1)]: Done   5 out of   5 | elapsed:    2.7s remaining:    0.0s\n",
      "[Parallel(n_jobs=-1)]: Done   5 out of   5 | elapsed:    2.7s finished\n"
     ]
    },
    {
     "name": "stdout",
     "output_type": "stream",
     "text": [
      "Fitting 5 folds for each of 1 candidates, totalling 5 fits\n"
     ]
    },
    {
     "name": "stderr",
     "output_type": "stream",
     "text": [
      "[Parallel(n_jobs=-1)]: Using backend LokyBackend with 8 concurrent workers.\n",
      "[Parallel(n_jobs=-1)]: Done   2 out of   5 | elapsed:    0.7s remaining:    1.1s\n",
      "[Parallel(n_jobs=-1)]: Done   5 out of   5 | elapsed:    0.7s remaining:    0.0s\n",
      "[Parallel(n_jobs=-1)]: Done   5 out of   5 | elapsed:    0.7s finished\n",
      "[Parallel(n_jobs=-1)]: Using backend LokyBackend with 8 concurrent workers.\n"
     ]
    },
    {
     "name": "stdout",
     "output_type": "stream",
     "text": [
      "Fitting 5 folds for each of 1 candidates, totalling 5 fits\n"
     ]
    },
    {
     "name": "stderr",
     "output_type": "stream",
     "text": [
      "[Parallel(n_jobs=-1)]: Done   2 out of   5 | elapsed:    0.9s remaining:    1.3s\n",
      "[Parallel(n_jobs=-1)]: Done   5 out of   5 | elapsed:    0.9s remaining:    0.0s\n",
      "[Parallel(n_jobs=-1)]: Done   5 out of   5 | elapsed:    0.9s finished\n",
      "[Parallel(n_jobs=-1)]: Using backend LokyBackend with 8 concurrent workers.\n"
     ]
    },
    {
     "name": "stdout",
     "output_type": "stream",
     "text": [
      "Fitting 5 folds for each of 1 candidates, totalling 5 fits\n"
     ]
    },
    {
     "name": "stderr",
     "output_type": "stream",
     "text": [
      "[Parallel(n_jobs=-1)]: Done   2 out of   5 | elapsed:    0.1s remaining:    0.2s\n",
      "[Parallel(n_jobs=-1)]: Done   5 out of   5 | elapsed:    0.1s remaining:    0.0s\n",
      "[Parallel(n_jobs=-1)]: Done   5 out of   5 | elapsed:    0.1s finished\n",
      "[Parallel(n_jobs=-1)]: Using backend LokyBackend with 8 concurrent workers.\n"
     ]
    },
    {
     "name": "stdout",
     "output_type": "stream",
     "text": [
      "Fitting 5 folds for each of 1 candidates, totalling 5 fits\n"
     ]
    },
    {
     "name": "stderr",
     "output_type": "stream",
     "text": [
      "[Parallel(n_jobs=-1)]: Done   2 out of   5 | elapsed:    2.2s remaining:    3.4s\n",
      "[Parallel(n_jobs=-1)]: Done   5 out of   5 | elapsed:    2.4s remaining:    0.0s\n",
      "[Parallel(n_jobs=-1)]: Done   5 out of   5 | elapsed:    2.4s finished\n",
      "[Parallel(n_jobs=-1)]: Using backend LokyBackend with 8 concurrent workers.\n"
     ]
    },
    {
     "name": "stdout",
     "output_type": "stream",
     "text": [
      "Fitting 5 folds for each of 1 candidates, totalling 5 fits\n"
     ]
    },
    {
     "name": "stderr",
     "output_type": "stream",
     "text": [
      "[Parallel(n_jobs=-1)]: Done   2 out of   5 | elapsed:    3.0s remaining:    4.6s\n",
      "[Parallel(n_jobs=-1)]: Done   5 out of   5 | elapsed:    3.2s remaining:    0.0s\n",
      "[Parallel(n_jobs=-1)]: Done   5 out of   5 | elapsed:    3.2s finished\n",
      "[Parallel(n_jobs=-1)]: Using backend LokyBackend with 8 concurrent workers.\n"
     ]
    },
    {
     "name": "stdout",
     "output_type": "stream",
     "text": [
      "Fitting 5 folds for each of 1 candidates, totalling 5 fits\n"
     ]
    },
    {
     "name": "stderr",
     "output_type": "stream",
     "text": [
      "[Parallel(n_jobs=-1)]: Done   2 out of   5 | elapsed:    3.4s remaining:    5.1s\n",
      "[Parallel(n_jobs=-1)]: Done   5 out of   5 | elapsed:    3.5s remaining:    0.0s\n",
      "[Parallel(n_jobs=-1)]: Done   5 out of   5 | elapsed:    3.5s finished\n",
      "[Parallel(n_jobs=-1)]: Using backend LokyBackend with 8 concurrent workers.\n"
     ]
    },
    {
     "name": "stdout",
     "output_type": "stream",
     "text": [
      "Fitting 5 folds for each of 1 candidates, totalling 5 fits\n"
     ]
    },
    {
     "name": "stderr",
     "output_type": "stream",
     "text": [
      "[Parallel(n_jobs=-1)]: Done   2 out of   5 | elapsed:    1.1s remaining:    1.7s\n",
      "[Parallel(n_jobs=-1)]: Done   5 out of   5 | elapsed:    1.2s remaining:    0.0s\n",
      "[Parallel(n_jobs=-1)]: Done   5 out of   5 | elapsed:    1.2s finished\n",
      "[Parallel(n_jobs=-1)]: Using backend LokyBackend with 8 concurrent workers.\n"
     ]
    },
    {
     "name": "stdout",
     "output_type": "stream",
     "text": [
      "Fitting 5 folds for each of 1 candidates, totalling 5 fits\n"
     ]
    },
    {
     "name": "stderr",
     "output_type": "stream",
     "text": [
      "[Parallel(n_jobs=-1)]: Done   2 out of   5 | elapsed:    2.0s remaining:    3.0s\n",
      "[Parallel(n_jobs=-1)]: Done   5 out of   5 | elapsed:    2.1s remaining:    0.0s\n",
      "[Parallel(n_jobs=-1)]: Done   5 out of   5 | elapsed:    2.1s finished\n",
      "[Parallel(n_jobs=-1)]: Using backend LokyBackend with 8 concurrent workers.\n"
     ]
    },
    {
     "name": "stdout",
     "output_type": "stream",
     "text": [
      "Fitting 5 folds for each of 1 candidates, totalling 5 fits\n"
     ]
    },
    {
     "name": "stderr",
     "output_type": "stream",
     "text": [
      "[Parallel(n_jobs=-1)]: Done   2 out of   5 | elapsed:    1.0s remaining:    1.5s\n",
      "[Parallel(n_jobs=-1)]: Done   5 out of   5 | elapsed:    1.0s remaining:    0.0s\n",
      "[Parallel(n_jobs=-1)]: Done   5 out of   5 | elapsed:    1.0s finished\n",
      "[Parallel(n_jobs=-1)]: Using backend LokyBackend with 8 concurrent workers.\n"
     ]
    },
    {
     "name": "stdout",
     "output_type": "stream",
     "text": [
      "Fitting 5 folds for each of 1 candidates, totalling 5 fits\n"
     ]
    },
    {
     "name": "stderr",
     "output_type": "stream",
     "text": [
      "[Parallel(n_jobs=-1)]: Done   2 out of   5 | elapsed:    0.8s remaining:    1.3s\n",
      "[Parallel(n_jobs=-1)]: Done   5 out of   5 | elapsed:    0.9s remaining:    0.0s\n",
      "[Parallel(n_jobs=-1)]: Done   5 out of   5 | elapsed:    0.9s finished\n",
      "[Parallel(n_jobs=-1)]: Using backend LokyBackend with 8 concurrent workers.\n"
     ]
    },
    {
     "name": "stdout",
     "output_type": "stream",
     "text": [
      "Fitting 5 folds for each of 1 candidates, totalling 5 fits\n"
     ]
    },
    {
     "name": "stderr",
     "output_type": "stream",
     "text": [
      "[Parallel(n_jobs=-1)]: Done   2 out of   5 | elapsed:    3.2s remaining:    4.8s\n",
      "[Parallel(n_jobs=-1)]: Done   5 out of   5 | elapsed:    3.3s remaining:    0.0s\n",
      "[Parallel(n_jobs=-1)]: Done   5 out of   5 | elapsed:    3.3s finished\n",
      "[Parallel(n_jobs=-1)]: Using backend LokyBackend with 8 concurrent workers.\n"
     ]
    },
    {
     "name": "stdout",
     "output_type": "stream",
     "text": [
      "Fitting 5 folds for each of 1 candidates, totalling 5 fits\n"
     ]
    },
    {
     "name": "stderr",
     "output_type": "stream",
     "text": [
      "[Parallel(n_jobs=-1)]: Done   2 out of   5 | elapsed:    1.2s remaining:    1.9s\n",
      "[Parallel(n_jobs=-1)]: Done   5 out of   5 | elapsed:    1.3s remaining:    0.0s\n",
      "[Parallel(n_jobs=-1)]: Done   5 out of   5 | elapsed:    1.3s finished\n",
      "[Parallel(n_jobs=-1)]: Using backend LokyBackend with 8 concurrent workers.\n"
     ]
    },
    {
     "name": "stdout",
     "output_type": "stream",
     "text": [
      "Fitting 5 folds for each of 1 candidates, totalling 5 fits\n"
     ]
    },
    {
     "name": "stderr",
     "output_type": "stream",
     "text": [
      "[Parallel(n_jobs=-1)]: Done   2 out of   5 | elapsed:    0.6s remaining:    1.0s\n",
      "[Parallel(n_jobs=-1)]: Done   5 out of   5 | elapsed:    0.7s remaining:    0.0s\n",
      "[Parallel(n_jobs=-1)]: Done   5 out of   5 | elapsed:    0.7s finished\n",
      "[Parallel(n_jobs=-1)]: Using backend LokyBackend with 8 concurrent workers.\n"
     ]
    },
    {
     "name": "stdout",
     "output_type": "stream",
     "text": [
      "Fitting 5 folds for each of 1 candidates, totalling 5 fits\n"
     ]
    },
    {
     "name": "stderr",
     "output_type": "stream",
     "text": [
      "[Parallel(n_jobs=-1)]: Done   2 out of   5 | elapsed:    1.5s remaining:    2.3s\n",
      "[Parallel(n_jobs=-1)]: Done   5 out of   5 | elapsed:    1.6s remaining:    0.0s\n",
      "[Parallel(n_jobs=-1)]: Done   5 out of   5 | elapsed:    1.6s finished\n",
      "[Parallel(n_jobs=-1)]: Using backend LokyBackend with 8 concurrent workers.\n"
     ]
    },
    {
     "name": "stdout",
     "output_type": "stream",
     "text": [
      "Fitting 5 folds for each of 1 candidates, totalling 5 fits\n"
     ]
    },
    {
     "name": "stderr",
     "output_type": "stream",
     "text": [
      "[Parallel(n_jobs=-1)]: Done   2 out of   5 | elapsed:    0.2s remaining:    0.4s\n",
      "[Parallel(n_jobs=-1)]: Done   5 out of   5 | elapsed:    0.2s remaining:    0.0s\n",
      "[Parallel(n_jobs=-1)]: Done   5 out of   5 | elapsed:    0.2s finished\n",
      "[Parallel(n_jobs=-1)]: Using backend LokyBackend with 8 concurrent workers.\n"
     ]
    },
    {
     "name": "stdout",
     "output_type": "stream",
     "text": [
      "Fitting 5 folds for each of 1 candidates, totalling 5 fits\n"
     ]
    },
    {
     "name": "stderr",
     "output_type": "stream",
     "text": [
      "[Parallel(n_jobs=-1)]: Done   2 out of   5 | elapsed:    0.9s remaining:    1.4s\n",
      "[Parallel(n_jobs=-1)]: Done   5 out of   5 | elapsed:    0.9s remaining:    0.0s\n",
      "[Parallel(n_jobs=-1)]: Done   5 out of   5 | elapsed:    0.9s finished\n",
      "[Parallel(n_jobs=-1)]: Using backend LokyBackend with 8 concurrent workers.\n"
     ]
    },
    {
     "name": "stdout",
     "output_type": "stream",
     "text": [
      "Fitting 5 folds for each of 1 candidates, totalling 5 fits\n"
     ]
    },
    {
     "name": "stderr",
     "output_type": "stream",
     "text": [
      "[Parallel(n_jobs=-1)]: Done   2 out of   5 | elapsed:    0.8s remaining:    1.3s\n",
      "[Parallel(n_jobs=-1)]: Done   5 out of   5 | elapsed:    0.9s remaining:    0.0s\n",
      "[Parallel(n_jobs=-1)]: Done   5 out of   5 | elapsed:    0.9s finished\n",
      "[Parallel(n_jobs=-1)]: Using backend LokyBackend with 8 concurrent workers.\n"
     ]
    },
    {
     "name": "stdout",
     "output_type": "stream",
     "text": [
      "Fitting 5 folds for each of 1 candidates, totalling 5 fits\n"
     ]
    },
    {
     "name": "stderr",
     "output_type": "stream",
     "text": [
      "[Parallel(n_jobs=-1)]: Done   2 out of   5 | elapsed:    2.7s remaining:    4.2s\n",
      "[Parallel(n_jobs=-1)]: Done   5 out of   5 | elapsed:    2.8s remaining:    0.0s\n",
      "[Parallel(n_jobs=-1)]: Done   5 out of   5 | elapsed:    2.8s finished\n",
      "[Parallel(n_jobs=-1)]: Using backend LokyBackend with 8 concurrent workers.\n"
     ]
    },
    {
     "name": "stdout",
     "output_type": "stream",
     "text": [
      "Fitting 5 folds for each of 1 candidates, totalling 5 fits\n"
     ]
    },
    {
     "name": "stderr",
     "output_type": "stream",
     "text": [
      "[Parallel(n_jobs=-1)]: Done   2 out of   5 | elapsed:    2.8s remaining:    4.3s\n",
      "[Parallel(n_jobs=-1)]: Done   5 out of   5 | elapsed:    3.0s remaining:    0.0s\n",
      "[Parallel(n_jobs=-1)]: Done   5 out of   5 | elapsed:    3.0s finished\n",
      "[Parallel(n_jobs=-1)]: Using backend LokyBackend with 8 concurrent workers.\n"
     ]
    },
    {
     "name": "stdout",
     "output_type": "stream",
     "text": [
      "Fitting 5 folds for each of 1 candidates, totalling 5 fits\n"
     ]
    },
    {
     "name": "stderr",
     "output_type": "stream",
     "text": [
      "[Parallel(n_jobs=-1)]: Done   2 out of   5 | elapsed:    1.5s remaining:    2.4s\n",
      "[Parallel(n_jobs=-1)]: Done   5 out of   5 | elapsed:    1.6s remaining:    0.0s\n",
      "[Parallel(n_jobs=-1)]: Done   5 out of   5 | elapsed:    1.6s finished\n",
      "[Parallel(n_jobs=-1)]: Using backend LokyBackend with 8 concurrent workers.\n"
     ]
    },
    {
     "name": "stdout",
     "output_type": "stream",
     "text": [
      "Fitting 5 folds for each of 1 candidates, totalling 5 fits\n"
     ]
    },
    {
     "name": "stderr",
     "output_type": "stream",
     "text": [
      "[Parallel(n_jobs=-1)]: Done   2 out of   5 | elapsed:    0.4s remaining:    0.7s\n",
      "[Parallel(n_jobs=-1)]: Done   5 out of   5 | elapsed:    0.5s remaining:    0.0s\n",
      "[Parallel(n_jobs=-1)]: Done   5 out of   5 | elapsed:    0.5s finished\n",
      "[Parallel(n_jobs=-1)]: Using backend LokyBackend with 8 concurrent workers.\n"
     ]
    },
    {
     "name": "stdout",
     "output_type": "stream",
     "text": [
      "Fitting 5 folds for each of 1 candidates, totalling 5 fits\n"
     ]
    },
    {
     "name": "stderr",
     "output_type": "stream",
     "text": [
      "[Parallel(n_jobs=-1)]: Done   2 out of   5 | elapsed:    1.2s remaining:    1.8s\n",
      "[Parallel(n_jobs=-1)]: Done   5 out of   5 | elapsed:    1.3s remaining:    0.0s\n",
      "[Parallel(n_jobs=-1)]: Done   5 out of   5 | elapsed:    1.3s finished\n",
      "[Parallel(n_jobs=-1)]: Using backend LokyBackend with 8 concurrent workers.\n"
     ]
    },
    {
     "name": "stdout",
     "output_type": "stream",
     "text": [
      "Fitting 5 folds for each of 1 candidates, totalling 5 fits\n"
     ]
    },
    {
     "name": "stderr",
     "output_type": "stream",
     "text": [
      "[Parallel(n_jobs=-1)]: Done   2 out of   5 | elapsed:    2.9s remaining:    4.4s\n",
      "[Parallel(n_jobs=-1)]: Done   5 out of   5 | elapsed:    3.1s remaining:    0.0s\n",
      "[Parallel(n_jobs=-1)]: Done   5 out of   5 | elapsed:    3.1s finished\n",
      "[Parallel(n_jobs=-1)]: Using backend LokyBackend with 8 concurrent workers.\n"
     ]
    },
    {
     "name": "stdout",
     "output_type": "stream",
     "text": [
      "Fitting 5 folds for each of 1 candidates, totalling 5 fits\n"
     ]
    },
    {
     "name": "stderr",
     "output_type": "stream",
     "text": [
      "[Parallel(n_jobs=-1)]: Done   2 out of   5 | elapsed:    0.2s remaining:    0.4s\n",
      "[Parallel(n_jobs=-1)]: Done   5 out of   5 | elapsed:    0.3s remaining:    0.0s\n",
      "[Parallel(n_jobs=-1)]: Done   5 out of   5 | elapsed:    0.3s finished\n",
      "[Parallel(n_jobs=-1)]: Using backend LokyBackend with 8 concurrent workers.\n"
     ]
    },
    {
     "name": "stdout",
     "output_type": "stream",
     "text": [
      "Fitting 5 folds for each of 1 candidates, totalling 5 fits\n"
     ]
    },
    {
     "name": "stderr",
     "output_type": "stream",
     "text": [
      "[Parallel(n_jobs=-1)]: Done   2 out of   5 | elapsed:    0.9s remaining:    1.4s\n",
      "[Parallel(n_jobs=-1)]: Done   5 out of   5 | elapsed:    0.9s remaining:    0.0s\n",
      "[Parallel(n_jobs=-1)]: Done   5 out of   5 | elapsed:    0.9s finished\n",
      "[Parallel(n_jobs=-1)]: Using backend LokyBackend with 8 concurrent workers.\n"
     ]
    },
    {
     "name": "stdout",
     "output_type": "stream",
     "text": [
      "Fitting 5 folds for each of 1 candidates, totalling 5 fits\n"
     ]
    },
    {
     "name": "stderr",
     "output_type": "stream",
     "text": [
      "[Parallel(n_jobs=-1)]: Done   2 out of   5 | elapsed:    0.8s remaining:    1.3s\n",
      "[Parallel(n_jobs=-1)]: Done   5 out of   5 | elapsed:    0.9s remaining:    0.0s\n",
      "[Parallel(n_jobs=-1)]: Done   5 out of   5 | elapsed:    0.9s finished\n",
      "[Parallel(n_jobs=-1)]: Using backend LokyBackend with 8 concurrent workers.\n"
     ]
    },
    {
     "name": "stdout",
     "output_type": "stream",
     "text": [
      "Fitting 5 folds for each of 1 candidates, totalling 5 fits\n"
     ]
    },
    {
     "name": "stderr",
     "output_type": "stream",
     "text": [
      "[Parallel(n_jobs=-1)]: Done   2 out of   5 | elapsed:    1.2s remaining:    1.8s\n",
      "[Parallel(n_jobs=-1)]: Done   5 out of   5 | elapsed:    1.3s remaining:    0.0s\n",
      "[Parallel(n_jobs=-1)]: Done   5 out of   5 | elapsed:    1.3s finished\n",
      "[Parallel(n_jobs=-1)]: Using backend LokyBackend with 8 concurrent workers.\n"
     ]
    },
    {
     "name": "stdout",
     "output_type": "stream",
     "text": [
      "Fitting 5 folds for each of 1 candidates, totalling 5 fits\n"
     ]
    },
    {
     "name": "stderr",
     "output_type": "stream",
     "text": [
      "[Parallel(n_jobs=-1)]: Done   2 out of   5 | elapsed:    3.2s remaining:    4.9s\n",
      "[Parallel(n_jobs=-1)]: Done   5 out of   5 | elapsed:    3.4s remaining:    0.0s\n",
      "[Parallel(n_jobs=-1)]: Done   5 out of   5 | elapsed:    3.4s finished\n",
      "[Parallel(n_jobs=-1)]: Using backend LokyBackend with 8 concurrent workers.\n"
     ]
    },
    {
     "name": "stdout",
     "output_type": "stream",
     "text": [
      "Fitting 5 folds for each of 1 candidates, totalling 5 fits\n"
     ]
    },
    {
     "name": "stderr",
     "output_type": "stream",
     "text": [
      "[Parallel(n_jobs=-1)]: Done   2 out of   5 | elapsed:    2.9s remaining:    4.4s\n",
      "[Parallel(n_jobs=-1)]: Done   5 out of   5 | elapsed:    3.0s remaining:    0.0s\n",
      "[Parallel(n_jobs=-1)]: Done   5 out of   5 | elapsed:    3.0s finished\n",
      "[Parallel(n_jobs=-1)]: Using backend LokyBackend with 8 concurrent workers.\n"
     ]
    },
    {
     "name": "stdout",
     "output_type": "stream",
     "text": [
      "Fitting 5 folds for each of 1 candidates, totalling 5 fits\n"
     ]
    },
    {
     "name": "stderr",
     "output_type": "stream",
     "text": [
      "[Parallel(n_jobs=-1)]: Done   2 out of   5 | elapsed:    0.7s remaining:    1.1s\n",
      "[Parallel(n_jobs=-1)]: Done   5 out of   5 | elapsed:    0.7s remaining:    0.0s\n",
      "[Parallel(n_jobs=-1)]: Done   5 out of   5 | elapsed:    0.7s finished\n",
      "[Parallel(n_jobs=-1)]: Using backend LokyBackend with 8 concurrent workers.\n"
     ]
    },
    {
     "name": "stdout",
     "output_type": "stream",
     "text": [
      "Fitting 5 folds for each of 1 candidates, totalling 5 fits\n"
     ]
    },
    {
     "name": "stderr",
     "output_type": "stream",
     "text": [
      "[Parallel(n_jobs=-1)]: Done   2 out of   5 | elapsed:    1.4s remaining:    2.2s\n",
      "[Parallel(n_jobs=-1)]: Done   5 out of   5 | elapsed:    1.5s remaining:    0.0s\n",
      "[Parallel(n_jobs=-1)]: Done   5 out of   5 | elapsed:    1.5s finished\n",
      "[Parallel(n_jobs=-1)]: Using backend LokyBackend with 8 concurrent workers.\n"
     ]
    },
    {
     "name": "stdout",
     "output_type": "stream",
     "text": [
      "Fitting 5 folds for each of 1 candidates, totalling 5 fits\n"
     ]
    },
    {
     "name": "stderr",
     "output_type": "stream",
     "text": [
      "[Parallel(n_jobs=-1)]: Done   2 out of   5 | elapsed:    2.6s remaining:    3.9s\n",
      "[Parallel(n_jobs=-1)]: Done   5 out of   5 | elapsed:    2.7s remaining:    0.0s\n",
      "[Parallel(n_jobs=-1)]: Done   5 out of   5 | elapsed:    2.7s finished\n",
      "[Parallel(n_jobs=-1)]: Using backend LokyBackend with 8 concurrent workers.\n"
     ]
    },
    {
     "name": "stdout",
     "output_type": "stream",
     "text": [
      "Fitting 5 folds for each of 1 candidates, totalling 5 fits\n"
     ]
    },
    {
     "name": "stderr",
     "output_type": "stream",
     "text": [
      "[Parallel(n_jobs=-1)]: Done   2 out of   5 | elapsed:    0.3s remaining:    0.4s\n",
      "[Parallel(n_jobs=-1)]: Done   5 out of   5 | elapsed:    0.3s remaining:    0.0s\n",
      "[Parallel(n_jobs=-1)]: Done   5 out of   5 | elapsed:    0.3s finished\n",
      "[Parallel(n_jobs=-1)]: Using backend LokyBackend with 8 concurrent workers.\n"
     ]
    },
    {
     "name": "stdout",
     "output_type": "stream",
     "text": [
      "Fitting 5 folds for each of 1 candidates, totalling 5 fits\n"
     ]
    },
    {
     "name": "stderr",
     "output_type": "stream",
     "text": [
      "[Parallel(n_jobs=-1)]: Done   2 out of   5 | elapsed:    1.4s remaining:    2.2s\n",
      "[Parallel(n_jobs=-1)]: Done   5 out of   5 | elapsed:    1.5s remaining:    0.0s\n",
      "[Parallel(n_jobs=-1)]: Done   5 out of   5 | elapsed:    1.5s finished\n",
      "[Parallel(n_jobs=-1)]: Using backend LokyBackend with 8 concurrent workers.\n"
     ]
    },
    {
     "name": "stdout",
     "output_type": "stream",
     "text": [
      "Fitting 5 folds for each of 1 candidates, totalling 5 fits\n"
     ]
    },
    {
     "name": "stderr",
     "output_type": "stream",
     "text": [
      "[Parallel(n_jobs=-1)]: Done   2 out of   5 | elapsed:    0.9s remaining:    1.3s\n",
      "[Parallel(n_jobs=-1)]: Done   5 out of   5 | elapsed:    0.9s remaining:    0.0s\n",
      "[Parallel(n_jobs=-1)]: Done   5 out of   5 | elapsed:    0.9s finished\n",
      "[Parallel(n_jobs=-1)]: Using backend LokyBackend with 8 concurrent workers.\n"
     ]
    },
    {
     "name": "stdout",
     "output_type": "stream",
     "text": [
      "Fitting 5 folds for each of 1 candidates, totalling 5 fits\n"
     ]
    },
    {
     "name": "stderr",
     "output_type": "stream",
     "text": [
      "[Parallel(n_jobs=-1)]: Done   2 out of   5 | elapsed:    0.3s remaining:    0.4s\n",
      "[Parallel(n_jobs=-1)]: Done   5 out of   5 | elapsed:    0.3s remaining:    0.0s\n",
      "[Parallel(n_jobs=-1)]: Done   5 out of   5 | elapsed:    0.3s finished\n",
      "[Parallel(n_jobs=-1)]: Using backend LokyBackend with 8 concurrent workers.\n"
     ]
    },
    {
     "name": "stdout",
     "output_type": "stream",
     "text": [
      "Fitting 5 folds for each of 1 candidates, totalling 5 fits\n"
     ]
    },
    {
     "name": "stderr",
     "output_type": "stream",
     "text": [
      "[Parallel(n_jobs=-1)]: Done   2 out of   5 | elapsed:    2.0s remaining:    3.1s\n",
      "[Parallel(n_jobs=-1)]: Done   5 out of   5 | elapsed:    2.1s remaining:    0.0s\n",
      "[Parallel(n_jobs=-1)]: Done   5 out of   5 | elapsed:    2.1s finished\n",
      "[Parallel(n_jobs=-1)]: Using backend LokyBackend with 8 concurrent workers.\n"
     ]
    },
    {
     "name": "stdout",
     "output_type": "stream",
     "text": [
      "Fitting 5 folds for each of 1 candidates, totalling 5 fits\n"
     ]
    },
    {
     "name": "stderr",
     "output_type": "stream",
     "text": [
      "[Parallel(n_jobs=-1)]: Done   2 out of   5 | elapsed:    0.9s remaining:    1.4s\n",
      "[Parallel(n_jobs=-1)]: Done   5 out of   5 | elapsed:    1.0s remaining:    0.0s\n",
      "[Parallel(n_jobs=-1)]: Done   5 out of   5 | elapsed:    1.0s finished\n",
      "[Parallel(n_jobs=-1)]: Using backend LokyBackend with 8 concurrent workers.\n"
     ]
    },
    {
     "name": "stdout",
     "output_type": "stream",
     "text": [
      "Fitting 5 folds for each of 1 candidates, totalling 5 fits\n"
     ]
    },
    {
     "name": "stderr",
     "output_type": "stream",
     "text": [
      "[Parallel(n_jobs=-1)]: Done   2 out of   5 | elapsed:    0.7s remaining:    1.1s\n",
      "[Parallel(n_jobs=-1)]: Done   5 out of   5 | elapsed:    0.7s remaining:    0.0s\n",
      "[Parallel(n_jobs=-1)]: Done   5 out of   5 | elapsed:    0.7s finished\n",
      "[Parallel(n_jobs=-1)]: Using backend LokyBackend with 8 concurrent workers.\n"
     ]
    },
    {
     "name": "stdout",
     "output_type": "stream",
     "text": [
      "Fitting 5 folds for each of 1 candidates, totalling 5 fits\n"
     ]
    },
    {
     "name": "stderr",
     "output_type": "stream",
     "text": [
      "[Parallel(n_jobs=-1)]: Done   2 out of   5 | elapsed:    0.9s remaining:    1.4s\n",
      "[Parallel(n_jobs=-1)]: Done   5 out of   5 | elapsed:    1.0s remaining:    0.0s\n",
      "[Parallel(n_jobs=-1)]: Done   5 out of   5 | elapsed:    1.0s finished\n",
      "[Parallel(n_jobs=-1)]: Using backend LokyBackend with 8 concurrent workers.\n"
     ]
    },
    {
     "name": "stdout",
     "output_type": "stream",
     "text": [
      "Fitting 5 folds for each of 1 candidates, totalling 5 fits\n"
     ]
    },
    {
     "name": "stderr",
     "output_type": "stream",
     "text": [
      "[Parallel(n_jobs=-1)]: Done   2 out of   5 | elapsed:    2.7s remaining:    4.1s\n",
      "[Parallel(n_jobs=-1)]: Done   5 out of   5 | elapsed:    2.9s remaining:    0.0s\n",
      "[Parallel(n_jobs=-1)]: Done   5 out of   5 | elapsed:    2.9s finished\n",
      "[Parallel(n_jobs=-1)]: Using backend LokyBackend with 8 concurrent workers.\n"
     ]
    },
    {
     "name": "stdout",
     "output_type": "stream",
     "text": [
      "Fitting 5 folds for each of 1 candidates, totalling 5 fits\n"
     ]
    },
    {
     "name": "stderr",
     "output_type": "stream",
     "text": [
      "[Parallel(n_jobs=-1)]: Done   2 out of   5 | elapsed:    0.7s remaining:    1.2s\n",
      "[Parallel(n_jobs=-1)]: Done   5 out of   5 | elapsed:    0.8s remaining:    0.0s\n",
      "[Parallel(n_jobs=-1)]: Done   5 out of   5 | elapsed:    0.8s finished\n",
      "[Parallel(n_jobs=-1)]: Using backend LokyBackend with 8 concurrent workers.\n"
     ]
    },
    {
     "name": "stdout",
     "output_type": "stream",
     "text": [
      "Fitting 5 folds for each of 1 candidates, totalling 5 fits\n"
     ]
    },
    {
     "name": "stderr",
     "output_type": "stream",
     "text": [
      "[Parallel(n_jobs=-1)]: Done   2 out of   5 | elapsed:    3.4s remaining:    5.2s\n",
      "[Parallel(n_jobs=-1)]: Done   5 out of   5 | elapsed:    3.6s remaining:    0.0s\n",
      "[Parallel(n_jobs=-1)]: Done   5 out of   5 | elapsed:    3.6s finished\n",
      "[Parallel(n_jobs=-1)]: Using backend LokyBackend with 8 concurrent workers.\n"
     ]
    },
    {
     "name": "stdout",
     "output_type": "stream",
     "text": [
      "Fitting 5 folds for each of 1 candidates, totalling 5 fits\n"
     ]
    },
    {
     "name": "stderr",
     "output_type": "stream",
     "text": [
      "[Parallel(n_jobs=-1)]: Done   2 out of   5 | elapsed:    3.6s remaining:    5.4s\n",
      "[Parallel(n_jobs=-1)]: Done   5 out of   5 | elapsed:    3.7s remaining:    0.0s\n",
      "[Parallel(n_jobs=-1)]: Done   5 out of   5 | elapsed:    3.7s finished\n"
     ]
    },
    {
     "ename": "AttributeError",
     "evalue": "'NoneType' object has no attribute 'copy'",
     "output_type": "error",
     "traceback": [
      "\u001b[1;31m---------------------------------------------------------------------------\u001b[0m",
      "\u001b[1;31mAttributeError\u001b[0m                            Traceback (most recent call last)",
      "\u001b[1;32m<timed exec>\u001b[0m in \u001b[0;36m<module>\u001b[1;34m\u001b[0m\n",
      "\u001b[1;32mD:\\DOWNLOADS\\Anconda\\envs\\dna\\lib\\site-packages\\sklearn\\model_selection\\_search.py\u001b[0m in \u001b[0;36mfit\u001b[1;34m(self, X, y, groups, **fit_params)\u001b[0m\n\u001b[0;32m    708\u001b[0m                 \u001b[1;32mreturn\u001b[0m \u001b[0mresults\u001b[0m\u001b[1;33m\u001b[0m\u001b[1;33m\u001b[0m\u001b[0m\n\u001b[0;32m    709\u001b[0m \u001b[1;33m\u001b[0m\u001b[0m\n\u001b[1;32m--> 710\u001b[1;33m             \u001b[0mself\u001b[0m\u001b[1;33m.\u001b[0m\u001b[0m_run_search\u001b[0m\u001b[1;33m(\u001b[0m\u001b[0mevaluate_candidates\u001b[0m\u001b[1;33m)\u001b[0m\u001b[1;33m\u001b[0m\u001b[1;33m\u001b[0m\u001b[0m\n\u001b[0m\u001b[0;32m    711\u001b[0m \u001b[1;33m\u001b[0m\u001b[0m\n\u001b[0;32m    712\u001b[0m         \u001b[1;31m# For multi-metric evaluation, store the best_index_, best_params_ and\u001b[0m\u001b[1;33m\u001b[0m\u001b[1;33m\u001b[0m\u001b[1;33m\u001b[0m\u001b[0m\n",
      "\u001b[1;32mD:\\DOWNLOADS\\Anconda\\envs\\dna\\lib\\site-packages\\sklearn_nature_inspired_algorithms\\model_selection\\nature_inspired_search_cv.py\u001b[0m in \u001b[0;36m_run_search\u001b[1;34m(self, evaluate_candidates)\u001b[0m\n\u001b[0;32m     32\u001b[0m \u001b[1;33m\u001b[0m\u001b[0m\n\u001b[0;32m     33\u001b[0m             \u001b[1;32mif\u001b[0m \u001b[0mself\u001b[0m\u001b[1;33m.\u001b[0m\u001b[0m__algorithm\u001b[0m\u001b[1;33m.\u001b[0m\u001b[0mexception\u001b[0m\u001b[1;33m:\u001b[0m\u001b[1;33m\u001b[0m\u001b[1;33m\u001b[0m\u001b[0m\n\u001b[1;32m---> 34\u001b[1;33m                 \u001b[1;32mraise\u001b[0m \u001b[0mself\u001b[0m\u001b[1;33m.\u001b[0m\u001b[0m__algorithm\u001b[0m\u001b[1;33m.\u001b[0m\u001b[0mexception\u001b[0m\u001b[1;33m\u001b[0m\u001b[1;33m\u001b[0m\u001b[0m\n\u001b[0m\u001b[0;32m     35\u001b[0m \u001b[1;33m\u001b[0m\u001b[0m\n\u001b[0;32m     36\u001b[0m             \u001b[1;31m# invert scores in the optimization logs\u001b[0m\u001b[1;33m\u001b[0m\u001b[1;33m\u001b[0m\u001b[1;33m\u001b[0m\u001b[0m\n",
      "\u001b[1;32mD:\\DOWNLOADS\\Anconda\\envs\\dna\\lib\\site-packages\\NiaPy\\algorithms\\algorithm.py\u001b[0m in \u001b[0;36mrun\u001b[1;34m(self, task)\u001b[0m\n\u001b[0;32m    333\u001b[0m                 \u001b[1;32mtry\u001b[0m\u001b[1;33m:\u001b[0m\u001b[1;33m\u001b[0m\u001b[1;33m\u001b[0m\u001b[0m\n\u001b[0;32m    334\u001b[0m                         \u001b[1;31m# task.start()\u001b[0m\u001b[1;33m\u001b[0m\u001b[1;33m\u001b[0m\u001b[1;33m\u001b[0m\u001b[0m\n\u001b[1;32m--> 335\u001b[1;33m                         \u001b[0mr\u001b[0m \u001b[1;33m=\u001b[0m \u001b[0mself\u001b[0m\u001b[1;33m.\u001b[0m\u001b[0mrunTask\u001b[0m\u001b[1;33m(\u001b[0m\u001b[0mtask\u001b[0m\u001b[1;33m)\u001b[0m\u001b[1;33m\u001b[0m\u001b[1;33m\u001b[0m\u001b[0m\n\u001b[0m\u001b[0;32m    336\u001b[0m                         \u001b[1;32mreturn\u001b[0m \u001b[0mr\u001b[0m\u001b[1;33m[\u001b[0m\u001b[1;36m0\u001b[0m\u001b[1;33m]\u001b[0m\u001b[1;33m,\u001b[0m \u001b[0mr\u001b[0m\u001b[1;33m[\u001b[0m\u001b[1;36m1\u001b[0m\u001b[1;33m]\u001b[0m \u001b[1;33m*\u001b[0m \u001b[0mtask\u001b[0m\u001b[1;33m.\u001b[0m\u001b[0moptType\u001b[0m\u001b[1;33m.\u001b[0m\u001b[0mvalue\u001b[0m\u001b[1;33m\u001b[0m\u001b[1;33m\u001b[0m\u001b[0m\n\u001b[0;32m    337\u001b[0m                 \u001b[1;32mexcept\u001b[0m \u001b[1;33m(\u001b[0m\u001b[0mFesException\u001b[0m\u001b[1;33m,\u001b[0m \u001b[0mGenException\u001b[0m\u001b[1;33m,\u001b[0m \u001b[0mTimeException\u001b[0m\u001b[1;33m,\u001b[0m \u001b[0mRefException\u001b[0m\u001b[1;33m)\u001b[0m\u001b[1;33m:\u001b[0m \u001b[1;32mreturn\u001b[0m \u001b[0mtask\u001b[0m\u001b[1;33m.\u001b[0m\u001b[0mx\u001b[0m\u001b[1;33m,\u001b[0m \u001b[0mtask\u001b[0m\u001b[1;33m.\u001b[0m\u001b[0mx_f\u001b[0m \u001b[1;33m*\u001b[0m \u001b[0mtask\u001b[0m\u001b[1;33m.\u001b[0m\u001b[0moptType\u001b[0m\u001b[1;33m.\u001b[0m\u001b[0mvalue\u001b[0m\u001b[1;33m\u001b[0m\u001b[1;33m\u001b[0m\u001b[0m\n",
      "\u001b[1;32mD:\\DOWNLOADS\\Anconda\\envs\\dna\\lib\\site-packages\\NiaPy\\algorithms\\algorithm.py\u001b[0m in \u001b[0;36mrunTask\u001b[1;34m(self, task)\u001b[0m\n\u001b[0;32m    313\u001b[0m                 \u001b[0malgo\u001b[0m\u001b[1;33m,\u001b[0m \u001b[0mxb\u001b[0m\u001b[1;33m,\u001b[0m \u001b[0mfxb\u001b[0m \u001b[1;33m=\u001b[0m \u001b[0mself\u001b[0m\u001b[1;33m.\u001b[0m\u001b[0mrunYield\u001b[0m\u001b[1;33m(\u001b[0m\u001b[0mtask\u001b[0m\u001b[1;33m)\u001b[0m\u001b[1;33m,\u001b[0m \u001b[1;32mNone\u001b[0m\u001b[1;33m,\u001b[0m \u001b[0minf\u001b[0m\u001b[1;33m\u001b[0m\u001b[1;33m\u001b[0m\u001b[0m\n\u001b[0;32m    314\u001b[0m                 \u001b[1;32mwhile\u001b[0m \u001b[1;32mnot\u001b[0m \u001b[0mtask\u001b[0m\u001b[1;33m.\u001b[0m\u001b[0mstopCond\u001b[0m\u001b[1;33m(\u001b[0m\u001b[1;33m)\u001b[0m\u001b[1;33m:\u001b[0m\u001b[1;33m\u001b[0m\u001b[1;33m\u001b[0m\u001b[0m\n\u001b[1;32m--> 315\u001b[1;33m                         \u001b[0mxb\u001b[0m\u001b[1;33m,\u001b[0m \u001b[0mfxb\u001b[0m \u001b[1;33m=\u001b[0m \u001b[0mnext\u001b[0m\u001b[1;33m(\u001b[0m\u001b[0malgo\u001b[0m\u001b[1;33m)\u001b[0m\u001b[1;33m\u001b[0m\u001b[1;33m\u001b[0m\u001b[0m\n\u001b[0m\u001b[0;32m    316\u001b[0m                         \u001b[0mtask\u001b[0m\u001b[1;33m.\u001b[0m\u001b[0mnextIter\u001b[0m\u001b[1;33m(\u001b[0m\u001b[1;33m)\u001b[0m\u001b[1;33m\u001b[0m\u001b[1;33m\u001b[0m\u001b[0m\n\u001b[0;32m    317\u001b[0m                 \u001b[1;32mreturn\u001b[0m \u001b[0mxb\u001b[0m\u001b[1;33m,\u001b[0m \u001b[0mfxb\u001b[0m\u001b[1;33m\u001b[0m\u001b[1;33m\u001b[0m\u001b[0m\n",
      "\u001b[1;32mD:\\DOWNLOADS\\Anconda\\envs\\dna\\lib\\site-packages\\NiaPy\\algorithms\\algorithm.py\u001b[0m in \u001b[0;36mrunYield\u001b[1;34m(self, task)\u001b[0m\n\u001b[0;32m    291\u001b[0m \t\t\"\"\"\n\u001b[0;32m    292\u001b[0m                 \u001b[0mpop\u001b[0m\u001b[1;33m,\u001b[0m \u001b[0mfpop\u001b[0m\u001b[1;33m,\u001b[0m \u001b[0mdparams\u001b[0m \u001b[1;33m=\u001b[0m \u001b[0mself\u001b[0m\u001b[1;33m.\u001b[0m\u001b[0minitPopulation\u001b[0m\u001b[1;33m(\u001b[0m\u001b[0mtask\u001b[0m\u001b[1;33m)\u001b[0m\u001b[1;33m\u001b[0m\u001b[1;33m\u001b[0m\u001b[0m\n\u001b[1;32m--> 293\u001b[1;33m                 \u001b[0mxb\u001b[0m\u001b[1;33m,\u001b[0m \u001b[0mfxb\u001b[0m \u001b[1;33m=\u001b[0m \u001b[0mself\u001b[0m\u001b[1;33m.\u001b[0m\u001b[0mgetBest\u001b[0m\u001b[1;33m(\u001b[0m\u001b[0mpop\u001b[0m\u001b[1;33m,\u001b[0m \u001b[0mfpop\u001b[0m\u001b[1;33m)\u001b[0m\u001b[1;33m\u001b[0m\u001b[1;33m\u001b[0m\u001b[0m\n\u001b[0m\u001b[0;32m    294\u001b[0m                 \u001b[1;32myield\u001b[0m \u001b[0mxb\u001b[0m\u001b[1;33m,\u001b[0m \u001b[0mfxb\u001b[0m\u001b[1;33m\u001b[0m\u001b[1;33m\u001b[0m\u001b[0m\n\u001b[0;32m    295\u001b[0m                 \u001b[1;32mwhile\u001b[0m \u001b[1;32mTrue\u001b[0m\u001b[1;33m:\u001b[0m\u001b[1;33m\u001b[0m\u001b[1;33m\u001b[0m\u001b[0m\n",
      "\u001b[1;32mD:\\DOWNLOADS\\Anconda\\envs\\dna\\lib\\site-packages\\NiaPy\\algorithms\\algorithm.py\u001b[0m in \u001b[0;36mgetBest\u001b[1;34m(self, X, X_f, xb, xb_f)\u001b[0m\n\u001b[0;32m    226\u001b[0m                 \u001b[1;32mif\u001b[0m \u001b[0misinstance\u001b[0m\u001b[1;33m(\u001b[0m\u001b[0mX_f\u001b[0m\u001b[1;33m,\u001b[0m \u001b[1;33m(\u001b[0m\u001b[0mfloat\u001b[0m\u001b[1;33m,\u001b[0m \u001b[0mint\u001b[0m\u001b[1;33m)\u001b[0m\u001b[1;33m)\u001b[0m \u001b[1;32mand\u001b[0m \u001b[0mxb_f\u001b[0m \u001b[1;33m>=\u001b[0m \u001b[0mX_f\u001b[0m\u001b[1;33m:\u001b[0m \u001b[0mxb\u001b[0m\u001b[1;33m,\u001b[0m \u001b[0mxb_f\u001b[0m \u001b[1;33m=\u001b[0m \u001b[0mX\u001b[0m\u001b[1;33m,\u001b[0m \u001b[0mX_f\u001b[0m\u001b[1;33m\u001b[0m\u001b[1;33m\u001b[0m\u001b[0m\n\u001b[0;32m    227\u001b[0m                 \u001b[1;32melif\u001b[0m \u001b[0misinstance\u001b[0m\u001b[1;33m(\u001b[0m\u001b[0mX_f\u001b[0m\u001b[1;33m,\u001b[0m \u001b[1;33m(\u001b[0m\u001b[0mndarray\u001b[0m\u001b[1;33m,\u001b[0m \u001b[0mlist\u001b[0m\u001b[1;33m)\u001b[0m\u001b[1;33m)\u001b[0m \u001b[1;32mand\u001b[0m \u001b[0mxb_f\u001b[0m \u001b[1;33m>=\u001b[0m \u001b[0mX_f\u001b[0m\u001b[1;33m[\u001b[0m\u001b[0mib\u001b[0m\u001b[1;33m]\u001b[0m\u001b[1;33m:\u001b[0m \u001b[0mxb\u001b[0m\u001b[1;33m,\u001b[0m \u001b[0mxb_f\u001b[0m \u001b[1;33m=\u001b[0m \u001b[0mX\u001b[0m\u001b[1;33m[\u001b[0m\u001b[0mib\u001b[0m\u001b[1;33m]\u001b[0m\u001b[1;33m,\u001b[0m \u001b[0mX_f\u001b[0m\u001b[1;33m[\u001b[0m\u001b[0mib\u001b[0m\u001b[1;33m]\u001b[0m\u001b[1;33m\u001b[0m\u001b[1;33m\u001b[0m\u001b[0m\n\u001b[1;32m--> 228\u001b[1;33m                 \u001b[1;32mreturn\u001b[0m \u001b[1;33m(\u001b[0m\u001b[0mxb\u001b[0m\u001b[1;33m.\u001b[0m\u001b[0mx\u001b[0m\u001b[1;33m.\u001b[0m\u001b[0mcopy\u001b[0m\u001b[1;33m(\u001b[0m\u001b[1;33m)\u001b[0m \u001b[1;32mif\u001b[0m \u001b[0misinstance\u001b[0m\u001b[1;33m(\u001b[0m\u001b[0mxb\u001b[0m\u001b[1;33m,\u001b[0m \u001b[0mIndividual\u001b[0m\u001b[1;33m)\u001b[0m \u001b[1;32melse\u001b[0m \u001b[0mxb\u001b[0m\u001b[1;33m.\u001b[0m\u001b[0mcopy\u001b[0m\u001b[1;33m(\u001b[0m\u001b[1;33m)\u001b[0m\u001b[1;33m)\u001b[0m\u001b[1;33m,\u001b[0m \u001b[0mxb_f\u001b[0m\u001b[1;33m\u001b[0m\u001b[1;33m\u001b[0m\u001b[0m\n\u001b[0m\u001b[0;32m    229\u001b[0m \u001b[1;33m\u001b[0m\u001b[0m\n\u001b[0;32m    230\u001b[0m         \u001b[1;32mdef\u001b[0m \u001b[0minitPopulation\u001b[0m\u001b[1;33m(\u001b[0m\u001b[0mself\u001b[0m\u001b[1;33m,\u001b[0m \u001b[0mtask\u001b[0m\u001b[1;33m)\u001b[0m\u001b[1;33m:\u001b[0m\u001b[1;33m\u001b[0m\u001b[1;33m\u001b[0m\u001b[0m\n",
      "\u001b[1;31mAttributeError\u001b[0m: 'NoneType' object has no attribute 'copy'"
     ]
    }
   ],
   "source": [
    "%%time\n",
    "scores = []\n",
    "best_estimators = {}\n",
    "import pandas as pd\n",
    "for algo, mp in model_params.items():\n",
    "    pipe = make_pipeline(StandardScaler(), mp['model'])\n",
    "    clf = NatureInspiredSearchCV(pipe, mp['params'], cv=5,verbose=2,\n",
    "    algorithm='ba', #  bat algorithm\n",
    "    population_size=50,\n",
    "    max_n_gen=100,\n",
    "    max_stagnating_gen=20,\n",
    "    runs=5,\n",
    "    n_jobs=-1,\n",
    "    random_state=42)\n",
    "    clf.fit(X_train, y_train)\n",
    "    scores.append({\n",
    "        'model': algo,\n",
    "        'best_score': clf.best_score_,\n",
    "        'best_params': clf.best_params_\n",
    "    })\n",
    "    best_estimators[algo] = clf.best_estimator_\n",
    "    \n",
    "df = pd.DataFrame(scores,columns=['model','best_score','best_params'])\n",
    "df"
   ]
  },
  {
   "cell_type": "code",
   "execution_count": null,
   "id": "02e430ea",
   "metadata": {},
   "outputs": [],
   "source": []
  }
 ],
 "metadata": {
  "kernelspec": {
   "display_name": "Python 3 (ipykernel)",
   "language": "python",
   "name": "python3"
  },
  "language_info": {
   "codemirror_mode": {
    "name": "ipython",
    "version": 3
   },
   "file_extension": ".py",
   "mimetype": "text/x-python",
   "name": "python",
   "nbconvert_exporter": "python",
   "pygments_lexer": "ipython3",
   "version": "3.7.11"
  }
 },
 "nbformat": 4,
 "nbformat_minor": 5
}
